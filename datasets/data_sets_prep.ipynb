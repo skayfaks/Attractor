{
 "cells": [
  {
   "cell_type": "code",
   "execution_count": 1,
   "metadata": {},
   "outputs": [],
   "source": [
    "import pandas as pd"
   ]
  },
  {
   "cell_type": "code",
   "execution_count": 2,
   "metadata": {},
   "outputs": [],
   "source": [
    "df_2022 = pd.read_csv('df_2022.csv')\n",
    "df_2023 = pd.read_csv('df_2023.csv')\n",
    "df_sep_label = pd.read_csv('df_sep_label.csv')"
   ]
  },
  {
   "cell_type": "code",
   "execution_count": 3,
   "metadata": {},
   "outputs": [],
   "source": [
    "df_22_23 = pd.concat([df_2022, df_2023])"
   ]
  },
  {
   "cell_type": "code",
   "execution_count": 4,
   "metadata": {},
   "outputs": [
    {
     "name": "stdout",
     "output_type": "stream",
     "text": [
      "<class 'pandas.core.frame.DataFrame'>\n",
      "Int64Index: 83947 entries, 0 to 43118\n",
      "Data columns (total 8 columns):\n",
      " #   Column                                                                                               Non-Null Count  Dtype  \n",
      "---  ------                                                                                               --------------  -----  \n",
      " 0   Закупки по                                                                                           83947 non-null  object \n",
      " 1   Реестровый номер закупки                                                                             83947 non-null  object \n",
      " 2   Способ определения поставщика (подрядчика, исполнителя), подрядной организации (размещения закупки)  83947 non-null  object \n",
      " 3   Наименование закупки                                                                                 83946 non-null  object \n",
      " 4   Начальная (максимальная) цена контракта                                                              83947 non-null  float64\n",
      " 5   Классификация по ОКПД2                                                                               83899 non-null  object \n",
      " 6   Наименование Заказчика                                                                               83508 non-null  object \n",
      " 7   Дата размещения                                                                                      83947 non-null  object \n",
      "dtypes: float64(1), object(7)\n",
      "memory usage: 5.8+ MB\n"
     ]
    }
   ],
   "source": [
    "df_22_23.info()"
   ]
  },
  {
   "cell_type": "code",
   "execution_count": 5,
   "metadata": {},
   "outputs": [
    {
     "data": {
      "text/html": [
       "<div>\n",
       "<style scoped>\n",
       "    .dataframe tbody tr th:only-of-type {\n",
       "        vertical-align: middle;\n",
       "    }\n",
       "\n",
       "    .dataframe tbody tr th {\n",
       "        vertical-align: top;\n",
       "    }\n",
       "\n",
       "    .dataframe thead th {\n",
       "        text-align: right;\n",
       "    }\n",
       "</style>\n",
       "<table border=\"1\" class=\"dataframe\">\n",
       "  <thead>\n",
       "    <tr style=\"text-align: right;\">\n",
       "      <th></th>\n",
       "      <th>Закупки по</th>\n",
       "      <th>Реестровый номер закупки</th>\n",
       "      <th>Способ определения поставщика (подрядчика, исполнителя), подрядной организации (размещения закупки)</th>\n",
       "      <th>Наименование закупки</th>\n",
       "      <th>Начальная (максимальная) цена контракта</th>\n",
       "      <th>Классификация по ОКПД2</th>\n",
       "      <th>Наименование Заказчика</th>\n",
       "      <th>Дата размещения</th>\n",
       "    </tr>\n",
       "  </thead>\n",
       "  <tbody>\n",
       "    <tr>\n",
       "      <th>16155</th>\n",
       "      <td>223-ФЗ</td>\n",
       "      <td>№32211437163</td>\n",
       "      <td>Конкурс в электронной форме, участниками котор...</td>\n",
       "      <td>Право заключения договора на Оказание услуг по...</td>\n",
       "      <td>70458361.20</td>\n",
       "      <td>62.02.30.000: Услуги по технической поддержке ...</td>\n",
       "      <td>АКЦИОНЕРНОЕ ОБЩЕСТВО \"РОССИЙСКИЙ КОНЦЕРН ПО ПР...</td>\n",
       "      <td>01.06.2022</td>\n",
       "    </tr>\n",
       "    <tr>\n",
       "      <th>11002</th>\n",
       "      <td>44-ФЗ</td>\n",
       "      <td>№0352100014323000038</td>\n",
       "      <td>Электронный аукцион</td>\n",
       "      <td>Услуги по программному сопровождению (техничес...</td>\n",
       "      <td>165600.00</td>\n",
       "      <td>62.03.12.130: Услуги по сопровождению компьюте...</td>\n",
       "      <td>БЮДЖЕТНОЕ УЧРЕЖДЕНИЕ ЗДРАВООХРАНЕНИЯ ОМСКОЙ ОБ...</td>\n",
       "      <td>05.04.2023</td>\n",
       "    </tr>\n",
       "    <tr>\n",
       "      <th>9010</th>\n",
       "      <td>44-ФЗ</td>\n",
       "      <td>№0348100039623000017</td>\n",
       "      <td>Электронный аукцион</td>\n",
       "      <td>услуга по предоставлению срочного не исключите...</td>\n",
       "      <td>61750.00</td>\n",
       "      <td>62.01.29.000: Оригиналы программного обеспечен...</td>\n",
       "      <td>ФЕДЕРАЛЬНОЕ КАЗЕННОЕ УЧРЕЖДЕНИЕ ЗДРАВООХРАНЕНИ...</td>\n",
       "      <td>27.04.2023</td>\n",
       "    </tr>\n",
       "    <tr>\n",
       "      <th>17666</th>\n",
       "      <td>44-ФЗ</td>\n",
       "      <td>№0175300035122000038</td>\n",
       "      <td>Запрос котировок в электронной форме</td>\n",
       "      <td>Оказание услуг по автоматизации комплексной си...</td>\n",
       "      <td>94000.02</td>\n",
       "      <td>62.03.12.130: Услуги по сопровождению компьюте...</td>\n",
       "      <td>ДЕПАРТАМЕНТ ИМУЩЕСТВЕННЫХ И ЗЕМЕЛЬНЫХ ОТНОШЕНИ...</td>\n",
       "      <td>08.07.2022</td>\n",
       "    </tr>\n",
       "    <tr>\n",
       "      <th>29963</th>\n",
       "      <td>44-ФЗ</td>\n",
       "      <td>№0187200001723002117</td>\n",
       "      <td>Запрос котировок в электронной форме</td>\n",
       "      <td>Выполнение работ по созданию информационной си...</td>\n",
       "      <td>2000000.00</td>\n",
       "      <td>62.01.29.000: Оригиналы программного обеспечен...</td>\n",
       "      <td>ДЕПАРТАМЕНТ ИНФОРМАЦИОННЫХ ТЕХНОЛОГИЙ И ЦИФРОВ...</td>\n",
       "      <td>17.11.2023</td>\n",
       "    </tr>\n",
       "  </tbody>\n",
       "</table>\n",
       "</div>"
      ],
      "text/plain": [
       "      Закупки по Реестровый номер закупки  \\\n",
       "16155     223-ФЗ             №32211437163   \n",
       "11002      44-ФЗ     №0352100014323000038   \n",
       "9010       44-ФЗ     №0348100039623000017   \n",
       "17666      44-ФЗ     №0175300035122000038   \n",
       "29963      44-ФЗ     №0187200001723002117   \n",
       "\n",
       "      Способ определения поставщика (подрядчика, исполнителя), подрядной организации (размещения закупки)  \\\n",
       "16155  Конкурс в электронной форме, участниками котор...                                                    \n",
       "11002                                Электронный аукцион                                                    \n",
       "9010                                 Электронный аукцион                                                    \n",
       "17666               Запрос котировок в электронной форме                                                    \n",
       "29963               Запрос котировок в электронной форме                                                    \n",
       "\n",
       "                                    Наименование закупки  \\\n",
       "16155  Право заключения договора на Оказание услуг по...   \n",
       "11002  Услуги по программному сопровождению (техничес...   \n",
       "9010   услуга по предоставлению срочного не исключите...   \n",
       "17666  Оказание услуг по автоматизации комплексной си...   \n",
       "29963  Выполнение работ по созданию информационной си...   \n",
       "\n",
       "       Начальная (максимальная) цена контракта  \\\n",
       "16155                              70458361.20   \n",
       "11002                                165600.00   \n",
       "9010                                  61750.00   \n",
       "17666                                 94000.02   \n",
       "29963                               2000000.00   \n",
       "\n",
       "                                  Классификация по ОКПД2  \\\n",
       "16155  62.02.30.000: Услуги по технической поддержке ...   \n",
       "11002  62.03.12.130: Услуги по сопровождению компьюте...   \n",
       "9010   62.01.29.000: Оригиналы программного обеспечен...   \n",
       "17666  62.03.12.130: Услуги по сопровождению компьюте...   \n",
       "29963  62.01.29.000: Оригиналы программного обеспечен...   \n",
       "\n",
       "                                  Наименование Заказчика Дата размещения  \n",
       "16155  АКЦИОНЕРНОЕ ОБЩЕСТВО \"РОССИЙСКИЙ КОНЦЕРН ПО ПР...      01.06.2022  \n",
       "11002  БЮДЖЕТНОЕ УЧРЕЖДЕНИЕ ЗДРАВООХРАНЕНИЯ ОМСКОЙ ОБ...      05.04.2023  \n",
       "9010   ФЕДЕРАЛЬНОЕ КАЗЕННОЕ УЧРЕЖДЕНИЕ ЗДРАВООХРАНЕНИ...      27.04.2023  \n",
       "17666  ДЕПАРТАМЕНТ ИМУЩЕСТВЕННЫХ И ЗЕМЕЛЬНЫХ ОТНОШЕНИ...      08.07.2022  \n",
       "29963  ДЕПАРТАМЕНТ ИНФОРМАЦИОННЫХ ТЕХНОЛОГИЙ И ЦИФРОВ...      17.11.2023  "
      ]
     },
     "execution_count": 5,
     "metadata": {},
     "output_type": "execute_result"
    }
   ],
   "source": [
    "df_22_23.sample(5)"
   ]
  },
  {
   "cell_type": "code",
   "execution_count": 6,
   "metadata": {},
   "outputs": [],
   "source": [
    "df_22_23 = df_22_23.rename({'Наименование закупки': 'ord_title'}, axis=1)\n",
    "df_22_23 = df_22_23.rename({'Классификация по ОКПД2_x': 'okpd2'}, axis=1)\n",
    "df_22_23 = df_22_23.rename({'Реестровый номер закупки': 'ord_no'}, axis=1)\n",
    "\n",
    "df_22_23 = df_22_23.reset_index(drop=True)\n",
    "df_22_23.to_json('df_22_23.json')\n",
    "df_22_23.to_csv('df_22_23.csv')"
   ]
  },
  {
   "cell_type": "code",
   "execution_count": 7,
   "metadata": {},
   "outputs": [
    {
     "name": "stdout",
     "output_type": "stream",
     "text": [
      "<class 'pandas.core.frame.DataFrame'>\n",
      "RangeIndex: 3204 entries, 0 to 3203\n",
      "Data columns (total 6 columns):\n",
      " #   Column                    Non-Null Count  Dtype \n",
      "---  ------                    --------------  ----- \n",
      " 0   sentiment                 3204 non-null   object\n",
      " 1   Классификация по ОКПД2_x  3202 non-null   object\n",
      " 2   Наименование закупки_x    3204 non-null   object\n",
      " 3   Реестровый номер закупки  3204 non-null   object\n",
      " 4   Закупки по                3204 non-null   object\n",
      " 5   Дата размещения           3204 non-null   object\n",
      "dtypes: object(6)\n",
      "memory usage: 150.3+ KB\n"
     ]
    }
   ],
   "source": [
    "df_sep_label.info()\n",
    "df_sep_label = df_sep_label.rename({'Наименование закупки_x': 'ord_title'}, axis=1)\n",
    "df_sep_label = df_sep_label.rename({'Классификация по ОКПД2_x': 'okpd2'}, axis=1)\n",
    "df_sep_label.to_csv('df_lable.json')\n"
   ]
  },
  {
   "cell_type": "code",
   "execution_count": 8,
   "metadata": {},
   "outputs": [
    {
     "name": "stdout",
     "output_type": "stream",
     "text": [
      "<class 'pandas.core.frame.DataFrame'>\n",
      "RangeIndex: 3204 entries, 0 to 3203\n",
      "Data columns (total 6 columns):\n",
      " #   Column                    Non-Null Count  Dtype \n",
      "---  ------                    --------------  ----- \n",
      " 0   sentiment                 3204 non-null   object\n",
      " 1   okpd2                     3202 non-null   object\n",
      " 2   ord_title                 3204 non-null   object\n",
      " 3   Реестровый номер закупки  3204 non-null   object\n",
      " 4   Закупки по                3204 non-null   object\n",
      " 5   Дата размещения           3204 non-null   object\n",
      "dtypes: object(6)\n",
      "memory usage: 150.3+ KB\n"
     ]
    }
   ],
   "source": [
    "df_sep_label.info()"
   ]
  },
  {
   "cell_type": "code",
   "execution_count": 9,
   "metadata": {},
   "outputs": [],
   "source": [
    "df = pd.read_csv('project-4-at-2024-03-12-19-22-16cf4104.csv')"
   ]
  },
  {
   "cell_type": "code",
   "execution_count": 10,
   "metadata": {},
   "outputs": [
    {
     "data": {
      "text/html": [
       "<div>\n",
       "<style scoped>\n",
       "    .dataframe tbody tr th:only-of-type {\n",
       "        vertical-align: middle;\n",
       "    }\n",
       "\n",
       "    .dataframe tbody tr th {\n",
       "        vertical-align: top;\n",
       "    }\n",
       "\n",
       "    .dataframe thead th {\n",
       "        text-align: right;\n",
       "    }\n",
       "</style>\n",
       "<table border=\"1\" class=\"dataframe\">\n",
       "  <thead>\n",
       "    <tr style=\"text-align: right;\">\n",
       "      <th></th>\n",
       "      <th>Unnamed: 0</th>\n",
       "      <th>annotation_id</th>\n",
       "      <th>annotator</th>\n",
       "      <th>created_at</th>\n",
       "      <th>id</th>\n",
       "      <th>lead_time</th>\n",
       "      <th>sentiment</th>\n",
       "      <th>updated_at</th>\n",
       "      <th>Дата размещения</th>\n",
       "      <th>Закупки по</th>\n",
       "      <th>Классификация по ОКПД2</th>\n",
       "      <th>Наименование Заказчика</th>\n",
       "      <th>Наименование закупки</th>\n",
       "      <th>Начальная (максимальная) цена контракта</th>\n",
       "      <th>Реестровый номер закупки</th>\n",
       "      <th>Способ определения поставщика (подрядчика, исполнителя), подрядной организации (размещения закупки)</th>\n",
       "    </tr>\n",
       "  </thead>\n",
       "  <tbody>\n",
       "    <tr>\n",
       "      <th>0</th>\n",
       "      <td>0</td>\n",
       "      <td>9</td>\n",
       "      <td>1</td>\n",
       "      <td>2024-03-12T19:19:56.909282Z</td>\n",
       "      <td>104643</td>\n",
       "      <td>75.466</td>\n",
       "      <td>0</td>\n",
       "      <td>2024-03-12T19:19:56.909304Z</td>\n",
       "      <td>31.01.2022</td>\n",
       "      <td>44-ФЗ</td>\n",
       "      <td>62.09.20.190: Услуги по технической поддержке ...</td>\n",
       "      <td>ГОСУДАРСТВЕННОЕ АВТОНОМНОЕ УЧРЕЖДЕНИЕ ЗДРАВООХ...</td>\n",
       "      <td>Оказание услуг по передаче неисключительных ли...</td>\n",
       "      <td>825440.00</td>\n",
       "      <td>№0362200025822000002</td>\n",
       "      <td>Электронный аукцион</td>\n",
       "    </tr>\n",
       "    <tr>\n",
       "      <th>1</th>\n",
       "      <td>1</td>\n",
       "      <td>10</td>\n",
       "      <td>1</td>\n",
       "      <td>2024-03-12T19:21:02.663030Z</td>\n",
       "      <td>104644</td>\n",
       "      <td>19.320</td>\n",
       "      <td>0</td>\n",
       "      <td>2024-03-12T19:21:02.663066Z</td>\n",
       "      <td>31.01.2022</td>\n",
       "      <td>44-ФЗ</td>\n",
       "      <td>62.02.30.000: Услуги по технической поддержке ...</td>\n",
       "      <td>АДМИНИСТРАЦИЯ ГОРОДСКОГО ОКРУГА ИСТРА МОСКОВСК...</td>\n",
       "      <td>Оказание услуг по адаптации и сопровождению ус...</td>\n",
       "      <td>864465.96</td>\n",
       "      <td>№0848300048222000007</td>\n",
       "      <td>Электронный аукцион</td>\n",
       "    </tr>\n",
       "    <tr>\n",
       "      <th>2</th>\n",
       "      <td>2</td>\n",
       "      <td>11</td>\n",
       "      <td>1</td>\n",
       "      <td>2024-03-12T19:21:13.664328Z</td>\n",
       "      <td>104645</td>\n",
       "      <td>4.217</td>\n",
       "      <td>0</td>\n",
       "      <td>2024-03-12T19:21:13.664351Z</td>\n",
       "      <td>31.01.2022</td>\n",
       "      <td>223-ФЗ</td>\n",
       "      <td>62.02.20.190: Услуги консультативные в области...</td>\n",
       "      <td>МУНИЦИПАЛЬНОЕ УНИТАРНОЕ ПРЕДПРИЯТИЕ \"КАЛУГАСПЕ...</td>\n",
       "      <td>Оказание услуг по адаптации и сопровождению эк...</td>\n",
       "      <td>103210.00</td>\n",
       "      <td>№32211087369</td>\n",
       "      <td>Закупка у единственного поставщика (подрядчика...</td>\n",
       "    </tr>\n",
       "  </tbody>\n",
       "</table>\n",
       "</div>"
      ],
      "text/plain": [
       "   Unnamed: 0  annotation_id  annotator                   created_at      id  \\\n",
       "0           0              9          1  2024-03-12T19:19:56.909282Z  104643   \n",
       "1           1             10          1  2024-03-12T19:21:02.663030Z  104644   \n",
       "2           2             11          1  2024-03-12T19:21:13.664328Z  104645   \n",
       "\n",
       "   lead_time  sentiment                   updated_at Дата размещения  \\\n",
       "0     75.466          0  2024-03-12T19:19:56.909304Z      31.01.2022   \n",
       "1     19.320          0  2024-03-12T19:21:02.663066Z      31.01.2022   \n",
       "2      4.217          0  2024-03-12T19:21:13.664351Z      31.01.2022   \n",
       "\n",
       "  Закупки по                             Классификация по ОКПД2  \\\n",
       "0      44-ФЗ  62.09.20.190: Услуги по технической поддержке ...   \n",
       "1      44-ФЗ  62.02.30.000: Услуги по технической поддержке ...   \n",
       "2     223-ФЗ  62.02.20.190: Услуги консультативные в области...   \n",
       "\n",
       "                              Наименование Заказчика  \\\n",
       "0  ГОСУДАРСТВЕННОЕ АВТОНОМНОЕ УЧРЕЖДЕНИЕ ЗДРАВООХ...   \n",
       "1  АДМИНИСТРАЦИЯ ГОРОДСКОГО ОКРУГА ИСТРА МОСКОВСК...   \n",
       "2  МУНИЦИПАЛЬНОЕ УНИТАРНОЕ ПРЕДПРИЯТИЕ \"КАЛУГАСПЕ...   \n",
       "\n",
       "                                Наименование закупки  \\\n",
       "0  Оказание услуг по передаче неисключительных ли...   \n",
       "1  Оказание услуг по адаптации и сопровождению ус...   \n",
       "2  Оказание услуг по адаптации и сопровождению эк...   \n",
       "\n",
       "   Начальная (максимальная) цена контракта Реестровый номер закупки  \\\n",
       "0                                825440.00     №0362200025822000002   \n",
       "1                                864465.96     №0848300048222000007   \n",
       "2                                103210.00             №32211087369   \n",
       "\n",
       "  Способ определения поставщика (подрядчика, исполнителя), подрядной организации (размещения закупки)  \n",
       "0                                Электронный аукцион                                                   \n",
       "1                                Электронный аукцион                                                   \n",
       "2  Закупка у единственного поставщика (подрядчика...                                                   "
      ]
     },
     "execution_count": 10,
     "metadata": {},
     "output_type": "execute_result"
    }
   ],
   "source": [
    "df.head(50)"
   ]
  },
  {
   "cell_type": "code",
   "execution_count": 11,
   "metadata": {},
   "outputs": [],
   "source": [
    "df_pl = pd.read_csv('D:\\ATr\\Attractor\\df\\plarin\\gz44_202403122238.csv')"
   ]
  },
  {
   "cell_type": "code",
   "execution_count": 12,
   "metadata": {},
   "outputs": [
    {
     "name": "stdout",
     "output_type": "stream",
     "text": [
      "<class 'pandas.core.frame.DataFrame'>\n",
      "RangeIndex: 11667 entries, 0 to 11666\n",
      "Data columns (total 32 columns):\n",
      " #   Column          Non-Null Count  Dtype  \n",
      "---  ------          --------------  -----  \n",
      " 0   ord_id          11667 non-null  int64  \n",
      " 1   ord_no          11667 non-null  uint64 \n",
      " 2   ord_url         11667 non-null  object \n",
      " 3   ord_title       11630 non-null  object \n",
      " 4   ord_price_beg   11667 non-null  float64\n",
      " 5   ord_status      11667 non-null  object \n",
      " 6   ord_publ_d      11667 non-null  object \n",
      " 7   ord_upd_d       11667 non-null  object \n",
      " 8   ord_subm_end_d  11630 non-null  object \n",
      " 9   org_url         11667 non-null  object \n",
      " 10  org_is_cust     11667 non-null  bool   \n",
      " 11  org_contact     11667 non-null  object \n",
      " 12  org_email       11667 non-null  object \n",
      " 13  org_phone       11667 non-null  object \n",
      " 14  ord_add_info    11666 non-null  object \n",
      " 15  ord_descr       11667 non-null  object \n",
      " 16  org_name        11667 non-null  object \n",
      " 17  org_addr        11667 non-null  object \n",
      " 18  org_inn         11667 non-null  int64  \n",
      " 19  win_name        0 non-null      float64\n",
      " 20  win_addr        0 non-null      float64\n",
      " 21  win_inn         0 non-null      float64\n",
      " 22  win_phone       0 non-null      float64\n",
      " 23  win_email       0 non-null      float64\n",
      " 24  ord_price_fin   0 non-null      float64\n",
      " 25  work_start_d    0 non-null      float64\n",
      " 26  work_end_d      0 non-null      float64\n",
      " 27  cust_url        0 non-null      float64\n",
      " 28  cust_name       0 non-null      float64\n",
      " 29  cust_addr       0 non-null      float64\n",
      " 30  cust_inn        0 non-null      float64\n",
      " 31  ord_appr        11667 non-null  object \n",
      "dtypes: bool(1), float64(13), int64(2), object(15), uint64(1)\n",
      "memory usage: 2.8+ MB\n"
     ]
    }
   ],
   "source": [
    "df_pl.info()"
   ]
  },
  {
   "cell_type": "code",
   "execution_count": 13,
   "metadata": {},
   "outputs": [],
   "source": [
    "df_24 = df_pl[['ord_id' , 'ord_no', 'ord_title']]\n",
    "df_24 = df_24.reset_index(drop=True)\n",
    "df_24.to_json('df_24.json')\n",
    "df_24.to_csv('df_24.json')"
   ]
  }
 ],
 "metadata": {
  "kernelspec": {
   "display_name": "Python 3",
   "language": "python",
   "name": "python3"
  },
  "language_info": {
   "codemirror_mode": {
    "name": "ipython",
    "version": 3
   },
   "file_extension": ".py",
   "mimetype": "text/x-python",
   "name": "python",
   "nbconvert_exporter": "python",
   "pygments_lexer": "ipython3",
   "version": "3.10.0"
  }
 },
 "nbformat": 4,
 "nbformat_minor": 2
}
