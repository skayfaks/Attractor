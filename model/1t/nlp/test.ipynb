{
 "cells": [
  {
   "cell_type": "code",
   "execution_count": 2,
   "metadata": {},
   "outputs": [],
   "source": [
    "import pandas as pd\n",
    "from sklearn.model_selection import train_test_split\n",
    "from sklearn import metrics as m\n",
    "from sklearn.linear_model import LogisticRegression\n",
    "from catboost import CatBoostClassifier\n",
    "from sentence_transformers import SentenceTransformer"
   ]
  },
  {
   "cell_type": "code",
   "execution_count": 3,
   "metadata": {},
   "outputs": [],
   "source": [
    "df = pd.read_csv(\"df_sep_label_.csv\")"
   ]
  },
  {
   "cell_type": "code",
   "execution_count": 4,
   "metadata": {},
   "outputs": [
    {
     "data": {
      "text/plain": [
       "(3204, 6)"
      ]
     },
     "execution_count": 4,
     "metadata": {},
     "output_type": "execute_result"
    }
   ],
   "source": [
    "df.shape"
   ]
  },
  {
   "cell_type": "code",
   "execution_count": 5,
   "metadata": {},
   "outputs": [
    {
     "data": {
      "text/html": [
       "<div>\n",
       "<style scoped>\n",
       "    .dataframe tbody tr th:only-of-type {\n",
       "        vertical-align: middle;\n",
       "    }\n",
       "\n",
       "    .dataframe tbody tr th {\n",
       "        vertical-align: top;\n",
       "    }\n",
       "\n",
       "    .dataframe thead th {\n",
       "        text-align: right;\n",
       "    }\n",
       "</style>\n",
       "<table border=\"1\" class=\"dataframe\">\n",
       "  <thead>\n",
       "    <tr style=\"text-align: right;\">\n",
       "      <th></th>\n",
       "      <th>sentiment</th>\n",
       "      <th>Классификация по ОКПД2_x</th>\n",
       "      <th>Наименование закупки_x</th>\n",
       "      <th>Реестровый номер закупки</th>\n",
       "      <th>Закупки по</th>\n",
       "      <th>Дата размещения</th>\n",
       "    </tr>\n",
       "  </thead>\n",
       "  <tbody>\n",
       "    <tr>\n",
       "      <th>2725</th>\n",
       "      <td>Не подходит</td>\n",
       "      <td>62.09.20.120: Услуги по установке программного...</td>\n",
       "      <td>Право использования (1С:Зарплата и управление ...</td>\n",
       "      <td>№32312724917</td>\n",
       "      <td>223-ФЗ</td>\n",
       "      <td>31.08.2023</td>\n",
       "    </tr>\n",
       "    <tr>\n",
       "      <th>1229</th>\n",
       "      <td>Не подходит</td>\n",
       "      <td>62.02.30.000: Услуги по технической поддержке ...</td>\n",
       "      <td>Оказание услуг по предоставлению сертификатов ...</td>\n",
       "      <td>№0275200000123000076</td>\n",
       "      <td>44-ФЗ</td>\n",
       "      <td>27.09.2023</td>\n",
       "    </tr>\n",
       "    <tr>\n",
       "      <th>620</th>\n",
       "      <td>Не подходит</td>\n",
       "      <td>62.02.20.190: Услуги консультативные в области...</td>\n",
       "      <td>оказание консультационных услуг и технической ...</td>\n",
       "      <td>№0321300054623000377</td>\n",
       "      <td>44-ФЗ</td>\n",
       "      <td>12.09.2023</td>\n",
       "    </tr>\n",
       "    <tr>\n",
       "      <th>837</th>\n",
       "      <td>Не подходит</td>\n",
       "      <td>63.99.10.190: Услуги информационные автоматизи...</td>\n",
       "      <td>Оказание услуг по адаптации и сопровождению эк...</td>\n",
       "      <td>№0137300016923000046</td>\n",
       "      <td>44-ФЗ</td>\n",
       "      <td>24.08.2023</td>\n",
       "    </tr>\n",
       "    <tr>\n",
       "      <th>397</th>\n",
       "      <td>Не подходит</td>\n",
       "      <td>62.02.30.000: Услуги по технической поддержке ...</td>\n",
       "      <td>Информационные услуги с использованием экземпл...</td>\n",
       "      <td>№32312807190</td>\n",
       "      <td>223-ФЗ</td>\n",
       "      <td>28.09.2023</td>\n",
       "    </tr>\n",
       "  </tbody>\n",
       "</table>\n",
       "</div>"
      ],
      "text/plain": [
       "        sentiment                           Классификация по ОКПД2_x  \\\n",
       "2725  Не подходит  62.09.20.120: Услуги по установке программного...   \n",
       "1229  Не подходит  62.02.30.000: Услуги по технической поддержке ...   \n",
       "620   Не подходит  62.02.20.190: Услуги консультативные в области...   \n",
       "837   Не подходит  63.99.10.190: Услуги информационные автоматизи...   \n",
       "397   Не подходит  62.02.30.000: Услуги по технической поддержке ...   \n",
       "\n",
       "                                 Наименование закупки_x  \\\n",
       "2725  Право использования (1С:Зарплата и управление ...   \n",
       "1229  Оказание услуг по предоставлению сертификатов ...   \n",
       "620   оказание консультационных услуг и технической ...   \n",
       "837   Оказание услуг по адаптации и сопровождению эк...   \n",
       "397   Информационные услуги с использованием экземпл...   \n",
       "\n",
       "     Реестровый номер закупки Закупки по Дата размещения  \n",
       "2725             №32312724917     223-ФЗ      31.08.2023  \n",
       "1229     №0275200000123000076      44-ФЗ      27.09.2023  \n",
       "620      №0321300054623000377      44-ФЗ      12.09.2023  \n",
       "837      №0137300016923000046      44-ФЗ      24.08.2023  \n",
       "397              №32312807190     223-ФЗ      28.09.2023  "
      ]
     },
     "execution_count": 5,
     "metadata": {},
     "output_type": "execute_result"
    }
   ],
   "source": [
    "df.sample(5)"
   ]
  },
  {
   "cell_type": "code",
   "execution_count": 6,
   "metadata": {},
   "outputs": [],
   "source": [
    "df.loc[df['sentiment'].isin(['Не подходит', 'Скорее нет', 'Затрудняюсь']), 'sentiment'] = 0\n",
    "df.loc[df['sentiment'].isin(['Подходит', 'Скорее да']), 'sentiment'] = 1"
   ]
  },
  {
   "cell_type": "code",
   "execution_count": 7,
   "metadata": {},
   "outputs": [
    {
     "data": {
      "text/html": [
       "<div>\n",
       "<style scoped>\n",
       "    .dataframe tbody tr th:only-of-type {\n",
       "        vertical-align: middle;\n",
       "    }\n",
       "\n",
       "    .dataframe tbody tr th {\n",
       "        vertical-align: top;\n",
       "    }\n",
       "\n",
       "    .dataframe thead th {\n",
       "        text-align: right;\n",
       "    }\n",
       "</style>\n",
       "<table border=\"1\" class=\"dataframe\">\n",
       "  <thead>\n",
       "    <tr style=\"text-align: right;\">\n",
       "      <th></th>\n",
       "      <th>sentiment</th>\n",
       "      <th>Классификация по ОКПД2_x</th>\n",
       "      <th>Наименование закупки_x</th>\n",
       "      <th>Реестровый номер закупки</th>\n",
       "      <th>Закупки по</th>\n",
       "      <th>Дата размещения</th>\n",
       "    </tr>\n",
       "  </thead>\n",
       "  <tbody>\n",
       "    <tr>\n",
       "      <th>0</th>\n",
       "      <td>0</td>\n",
       "      <td>62.01.29.000: Оригиналы программного обеспечен...</td>\n",
       "      <td>Предоставление неисключительного права испол...</td>\n",
       "      <td>№0169300040423000063</td>\n",
       "      <td>44-ФЗ</td>\n",
       "      <td>04.09.2023</td>\n",
       "    </tr>\n",
       "    <tr>\n",
       "      <th>1</th>\n",
       "      <td>1</td>\n",
       "      <td>62.09.20.190: Услуги по технической поддержке ...</td>\n",
       "      <td>оказание услуг по обслуживанию и сопровождени...</td>\n",
       "      <td>№0304300010623000024</td>\n",
       "      <td>44-ФЗ</td>\n",
       "      <td>21.09.2023</td>\n",
       "    </tr>\n",
       "    <tr>\n",
       "      <th>2</th>\n",
       "      <td>0</td>\n",
       "      <td>62.02.20.190: Услуги консультативные в области...</td>\n",
       "      <td>Предоставление услуг по сопровождению програм...</td>\n",
       "      <td>№0162300011123000065</td>\n",
       "      <td>44-ФЗ</td>\n",
       "      <td>07.09.2023</td>\n",
       "    </tr>\n",
       "    <tr>\n",
       "      <th>3</th>\n",
       "      <td>0</td>\n",
       "      <td>62.01.29.000: Оригиналы программного обеспечен...</td>\n",
       "      <td>Программное средство антивирусной защиты</td>\n",
       "      <td>№0122100010223000021</td>\n",
       "      <td>44-ФЗ</td>\n",
       "      <td>18.09.2023</td>\n",
       "    </tr>\n",
       "    <tr>\n",
       "      <th>4</th>\n",
       "      <td>0</td>\n",
       "      <td>62.01.29.000: Оригиналы программного обеспечен...</td>\n",
       "      <td>Программное средство антивирусной защиты</td>\n",
       "      <td>№0302300050523000034</td>\n",
       "      <td>44-ФЗ</td>\n",
       "      <td>21.08.2023</td>\n",
       "    </tr>\n",
       "    <tr>\n",
       "      <th>...</th>\n",
       "      <td>...</td>\n",
       "      <td>...</td>\n",
       "      <td>...</td>\n",
       "      <td>...</td>\n",
       "      <td>...</td>\n",
       "      <td>...</td>\n",
       "    </tr>\n",
       "    <tr>\n",
       "      <th>3199</th>\n",
       "      <td>0</td>\n",
       "      <td>62.02.30.000: Услуги по технической поддержке ...</td>\n",
       "      <td>Оказание услуг по восстановлению, обновлению п...</td>\n",
       "      <td>№32312635470</td>\n",
       "      <td>223-ФЗ</td>\n",
       "      <td>01.08.2023</td>\n",
       "    </tr>\n",
       "    <tr>\n",
       "      <th>3200</th>\n",
       "      <td>0</td>\n",
       "      <td>62.02.30.000: Услуги по технической поддержке ...</td>\n",
       "      <td>Оказание услуг по обслуживанию программы 1С:Бу...</td>\n",
       "      <td>№32312635242</td>\n",
       "      <td>223-ФЗ</td>\n",
       "      <td>01.08.2023</td>\n",
       "    </tr>\n",
       "    <tr>\n",
       "      <th>3201</th>\n",
       "      <td>0</td>\n",
       "      <td>62.03.12.130: Услуги по сопровождению компьюте...</td>\n",
       "      <td>Услуги по адаптации и сопровождению экземпляро...</td>\n",
       "      <td>№32312634646</td>\n",
       "      <td>223-ФЗ</td>\n",
       "      <td>01.08.2023</td>\n",
       "    </tr>\n",
       "    <tr>\n",
       "      <th>3202</th>\n",
       "      <td>0</td>\n",
       "      <td>62.09.2: Услуги в области информационных техно...</td>\n",
       "      <td>Предоставление права использования программы д...</td>\n",
       "      <td>№32312634315</td>\n",
       "      <td>223-ФЗ</td>\n",
       "      <td>01.08.2023</td>\n",
       "    </tr>\n",
       "    <tr>\n",
       "      <th>3203</th>\n",
       "      <td>0</td>\n",
       "      <td>62.03.12.130: Услуги по сопровождению компьюте...</td>\n",
       "      <td>Услуги по технической поддержке АИС \"OMNI-US\"</td>\n",
       "      <td>№32312634181</td>\n",
       "      <td>223-ФЗ</td>\n",
       "      <td>01.08.2023</td>\n",
       "    </tr>\n",
       "  </tbody>\n",
       "</table>\n",
       "<p>3204 rows × 6 columns</p>\n",
       "</div>"
      ],
      "text/plain": [
       "     sentiment                           Классификация по ОКПД2_x  \\\n",
       "0            0  62.01.29.000: Оригиналы программного обеспечен...   \n",
       "1            1  62.09.20.190: Услуги по технической поддержке ...   \n",
       "2            0  62.02.20.190: Услуги консультативные в области...   \n",
       "3            0  62.01.29.000: Оригиналы программного обеспечен...   \n",
       "4            0  62.01.29.000: Оригиналы программного обеспечен...   \n",
       "...        ...                                                ...   \n",
       "3199         0  62.02.30.000: Услуги по технической поддержке ...   \n",
       "3200         0  62.02.30.000: Услуги по технической поддержке ...   \n",
       "3201         0  62.03.12.130: Услуги по сопровождению компьюте...   \n",
       "3202         0  62.09.2: Услуги в области информационных техно...   \n",
       "3203         0  62.03.12.130: Услуги по сопровождению компьюте...   \n",
       "\n",
       "                                 Наименование закупки_x  \\\n",
       "0       Предоставление неисключительного права испол...   \n",
       "1      оказание услуг по обслуживанию и сопровождени...   \n",
       "2      Предоставление услуг по сопровождению програм...   \n",
       "3              Программное средство антивирусной защиты   \n",
       "4              Программное средство антивирусной защиты   \n",
       "...                                                 ...   \n",
       "3199  Оказание услуг по восстановлению, обновлению п...   \n",
       "3200  Оказание услуг по обслуживанию программы 1С:Бу...   \n",
       "3201  Услуги по адаптации и сопровождению экземпляро...   \n",
       "3202  Предоставление права использования программы д...   \n",
       "3203      Услуги по технической поддержке АИС \"OMNI-US\"   \n",
       "\n",
       "     Реестровый номер закупки Закупки по Дата размещения  \n",
       "0        №0169300040423000063      44-ФЗ      04.09.2023  \n",
       "1        №0304300010623000024      44-ФЗ      21.09.2023  \n",
       "2        №0162300011123000065      44-ФЗ      07.09.2023  \n",
       "3        №0122100010223000021      44-ФЗ      18.09.2023  \n",
       "4        №0302300050523000034      44-ФЗ      21.08.2023  \n",
       "...                       ...        ...             ...  \n",
       "3199             №32312635470     223-ФЗ      01.08.2023  \n",
       "3200             №32312635242     223-ФЗ      01.08.2023  \n",
       "3201             №32312634646     223-ФЗ      01.08.2023  \n",
       "3202             №32312634315     223-ФЗ      01.08.2023  \n",
       "3203             №32312634181     223-ФЗ      01.08.2023  \n",
       "\n",
       "[3204 rows x 6 columns]"
      ]
     },
     "execution_count": 7,
     "metadata": {},
     "output_type": "execute_result"
    }
   ],
   "source": [
    "df"
   ]
  },
  {
   "cell_type": "code",
   "execution_count": 8,
   "metadata": {},
   "outputs": [],
   "source": [
    "sent_transformer = SentenceTransformer(\"sentence-transformers/paraphrase-multilingual-mpnet-base-v2\")"
   ]
  },
  {
   "cell_type": "code",
   "execution_count": 9,
   "metadata": {},
   "outputs": [],
   "source": [
    "df.dropna(subset=['sentiment'], inplace=True)\n",
    "df.reset_index(drop=True, inplace=True)"
   ]
  },
  {
   "cell_type": "code",
   "execution_count": 10,
   "metadata": {},
   "outputs": [
    {
     "data": {
      "application/vnd.jupyter.widget-view+json": {
       "model_id": "2d68268adae54e7d9840bcf0cddd04aa",
       "version_major": 2,
       "version_minor": 0
      },
      "text/plain": [
       "Batches:   0%|          | 0/100 [00:00<?, ?it/s]"
      ]
     },
     "metadata": {},
     "output_type": "display_data"
    }
   ],
   "source": [
    "embeddings = sent_transformer.encode(df['Наименование закупки_x'],\n",
    "                                     show_progress_bar=True)"
   ]
  },
  {
   "cell_type": "code",
   "execution_count": 11,
   "metadata": {},
   "outputs": [],
   "source": [
    "df['sentiment'] = df['sentiment'].astype(int)"
   ]
  },
  {
   "cell_type": "code",
   "execution_count": 12,
   "metadata": {},
   "outputs": [],
   "source": [
    "X_train, X_val, y_train, y_val = train_test_split(embeddings, \n",
    "                                                  df['sentiment'],\n",
    "                                                  random_state=42,\n",
    "                                                  stratify=df['sentiment'])"
   ]
  },
  {
   "cell_type": "code",
   "execution_count": 13,
   "metadata": {},
   "outputs": [],
   "source": [
    "lr = LogisticRegression(random_state=42,\n",
    "                           class_weight='balanced')\n",
    "\n",
    "cb = CatBoostClassifier(random_seed=42, \n",
    "                        early_stopping_rounds=15,\n",
    "                        auto_class_weights='Balanced',\n",
    "                        depth=7)"
   ]
  },
  {
   "cell_type": "code",
   "execution_count": 14,
   "metadata": {},
   "outputs": [
    {
     "name": "stdout",
     "output_type": "stream",
     "text": [
      "Learning rate set to 0.039294\n",
      "0:\tlearn: 0.6561389\ttest: 0.6654788\tbest: 0.6654788 (0)\ttotal: 247ms\tremaining: 4m 6s\n",
      "1:\tlearn: 0.6213789\ttest: 0.6419770\tbest: 0.6419770 (1)\ttotal: 374ms\tremaining: 3m 6s\n",
      "2:\tlearn: 0.5969168\ttest: 0.6235941\tbest: 0.6235941 (2)\ttotal: 492ms\tremaining: 2m 43s\n",
      "3:\tlearn: 0.5682428\ttest: 0.5985008\tbest: 0.5985008 (3)\ttotal: 614ms\tremaining: 2m 32s\n",
      "4:\tlearn: 0.5356059\ttest: 0.5696660\tbest: 0.5696660 (4)\ttotal: 789ms\tremaining: 2m 37s\n",
      "5:\tlearn: 0.5093822\ttest: 0.5514340\tbest: 0.5514340 (5)\ttotal: 921ms\tremaining: 2m 32s\n",
      "6:\tlearn: 0.4855370\ttest: 0.5316947\tbest: 0.5316947 (6)\ttotal: 1.05s\tremaining: 2m 28s\n",
      "7:\tlearn: 0.4652999\ttest: 0.5195532\tbest: 0.5195532 (7)\ttotal: 1.16s\tremaining: 2m 23s\n",
      "8:\tlearn: 0.4450752\ttest: 0.5087194\tbest: 0.5087194 (8)\ttotal: 1.25s\tremaining: 2m 18s\n",
      "9:\tlearn: 0.4268978\ttest: 0.4983650\tbest: 0.4983650 (9)\ttotal: 1.35s\tremaining: 2m 13s\n",
      "10:\tlearn: 0.4143238\ttest: 0.4904973\tbest: 0.4904973 (10)\ttotal: 1.45s\tremaining: 2m 10s\n",
      "11:\tlearn: 0.3977246\ttest: 0.4861524\tbest: 0.4861524 (11)\ttotal: 1.55s\tremaining: 2m 7s\n",
      "12:\tlearn: 0.3882721\ttest: 0.4835735\tbest: 0.4835735 (12)\ttotal: 1.66s\tremaining: 2m 5s\n",
      "13:\tlearn: 0.3760649\ttest: 0.4754491\tbest: 0.4754491 (13)\ttotal: 1.79s\tremaining: 2m 5s\n",
      "14:\tlearn: 0.3633856\ttest: 0.4703002\tbest: 0.4703002 (14)\ttotal: 1.92s\tremaining: 2m 6s\n",
      "15:\tlearn: 0.3506693\ttest: 0.4639435\tbest: 0.4639435 (15)\ttotal: 2.08s\tremaining: 2m 7s\n",
      "16:\tlearn: 0.3411718\ttest: 0.4583048\tbest: 0.4583048 (16)\ttotal: 2.2s\tremaining: 2m 7s\n",
      "17:\tlearn: 0.3298270\ttest: 0.4534031\tbest: 0.4534031 (17)\ttotal: 2.35s\tremaining: 2m 8s\n",
      "18:\tlearn: 0.3227845\ttest: 0.4533135\tbest: 0.4533135 (18)\ttotal: 2.53s\tremaining: 2m 10s\n",
      "19:\tlearn: 0.3114792\ttest: 0.4468909\tbest: 0.4468909 (19)\ttotal: 2.63s\tremaining: 2m 8s\n",
      "20:\tlearn: 0.3021777\ttest: 0.4433807\tbest: 0.4433807 (20)\ttotal: 2.73s\tremaining: 2m 7s\n",
      "21:\tlearn: 0.2937872\ttest: 0.4399814\tbest: 0.4399814 (21)\ttotal: 2.83s\tremaining: 2m 5s\n",
      "22:\tlearn: 0.2875574\ttest: 0.4369063\tbest: 0.4369063 (22)\ttotal: 2.94s\tremaining: 2m 4s\n",
      "23:\tlearn: 0.2794210\ttest: 0.4337021\tbest: 0.4337021 (23)\ttotal: 3.04s\tremaining: 2m 3s\n",
      "24:\tlearn: 0.2728842\ttest: 0.4314137\tbest: 0.4314137 (24)\ttotal: 3.15s\tremaining: 2m 2s\n",
      "25:\tlearn: 0.2645977\ttest: 0.4259457\tbest: 0.4259457 (25)\ttotal: 3.25s\tremaining: 2m 1s\n",
      "26:\tlearn: 0.2576284\ttest: 0.4230166\tbest: 0.4230166 (26)\ttotal: 3.36s\tremaining: 2m 1s\n",
      "27:\tlearn: 0.2509459\ttest: 0.4215626\tbest: 0.4215626 (27)\ttotal: 3.46s\tremaining: 2m\n",
      "28:\tlearn: 0.2459236\ttest: 0.4189061\tbest: 0.4189061 (28)\ttotal: 3.57s\tremaining: 1m 59s\n",
      "29:\tlearn: 0.2416806\ttest: 0.4169075\tbest: 0.4169075 (29)\ttotal: 3.67s\tremaining: 1m 58s\n",
      "30:\tlearn: 0.2361713\ttest: 0.4149657\tbest: 0.4149657 (30)\ttotal: 3.77s\tremaining: 1m 57s\n",
      "31:\tlearn: 0.2301845\ttest: 0.4149443\tbest: 0.4149443 (31)\ttotal: 3.87s\tremaining: 1m 57s\n",
      "32:\tlearn: 0.2238035\ttest: 0.4136326\tbest: 0.4136326 (32)\ttotal: 3.97s\tremaining: 1m 56s\n",
      "33:\tlearn: 0.2193104\ttest: 0.4133079\tbest: 0.4133079 (33)\ttotal: 4.07s\tremaining: 1m 55s\n",
      "34:\tlearn: 0.2135365\ttest: 0.4086975\tbest: 0.4086975 (34)\ttotal: 4.18s\tremaining: 1m 55s\n",
      "35:\tlearn: 0.2094669\ttest: 0.4085254\tbest: 0.4085254 (35)\ttotal: 4.28s\tremaining: 1m 54s\n",
      "36:\tlearn: 0.2038917\ttest: 0.4056193\tbest: 0.4056193 (36)\ttotal: 4.37s\tremaining: 1m 53s\n",
      "37:\tlearn: 0.1988007\ttest: 0.4051747\tbest: 0.4051747 (37)\ttotal: 4.48s\tremaining: 1m 53s\n",
      "38:\tlearn: 0.1941070\ttest: 0.4057799\tbest: 0.4051747 (37)\ttotal: 4.58s\tremaining: 1m 52s\n",
      "39:\tlearn: 0.1906130\ttest: 0.4050698\tbest: 0.4050698 (39)\ttotal: 4.69s\tremaining: 1m 52s\n",
      "40:\tlearn: 0.1870669\ttest: 0.4040902\tbest: 0.4040902 (40)\ttotal: 4.79s\tremaining: 1m 52s\n",
      "41:\tlearn: 0.1844953\ttest: 0.4026637\tbest: 0.4026637 (41)\ttotal: 4.9s\tremaining: 1m 51s\n",
      "42:\tlearn: 0.1818384\ttest: 0.4007343\tbest: 0.4007343 (42)\ttotal: 5.01s\tremaining: 1m 51s\n",
      "43:\tlearn: 0.1788308\ttest: 0.4014284\tbest: 0.4007343 (42)\ttotal: 5.11s\tremaining: 1m 51s\n",
      "44:\tlearn: 0.1749672\ttest: 0.3994203\tbest: 0.3994203 (44)\ttotal: 5.22s\tremaining: 1m 50s\n",
      "45:\tlearn: 0.1710742\ttest: 0.3995232\tbest: 0.3994203 (44)\ttotal: 5.35s\tremaining: 1m 50s\n",
      "46:\tlearn: 0.1685489\ttest: 0.4000939\tbest: 0.3994203 (44)\ttotal: 5.46s\tremaining: 1m 50s\n",
      "47:\tlearn: 0.1655302\ttest: 0.4007407\tbest: 0.3994203 (44)\ttotal: 5.56s\tremaining: 1m 50s\n",
      "48:\tlearn: 0.1622321\ttest: 0.4013877\tbest: 0.3994203 (44)\ttotal: 5.67s\tremaining: 1m 50s\n",
      "49:\tlearn: 0.1595850\ttest: 0.4014325\tbest: 0.3994203 (44)\ttotal: 5.77s\tremaining: 1m 49s\n",
      "50:\tlearn: 0.1561897\ttest: 0.4022226\tbest: 0.3994203 (44)\ttotal: 5.87s\tremaining: 1m 49s\n",
      "51:\tlearn: 0.1533232\ttest: 0.4016825\tbest: 0.3994203 (44)\ttotal: 5.98s\tremaining: 1m 49s\n",
      "52:\tlearn: 0.1515269\ttest: 0.4008285\tbest: 0.3994203 (44)\ttotal: 6.08s\tremaining: 1m 48s\n",
      "53:\tlearn: 0.1485725\ttest: 0.3997450\tbest: 0.3994203 (44)\ttotal: 6.19s\tremaining: 1m 48s\n",
      "54:\tlearn: 0.1458805\ttest: 0.4014512\tbest: 0.3994203 (44)\ttotal: 6.29s\tremaining: 1m 48s\n",
      "55:\tlearn: 0.1430981\ttest: 0.4026198\tbest: 0.3994203 (44)\ttotal: 6.4s\tremaining: 1m 47s\n",
      "56:\tlearn: 0.1409978\ttest: 0.4012565\tbest: 0.3994203 (44)\ttotal: 6.5s\tremaining: 1m 47s\n",
      "57:\tlearn: 0.1391182\ttest: 0.4008357\tbest: 0.3994203 (44)\ttotal: 6.6s\tremaining: 1m 47s\n",
      "58:\tlearn: 0.1361063\ttest: 0.4014737\tbest: 0.3994203 (44)\ttotal: 6.71s\tremaining: 1m 46s\n",
      "59:\tlearn: 0.1340834\ttest: 0.4010611\tbest: 0.3994203 (44)\ttotal: 6.81s\tremaining: 1m 46s\n",
      "Stopped by overfitting detector  (15 iterations wait)\n",
      "\n",
      "bestTest = 0.3994203483\n",
      "bestIteration = 44\n",
      "\n",
      "Shrink model to first 45 iterations.\n"
     ]
    },
    {
     "data": {
      "text/plain": [
       "<catboost.core.CatBoostClassifier at 0x1d5931feec0>"
      ]
     },
     "execution_count": 14,
     "metadata": {},
     "output_type": "execute_result"
    }
   ],
   "source": [
    "lr.fit(X_train, y_train)\n",
    "cb.fit(X_train, y_train, eval_set=(X_val, y_val))"
   ]
  },
  {
   "cell_type": "code",
   "execution_count": 15,
   "metadata": {},
   "outputs": [
    {
     "name": "stdout",
     "output_type": "stream",
     "text": [
      "              precision    recall  f1-score   support\n",
      "\n",
      "           0       0.98      0.92      0.95       737\n",
      "           1       0.46      0.80      0.58        60\n",
      "\n",
      "    accuracy                           0.91       797\n",
      "   macro avg       0.72      0.86      0.77       797\n",
      "weighted avg       0.94      0.91      0.92       797\n",
      "\n",
      "****************************************************************************************************\n",
      "0.9471732247851651\n",
      "****************************************************************************************************\n",
      "[[680  57]\n",
      " [ 12  48]]\n"
     ]
    }
   ],
   "source": [
    "print(m.classification_report(y_val, lr.predict(X_val)))\n",
    "print(\"*\"*100)\n",
    "print(m.roc_auc_score(y_val, lr.predict_proba(X_val)[:, 1]))\n",
    "print(\"*\"*100)\n",
    "print((m.confusion_matrix(y_val, lr.predict(X_val))))"
   ]
  },
  {
   "cell_type": "markdown",
   "metadata": {},
   "source": [
    "# изучить как прикрутить compute_metrics"
   ]
  },
  {
   "cell_type": "code",
   "execution_count": 16,
   "metadata": {},
   "outputs": [],
   "source": [
    "def compute_metrics(y_true, y_pred):\n",
    "    accuracy = m.accuracy_score(y_true, y_pred)\n",
    "    precision = m.precision_score(y_true, y_pred)\n",
    "    recall = m.recall_score(y_true, y_pred)\n",
    "    f1 = m.f1_score(y_true, y_pred)\n",
    "    \n",
    "    return accuracy, precision, recall, f1"
   ]
  },
  {
   "cell_type": "code",
   "execution_count": 17,
   "metadata": {},
   "outputs": [
    {
     "ename": "NameError",
     "evalue": "name 'df_metrics' is not defined",
     "output_type": "error",
     "traceback": [
      "\u001b[1;31m---------------------------------------------------------------------------\u001b[0m",
      "\u001b[1;31mNameError\u001b[0m                                 Traceback (most recent call last)",
      "Cell \u001b[1;32mIn[17], line 2\u001b[0m\n\u001b[0;32m      1\u001b[0m \u001b[38;5;66;03m# Переименуем столбец 'index' в 'Model_name' и создадим новый индекс\u001b[39;00m\n\u001b[1;32m----> 2\u001b[0m df_metrics \u001b[38;5;241m=\u001b[39m \u001b[43mdf_metrics\u001b[49m\u001b[38;5;241m.\u001b[39mrename(columns\u001b[38;5;241m=\u001b[39m{\u001b[38;5;124m'\u001b[39m\u001b[38;5;124mindex\u001b[39m\u001b[38;5;124m'\u001b[39m: \u001b[38;5;124m'\u001b[39m\u001b[38;5;124mModel_name\u001b[39m\u001b[38;5;124m'\u001b[39m})\u001b[38;5;241m.\u001b[39mset_index(\u001b[38;5;124m'\u001b[39m\u001b[38;5;124mModel_name\u001b[39m\u001b[38;5;124m'\u001b[39m)\n\u001b[0;32m      3\u001b[0m \u001b[38;5;66;03m# Преобразуем индекс 'Model_name' в столбец\u001b[39;00m\n\u001b[0;32m      4\u001b[0m df_metrics\u001b[38;5;241m.\u001b[39mreset_index(inplace\u001b[38;5;241m=\u001b[39m\u001b[38;5;28;01mTrue\u001b[39;00m)\n",
      "\u001b[1;31mNameError\u001b[0m: name 'df_metrics' is not defined"
     ]
    }
   ],
   "source": [
    "# Переименуем столбец 'index' в 'Model_name' и создадим новый индекс\n",
    "df_metrics = df_metrics.rename(columns={'index': 'Model_name'}).set_index('Model_name')\n",
    "# Преобразуем индекс 'Model_name' в столбец\n",
    "df_metrics.reset_index(inplace=True)\n",
    "\n",
    "print(df_metrics)"
   ]
  },
  {
   "cell_type": "code",
   "execution_count": null,
   "metadata": {},
   "outputs": [
    {
     "name": "stdout",
     "output_type": "stream",
     "text": [
      "Accuracy: 0.9134253450439147\n",
      "Precision: 0.45714285714285713\n",
      "Recall: 0.8\n",
      "F1 Score: 0.5818181818181818\n"
     ]
    }
   ],
   "source": [
    "accuracy, precision, recall, f1 = compute_metrics(y_val, lr.predict(X_val))\n",
    "\n",
    "print(\"Accuracy:\", accuracy)\n",
    "print(\"Precision:\", precision)\n",
    "print(\"Recall:\", recall)\n",
    "print(\"F1 Score:\", f1)\n",
    "\n",
    "# data = {'Model_name': ['Accuracy', 'Precision', 'Recall', 'F1 Score'],\n",
    "#         'LogReg': [accuracy, precision, recall, f1]}\n",
    "# df_metrics = (pd.DataFrame(data)).T\n",
    "\n",
    "\n",
    "df_metrics = pd.DataFrame({'Model_name': ['LogReg'],\n",
    " 'accuracy': [accuracy],\n",
    " 'precision': [precision],\n",
    " 'recall': [recall],\n",
    " 'f1': [f1]})"
   ]
  },
  {
   "cell_type": "code",
   "execution_count": null,
   "metadata": {},
   "outputs": [
    {
     "data": {
      "text/html": [
       "<div>\n",
       "<style scoped>\n",
       "    .dataframe tbody tr th:only-of-type {\n",
       "        vertical-align: middle;\n",
       "    }\n",
       "\n",
       "    .dataframe tbody tr th {\n",
       "        vertical-align: top;\n",
       "    }\n",
       "\n",
       "    .dataframe thead th {\n",
       "        text-align: right;\n",
       "    }\n",
       "</style>\n",
       "<table border=\"1\" class=\"dataframe\">\n",
       "  <thead>\n",
       "    <tr style=\"text-align: right;\">\n",
       "      <th></th>\n",
       "      <th>Model_name</th>\n",
       "      <th>accuracy</th>\n",
       "      <th>precision</th>\n",
       "      <th>recall</th>\n",
       "      <th>f1</th>\n",
       "    </tr>\n",
       "  </thead>\n",
       "  <tbody>\n",
       "    <tr>\n",
       "      <th>0</th>\n",
       "      <td>LogReg</td>\n",
       "      <td>0.913425</td>\n",
       "      <td>0.457143</td>\n",
       "      <td>0.8</td>\n",
       "      <td>0.581818</td>\n",
       "    </tr>\n",
       "  </tbody>\n",
       "</table>\n",
       "</div>"
      ],
      "text/plain": [
       "  Model_name  accuracy  precision  recall        f1\n",
       "0     LogReg  0.913425   0.457143     0.8  0.581818"
      ]
     },
     "execution_count": 97,
     "metadata": {},
     "output_type": "execute_result"
    }
   ],
   "source": [
    "df_metrics"
   ]
  },
  {
   "cell_type": "code",
   "execution_count": null,
   "metadata": {},
   "outputs": [
    {
     "name": "stdout",
     "output_type": "stream",
     "text": [
      "              precision    recall  f1-score   support\n",
      "\n",
      "           0       0.97      0.94      0.96       737\n",
      "           1       0.49      0.67      0.56        60\n",
      "\n",
      "    accuracy                           0.92       797\n",
      "   macro avg       0.73      0.80      0.76       797\n",
      "weighted avg       0.94      0.92      0.93       797\n",
      "\n",
      "****************************************************************************************************\n",
      "0.9367028493894165\n",
      "****************************************************************************************************\n",
      "[[695  42]\n",
      " [ 20  40]]\n"
     ]
    }
   ],
   "source": [
    "print(m.classification_report(y_val, cb.predict(X_val)))\n",
    "print(\"*\"*100)\n",
    "print(m.roc_auc_score(y_val, cb.predict_proba(X_val)[:, 1]))\n",
    "print(\"*\"*100)\n",
    "print((m.confusion_matrix(y_val, cb.predict(X_val))))"
   ]
  },
  {
   "cell_type": "code",
   "execution_count": null,
   "metadata": {},
   "outputs": [
    {
     "name": "stdout",
     "output_type": "stream",
     "text": [
      "Accuracy: 0.9222082810539524\n",
      "Precision: 0.4878048780487805\n",
      "Recall: 0.6666666666666666\n",
      "F1 Score: 0.5633802816901409\n"
     ]
    }
   ],
   "source": [
    "accuracy, precision, recall, f1 = compute_metrics(y_val, cb.predict(X_val))\n",
    "\n",
    "print(\"Accuracy:\", accuracy)\n",
    "print(\"Precision:\", precision)\n",
    "print(\"Recall:\", recall)\n",
    "print(\"F1 Score:\", f1)\n",
    "\n",
    "new_row = pd.DataFrame({'Model_name': ['CatBoost'],\n",
    "                        'accuracy': [accuracy],\n",
    "                        'precision': [precision],\n",
    "                        'recall': [recall],\n",
    "                        'f1': [f1]})\n",
    "\n",
    "df_metrics = df_metrics.append(new_row, ignore_index=True)"
   ]
  },
  {
   "cell_type": "markdown",
   "metadata": {},
   "source": [
    "---"
   ]
  },
  {
   "cell_type": "code",
   "execution_count": null,
   "metadata": {},
   "outputs": [],
   "source": [
    "from transformers import BertForSequenceClassification, BertTokenizer, AutoModel, TrainingArguments, Trainer"
   ]
  },
  {
   "cell_type": "code",
   "execution_count": null,
   "metadata": {},
   "outputs": [
    {
     "data": {
      "application/vnd.jupyter.widget-view+json": {
       "model_id": "70db49db5a1f48b9b984437a086d5576",
       "version_major": 2,
       "version_minor": 0
      },
      "text/plain": [
       "pytorch_model.bin:   0%|          | 0.00/714M [00:00<?, ?B/s]"
      ]
     },
     "metadata": {},
     "output_type": "display_data"
    },
    {
     "name": "stderr",
     "output_type": "stream",
     "text": [
      "c:\\Users\\Mi\\AppData\\Local\\Programs\\Python\\Python310\\lib\\site-packages\\huggingface_hub\\file_download.py:149: UserWarning: `huggingface_hub` cache-system uses symlinks by default to efficiently store duplicated files but your machine does not support them in C:\\Users\\Mi\\.cache\\huggingface\\hub\\models--DeepPavlov--rubert-base-cased. Caching files will still work but in a degraded version that might require more space on your disk. This warning can be disabled by setting the `HF_HUB_DISABLE_SYMLINKS_WARNING` environment variable. For more details, see https://huggingface.co/docs/huggingface_hub/how-to-cache#limitations.\n",
      "To support symlinks on Windows, you either need to activate Developer Mode or to run Python as an administrator. In order to see activate developer mode, see this article: https://docs.microsoft.com/en-us/windows/apps/get-started/enable-your-device-for-development\n",
      "  warnings.warn(message)\n",
      "Some weights of BertForSequenceClassification were not initialized from the model checkpoint at DeepPavlov/rubert-base-cased and are newly initialized: ['classifier.bias', 'classifier.weight']\n",
      "You should probably TRAIN this model on a down-stream task to be able to use it for predictions and inference.\n"
     ]
    }
   ],
   "source": [
    "model = BertForSequenceClassification.from_pretrained(\"DeepPavlov/rubert-base-cased\", \n",
    "                                                      num_labels=df['sentiment'].nunique())\n",
    "\n",
    "tokenizer = BertTokenizer.from_pretrained(\"DeepPavlov/rubert-base-cased\")"
   ]
  },
  {
   "cell_type": "code",
   "execution_count": null,
   "metadata": {},
   "outputs": [
    {
     "data": {
      "text/plain": [
       "<Axes: >"
      ]
     },
     "execution_count": 21,
     "metadata": {},
     "output_type": "execute_result"
    },
    {
     "data": {
      "image/png": "[encoded data removed]",
      "text/plain": [
       "<Figure size 640x480 with 1 Axes>"
      ]
     },
     "metadata": {},
     "output_type": "display_data"
    }
   ],
   "source": [
    "df['Наименование закупки_x'].apply(lambda x: len(tokenizer.encode(x))).hist()"
   ]
  },
  {
   "cell_type": "code",
   "execution_count": null,
   "metadata": {},
   "outputs": [],
   "source": [
    "tokenized_sample = tokenizer(\"Привет\", \n",
    "                             truncation=True, \n",
    "                             max_length=128, \n",
    "                             padding='max_length'\n",
    "                             )"
   ]
  },
  {
   "cell_type": "code",
   "execution_count": null,
   "metadata": {},
   "outputs": [
    {
     "data": {
      "text/plain": [
       "'[CLS] Привет [SEP] [PAD] [PAD] [PAD] [PAD] [PAD] [PAD] [PAD] [PAD] [PAD] [PAD] [PAD] [PAD] [PAD] [PAD] [PAD] [PAD] [PAD] [PAD] [PAD] [PAD] [PAD] [PAD] [PAD] [PAD] [PAD] [PAD] [PAD] [PAD] [PAD] [PAD] [PAD] [PAD] [PAD] [PAD] [PAD] [PAD] [PAD] [PAD] [PAD] [PAD] [PAD] [PAD] [PAD] [PAD] [PAD] [PAD] [PAD] [PAD] [PAD] [PAD] [PAD] [PAD] [PAD] [PAD] [PAD] [PAD] [PAD] [PAD] [PAD] [PAD] [PAD] [PAD] [PAD] [PAD] [PAD] [PAD] [PAD] [PAD] [PAD] [PAD] [PAD] [PAD] [PAD] [PAD] [PAD] [PAD] [PAD] [PAD] [PAD] [PAD] [PAD] [PAD] [PAD] [PAD] [PAD] [PAD] [PAD] [PAD] [PAD] [PAD] [PAD] [PAD] [PAD] [PAD] [PAD] [PAD] [PAD] [PAD] [PAD] [PAD] [PAD] [PAD] [PAD] [PAD] [PAD] [PAD] [PAD] [PAD] [PAD] [PAD] [PAD] [PAD] [PAD] [PAD] [PAD] [PAD] [PAD] [PAD] [PAD] [PAD] [PAD] [PAD] [PAD] [PAD] [PAD]'"
      ]
     },
     "execution_count": 23,
     "metadata": {},
     "output_type": "execute_result"
    }
   ],
   "source": [
    "tokenizer.decode(tokenized_sample['input_ids'])"
   ]
  },
  {
   "cell_type": "code",
   "execution_count": null,
   "metadata": {},
   "outputs": [
    {
     "data": {
      "text/plain": [
       "{'input_ids': [101, 77527, 102, 0, 0, 0, 0, 0, 0, 0, 0, 0, 0, 0, 0, 0, 0, 0, 0, 0, 0, 0, 0, 0, 0, 0, 0, 0, 0, 0, 0, 0, 0, 0, 0, 0, 0, 0, 0, 0, 0, 0, 0, 0, 0, 0, 0, 0, 0, 0, 0, 0, 0, 0, 0, 0, 0, 0, 0, 0, 0, 0, 0, 0, 0, 0, 0, 0, 0, 0, 0, 0, 0, 0, 0, 0, 0, 0, 0, 0, 0, 0, 0, 0, 0, 0, 0, 0, 0, 0, 0, 0, 0, 0, 0, 0, 0, 0, 0, 0, 0, 0, 0, 0, 0, 0, 0, 0, 0, 0, 0, 0, 0, 0, 0, 0, 0, 0, 0, 0, 0, 0, 0, 0, 0, 0, 0, 0], 'token_type_ids': [0, 0, 0, 0, 0, 0, 0, 0, 0, 0, 0, 0, 0, 0, 0, 0, 0, 0, 0, 0, 0, 0, 0, 0, 0, 0, 0, 0, 0, 0, 0, 0, 0, 0, 0, 0, 0, 0, 0, 0, 0, 0, 0, 0, 0, 0, 0, 0, 0, 0, 0, 0, 0, 0, 0, 0, 0, 0, 0, 0, 0, 0, 0, 0, 0, 0, 0, 0, 0, 0, 0, 0, 0, 0, 0, 0, 0, 0, 0, 0, 0, 0, 0, 0, 0, 0, 0, 0, 0, 0, 0, 0, 0, 0, 0, 0, 0, 0, 0, 0, 0, 0, 0, 0, 0, 0, 0, 0, 0, 0, 0, 0, 0, 0, 0, 0, 0, 0, 0, 0, 0, 0, 0, 0, 0, 0, 0, 0], 'attention_mask': [1, 1, 1, 0, 0, 0, 0, 0, 0, 0, 0, 0, 0, 0, 0, 0, 0, 0, 0, 0, 0, 0, 0, 0, 0, 0, 0, 0, 0, 0, 0, 0, 0, 0, 0, 0, 0, 0, 0, 0, 0, 0, 0, 0, 0, 0, 0, 0, 0, 0, 0, 0, 0, 0, 0, 0, 0, 0, 0, 0, 0, 0, 0, 0, 0, 0, 0, 0, 0, 0, 0, 0, 0, 0, 0, 0, 0, 0, 0, 0, 0, 0, 0, 0, 0, 0, 0, 0, 0, 0, 0, 0, 0, 0, 0, 0, 0, 0, 0, 0, 0, 0, 0, 0, 0, 0, 0, 0, 0, 0, 0, 0, 0, 0, 0, 0, 0, 0, 0, 0, 0, 0, 0, 0, 0, 0, 0, 0]}"
      ]
     },
     "execution_count": 24,
     "metadata": {},
     "output_type": "execute_result"
    }
   ],
   "source": [
    "tokenized_sample"
   ]
  },
  {
   "cell_type": "code",
   "execution_count": null,
   "metadata": {},
   "outputs": [],
   "source": [
    "from datasets import Dataset"
   ]
  },
  {
   "cell_type": "code",
   "execution_count": null,
   "metadata": {},
   "outputs": [],
   "source": [
    "data = Dataset.from_pandas(df)"
   ]
  },
  {
   "cell_type": "code",
   "execution_count": null,
   "metadata": {},
   "outputs": [],
   "source": [
    "data = data.train_test_split(test_size=0.2)"
   ]
  },
  {
   "cell_type": "code",
   "execution_count": null,
   "metadata": {},
   "outputs": [],
   "source": [
    "def tokenize_function(row):\n",
    "    return tokenizer(row['Наименование закупки_x'], \n",
    "              truncation=True, \n",
    "              max_length=128, \n",
    "              padding='max_length')"
   ]
  },
  {
   "cell_type": "code",
   "execution_count": null,
   "metadata": {},
   "outputs": [
    {
     "data": {
      "application/vnd.jupyter.widget-view+json": {
       "model_id": "e2c10e74d4f74c34900874a5f03bafc1",
       "version_major": 2,
       "version_minor": 0
      },
      "text/plain": [
       "Map:   0%|          | 0/2548 [00:00<?, ? examples/s]"
      ]
     },
     "metadata": {},
     "output_type": "display_data"
    },
    {
     "data": {
      "application/vnd.jupyter.widget-view+json": {
       "model_id": "b4301ae2b5764afebad8d57114129a94",
       "version_major": 2,
       "version_minor": 0
      },
      "text/plain": [
       "Map:   0%|          | 0/638 [00:00<?, ? examples/s]"
      ]
     },
     "metadata": {},
     "output_type": "display_data"
    }
   ],
   "source": [
    "train = data['train'].map(tokenize_function, batched=True)\n",
    "test = data['test'].map(tokenize_function, batched=True)"
   ]
  },
  {
   "cell_type": "code",
   "execution_count": null,
   "metadata": {},
   "outputs": [],
   "source": [
    "train = train.rename_column(\"sentiment\", \"label\")\n",
    "test = test.rename_column(\"sentiment\", \"label\")"
   ]
  },
  {
   "cell_type": "code",
   "execution_count": null,
   "metadata": {},
   "outputs": [
    {
     "ename": "ImportError",
     "evalue": "Using the `Trainer` with `PyTorch` requires `accelerate>=0.21.0`: Please run `pip install transformers[torch]` or `pip install accelerate -U`",
     "output_type": "error",
     "traceback": [
      "\u001b[1;31m---------------------------------------------------------------------------\u001b[0m",
      "\u001b[1;31mImportError\u001b[0m                               Traceback (most recent call last)",
      "Cell \u001b[1;32mIn[31], line 1\u001b[0m\n\u001b[1;32m----> 1\u001b[0m training_args \u001b[38;5;241m=\u001b[39m \u001b[43mTrainingArguments\u001b[49m\u001b[43m(\u001b[49m\u001b[43moutput_dir\u001b[49m\u001b[38;5;241;43m=\u001b[39;49m\u001b[38;5;124;43m\"\u001b[39;49m\u001b[38;5;124;43mtemp\u001b[39;49m\u001b[38;5;124;43m\"\u001b[39;49m\u001b[43m,\u001b[49m\n\u001b[0;32m      2\u001b[0m \u001b[43m                                  \u001b[49m\u001b[43mevaluation_strategy\u001b[49m\u001b[38;5;241;43m=\u001b[39;49m\u001b[38;5;124;43m\"\u001b[39;49m\u001b[38;5;124;43mepoch\u001b[39;49m\u001b[38;5;124;43m\"\u001b[39;49m\u001b[43m,\u001b[49m\n\u001b[0;32m      3\u001b[0m \u001b[43m                                  \u001b[49m\u001b[43mnum_train_epochs\u001b[49m\u001b[38;5;241;43m=\u001b[39;49m\u001b[38;5;241;43m5\u001b[39;49m\u001b[43m,\u001b[49m\n\u001b[0;32m      4\u001b[0m \u001b[43m                                  \u001b[49m\u001b[43msave_steps\u001b[49m\u001b[38;5;241;43m=\u001b[39;49m\u001b[38;5;241;43m200\u001b[39;49m\u001b[43m,\u001b[49m\n\u001b[0;32m      5\u001b[0m \u001b[43m                                  \u001b[49m\u001b[43mper_device_eval_batch_size\u001b[49m\u001b[38;5;241;43m=\u001b[39;49m\u001b[38;5;241;43m64\u001b[39;49m\u001b[43m,\u001b[49m\n\u001b[0;32m      6\u001b[0m \u001b[43m                                  \u001b[49m\u001b[43mper_device_train_batch_size\u001b[49m\u001b[38;5;241;43m=\u001b[39;49m\u001b[38;5;241;43m64\u001b[39;49m\u001b[43m,\u001b[49m\n\u001b[0;32m      7\u001b[0m \u001b[43m                                  \u001b[49m\u001b[43mreport_to\u001b[49m\u001b[38;5;241;43m=\u001b[39;49m\u001b[38;5;124;43m'\u001b[39;49m\u001b[38;5;124;43mnone\u001b[39;49m\u001b[38;5;124;43m'\u001b[39;49m\u001b[43m)\u001b[49m\n",
      "File \u001b[1;32m<string>:121\u001b[0m, in \u001b[0;36m__init__\u001b[1;34m(self, output_dir, overwrite_output_dir, do_train, do_eval, do_predict, evaluation_strategy, prediction_loss_only, per_device_train_batch_size, per_device_eval_batch_size, per_gpu_train_batch_size, per_gpu_eval_batch_size, gradient_accumulation_steps, eval_accumulation_steps, eval_delay, learning_rate, weight_decay, adam_beta1, adam_beta2, adam_epsilon, max_grad_norm, num_train_epochs, max_steps, lr_scheduler_type, lr_scheduler_kwargs, warmup_ratio, warmup_steps, log_level, log_level_replica, log_on_each_node, logging_dir, logging_strategy, logging_first_step, logging_steps, logging_nan_inf_filter, save_strategy, save_steps, save_total_limit, save_safetensors, save_on_each_node, save_only_model, no_cuda, use_cpu, use_mps_device, seed, data_seed, jit_mode_eval, use_ipex, bf16, fp16, fp16_opt_level, half_precision_backend, bf16_full_eval, fp16_full_eval, tf32, local_rank, ddp_backend, tpu_num_cores, tpu_metrics_debug, debug, dataloader_drop_last, eval_steps, dataloader_num_workers, past_index, run_name, disable_tqdm, remove_unused_columns, label_names, load_best_model_at_end, metric_for_best_model, greater_is_better, ignore_data_skip, fsdp, fsdp_min_num_params, fsdp_config, fsdp_transformer_layer_cls_to_wrap, deepspeed, label_smoothing_factor, optim, optim_args, adafactor, group_by_length, length_column_name, report_to, ddp_find_unused_parameters, ddp_bucket_cap_mb, ddp_broadcast_buffers, dataloader_pin_memory, dataloader_persistent_workers, skip_memory_metrics, use_legacy_prediction_loop, push_to_hub, resume_from_checkpoint, hub_model_id, hub_strategy, hub_token, hub_private_repo, hub_always_push, gradient_checkpointing, gradient_checkpointing_kwargs, include_inputs_for_metrics, fp16_backend, push_to_hub_model_id, push_to_hub_organization, push_to_hub_token, mp_parameters, auto_find_batch_size, full_determinism, torchdynamo, ray_scope, ddp_timeout, torch_compile, torch_compile_backend, torch_compile_mode, dispatch_batches, split_batches, include_tokens_per_second, include_num_input_tokens_seen, neftune_noise_alpha)\u001b[0m\n",
      "File \u001b[1;32mc:\\Users\\Mi\\AppData\\Local\\Programs\\Python\\Python310\\lib\\site-packages\\transformers\\training_args.py:1483\u001b[0m, in \u001b[0;36mTrainingArguments.__post_init__\u001b[1;34m(self)\u001b[0m\n\u001b[0;32m   1477\u001b[0m     \u001b[38;5;28;01mif\u001b[39;00m version\u001b[38;5;241m.\u001b[39mparse(version\u001b[38;5;241m.\u001b[39mparse(torch\u001b[38;5;241m.\u001b[39m__version__)\u001b[38;5;241m.\u001b[39mbase_version) \u001b[38;5;241m==\u001b[39m version\u001b[38;5;241m.\u001b[39mparse(\u001b[38;5;124m\"\u001b[39m\u001b[38;5;124m2.0.0\u001b[39m\u001b[38;5;124m\"\u001b[39m) \u001b[38;5;129;01mand\u001b[39;00m \u001b[38;5;28mself\u001b[39m\u001b[38;5;241m.\u001b[39mfp16:\n\u001b[0;32m   1478\u001b[0m         \u001b[38;5;28;01mraise\u001b[39;00m \u001b[38;5;167;01mValueError\u001b[39;00m(\u001b[38;5;124m\"\u001b[39m\u001b[38;5;124m--optim adamw_torch_fused with --fp16 requires PyTorch>2.0\u001b[39m\u001b[38;5;124m\"\u001b[39m)\n\u001b[0;32m   1480\u001b[0m \u001b[38;5;28;01mif\u001b[39;00m (\n\u001b[0;32m   1481\u001b[0m     \u001b[38;5;28mself\u001b[39m\u001b[38;5;241m.\u001b[39mframework \u001b[38;5;241m==\u001b[39m \u001b[38;5;124m\"\u001b[39m\u001b[38;5;124mpt\u001b[39m\u001b[38;5;124m\"\u001b[39m\n\u001b[0;32m   1482\u001b[0m     \u001b[38;5;129;01mand\u001b[39;00m is_torch_available()\n\u001b[1;32m-> 1483\u001b[0m     \u001b[38;5;129;01mand\u001b[39;00m (\u001b[38;5;28;43mself\u001b[39;49m\u001b[38;5;241;43m.\u001b[39;49m\u001b[43mdevice\u001b[49m\u001b[38;5;241m.\u001b[39mtype \u001b[38;5;241m!=\u001b[39m \u001b[38;5;124m\"\u001b[39m\u001b[38;5;124mcuda\u001b[39m\u001b[38;5;124m\"\u001b[39m)\n\u001b[0;32m   1484\u001b[0m     \u001b[38;5;129;01mand\u001b[39;00m (\u001b[38;5;28mself\u001b[39m\u001b[38;5;241m.\u001b[39mdevice\u001b[38;5;241m.\u001b[39mtype \u001b[38;5;241m!=\u001b[39m \u001b[38;5;124m\"\u001b[39m\u001b[38;5;124mnpu\u001b[39m\u001b[38;5;124m\"\u001b[39m)\n\u001b[0;32m   1485\u001b[0m     \u001b[38;5;129;01mand\u001b[39;00m (\u001b[38;5;28mself\u001b[39m\u001b[38;5;241m.\u001b[39mdevice\u001b[38;5;241m.\u001b[39mtype \u001b[38;5;241m!=\u001b[39m \u001b[38;5;124m\"\u001b[39m\u001b[38;5;124mxpu\u001b[39m\u001b[38;5;124m\"\u001b[39m)\n\u001b[0;32m   1486\u001b[0m     \u001b[38;5;129;01mand\u001b[39;00m (get_xla_device_type(\u001b[38;5;28mself\u001b[39m\u001b[38;5;241m.\u001b[39mdevice) \u001b[38;5;241m!=\u001b[39m \u001b[38;5;124m\"\u001b[39m\u001b[38;5;124mGPU\u001b[39m\u001b[38;5;124m\"\u001b[39m)\n\u001b[0;32m   1487\u001b[0m     \u001b[38;5;129;01mand\u001b[39;00m (\u001b[38;5;28mself\u001b[39m\u001b[38;5;241m.\u001b[39mfp16 \u001b[38;5;129;01mor\u001b[39;00m \u001b[38;5;28mself\u001b[39m\u001b[38;5;241m.\u001b[39mfp16_full_eval)\n\u001b[0;32m   1488\u001b[0m ):\n\u001b[0;32m   1489\u001b[0m     \u001b[38;5;28;01mraise\u001b[39;00m \u001b[38;5;167;01mValueError\u001b[39;00m(\n\u001b[0;32m   1490\u001b[0m         \u001b[38;5;124m\"\u001b[39m\u001b[38;5;124mFP16 Mixed precision training with AMP or APEX (`--fp16`) and FP16 half precision evaluation\u001b[39m\u001b[38;5;124m\"\u001b[39m\n\u001b[0;32m   1491\u001b[0m         \u001b[38;5;124m\"\u001b[39m\u001b[38;5;124m (`--fp16_full_eval`) can only be used on CUDA or NPU devices or certain XPU devices (with IPEX).\u001b[39m\u001b[38;5;124m\"\u001b[39m\n\u001b[0;32m   1492\u001b[0m     )\n\u001b[0;32m   1494\u001b[0m \u001b[38;5;28;01mif\u001b[39;00m (\n\u001b[0;32m   1495\u001b[0m     \u001b[38;5;28mself\u001b[39m\u001b[38;5;241m.\u001b[39mframework \u001b[38;5;241m==\u001b[39m \u001b[38;5;124m\"\u001b[39m\u001b[38;5;124mpt\u001b[39m\u001b[38;5;124m\"\u001b[39m\n\u001b[0;32m   1496\u001b[0m     \u001b[38;5;129;01mand\u001b[39;00m is_torch_available()\n\u001b[1;32m   (...)\u001b[0m\n\u001b[0;32m   1503\u001b[0m     \u001b[38;5;129;01mand\u001b[39;00m (\u001b[38;5;28mself\u001b[39m\u001b[38;5;241m.\u001b[39mbf16 \u001b[38;5;129;01mor\u001b[39;00m \u001b[38;5;28mself\u001b[39m\u001b[38;5;241m.\u001b[39mbf16_full_eval)\n\u001b[0;32m   1504\u001b[0m ):\n",
      "File \u001b[1;32mc:\\Users\\Mi\\AppData\\Local\\Programs\\Python\\Python310\\lib\\site-packages\\transformers\\training_args.py:1921\u001b[0m, in \u001b[0;36mTrainingArguments.device\u001b[1;34m(self)\u001b[0m\n\u001b[0;32m   1917\u001b[0m \u001b[38;5;250m\u001b[39m\u001b[38;5;124;03m\"\"\"\u001b[39;00m\n\u001b[0;32m   1918\u001b[0m \u001b[38;5;124;03mThe device used by this process.\u001b[39;00m\n\u001b[0;32m   1919\u001b[0m \u001b[38;5;124;03m\"\"\"\u001b[39;00m\n\u001b[0;32m   1920\u001b[0m requires_backends(\u001b[38;5;28mself\u001b[39m, [\u001b[38;5;124m\"\u001b[39m\u001b[38;5;124mtorch\u001b[39m\u001b[38;5;124m\"\u001b[39m])\n\u001b[1;32m-> 1921\u001b[0m \u001b[38;5;28;01mreturn\u001b[39;00m \u001b[38;5;28;43mself\u001b[39;49m\u001b[38;5;241;43m.\u001b[39;49m\u001b[43m_setup_devices\u001b[49m\n",
      "File \u001b[1;32mc:\\Users\\Mi\\AppData\\Local\\Programs\\Python\\Python310\\lib\\site-packages\\transformers\\utils\\generic.py:54\u001b[0m, in \u001b[0;36mcached_property.__get__\u001b[1;34m(self, obj, objtype)\u001b[0m\n\u001b[0;32m     52\u001b[0m cached \u001b[38;5;241m=\u001b[39m \u001b[38;5;28mgetattr\u001b[39m(obj, attr, \u001b[38;5;28;01mNone\u001b[39;00m)\n\u001b[0;32m     53\u001b[0m \u001b[38;5;28;01mif\u001b[39;00m cached \u001b[38;5;129;01mis\u001b[39;00m \u001b[38;5;28;01mNone\u001b[39;00m:\n\u001b[1;32m---> 54\u001b[0m     cached \u001b[38;5;241m=\u001b[39m \u001b[38;5;28;43mself\u001b[39;49m\u001b[38;5;241;43m.\u001b[39;49m\u001b[43mfget\u001b[49m\u001b[43m(\u001b[49m\u001b[43mobj\u001b[49m\u001b[43m)\u001b[49m\n\u001b[0;32m     55\u001b[0m     \u001b[38;5;28msetattr\u001b[39m(obj, attr, cached)\n\u001b[0;32m     56\u001b[0m \u001b[38;5;28;01mreturn\u001b[39;00m cached\n",
      "File \u001b[1;32mc:\\Users\\Mi\\AppData\\Local\\Programs\\Python\\Python310\\lib\\site-packages\\transformers\\training_args.py:1831\u001b[0m, in \u001b[0;36mTrainingArguments._setup_devices\u001b[1;34m(self)\u001b[0m\n\u001b[0;32m   1829\u001b[0m \u001b[38;5;28;01mif\u001b[39;00m \u001b[38;5;129;01mnot\u001b[39;00m is_sagemaker_mp_enabled():\n\u001b[0;32m   1830\u001b[0m     \u001b[38;5;28;01mif\u001b[39;00m \u001b[38;5;129;01mnot\u001b[39;00m is_accelerate_available():\n\u001b[1;32m-> 1831\u001b[0m         \u001b[38;5;28;01mraise\u001b[39;00m \u001b[38;5;167;01mImportError\u001b[39;00m(\n\u001b[0;32m   1832\u001b[0m             \u001b[38;5;124mf\u001b[39m\u001b[38;5;124m\"\u001b[39m\u001b[38;5;124mUsing the `Trainer` with `PyTorch` requires `accelerate>=\u001b[39m\u001b[38;5;132;01m{\u001b[39;00mACCELERATE_MIN_VERSION\u001b[38;5;132;01m}\u001b[39;00m\u001b[38;5;124m`: \u001b[39m\u001b[38;5;124m\"\u001b[39m\n\u001b[0;32m   1833\u001b[0m             \u001b[38;5;124m\"\u001b[39m\u001b[38;5;124mPlease run `pip install transformers[torch]` or `pip install accelerate -U`\u001b[39m\u001b[38;5;124m\"\u001b[39m\n\u001b[0;32m   1834\u001b[0m         )\n\u001b[0;32m   1835\u001b[0m     AcceleratorState\u001b[38;5;241m.\u001b[39m_reset_state(reset_partial_state\u001b[38;5;241m=\u001b[39m\u001b[38;5;28;01mTrue\u001b[39;00m)\n\u001b[0;32m   1836\u001b[0m \u001b[38;5;28mself\u001b[39m\u001b[38;5;241m.\u001b[39mdistributed_state \u001b[38;5;241m=\u001b[39m \u001b[38;5;28;01mNone\u001b[39;00m\n",
      "\u001b[1;31mImportError\u001b[0m: Using the `Trainer` with `PyTorch` requires `accelerate>=0.21.0`: Please run `pip install transformers[torch]` or `pip install accelerate -U`"
     ]
    }
   ],
   "source": [
    "training_args = TrainingArguments(output_dir=\"temp\",\n",
    "                                  evaluation_strategy=\"epoch\",\n",
    "                                  num_train_epochs=5,\n",
    "                                  save_steps=200,\n",
    "                                  per_device_eval_batch_size=64,\n",
    "                                  per_device_train_batch_size=64,\n",
    "                                  report_to='none')\n"
   ]
  },
  {
   "cell_type": "code",
   "execution_count": null,
   "metadata": {},
   "outputs": [],
   "source": [
    "trainer = Trainer(model=model,\n",
    "                  args=training_args,\n",
    "                  train_dataset=train,\n",
    "                  eval_dataset={\"TRAIN\":train, \"VALID\":test},\n",
    "                #   compute_metrics=ServiceCategorizer.compute_metrics,\n",
    "                #   custom_class_weight=self.class_weights\n",
    "                  )"
   ]
  },
  {
   "cell_type": "code",
   "execution_count": null,
   "metadata": {},
   "outputs": [
    {
     "data": {
      "text/html": [
       "\n",
       "    <div>\n",
       "      \n",
       "      <progress value='200' max='200' style='width:300px; height:20px; vertical-align: middle;'></progress>\n",
       "      [200/200 01:43, Epoch 5/5]\n",
       "    </div>\n",
       "    <table border=\"1\" class=\"dataframe\">\n",
       "  <thead>\n",
       " <tr style=\"text-align: left;\">\n",
       "      <th>Epoch</th>\n",
       "      <th>Training Loss</th>\n",
       "      <th>Validation Loss</th>\n",
       "      <th>Train Loss</th>\n",
       "      <th>Valid Loss</th>\n",
       "    </tr>\n",
       "  </thead>\n",
       "  <tbody>\n",
       "    <tr>\n",
       "      <td>1</td>\n",
       "      <td>No log</td>\n",
       "      <td>No log</td>\n",
       "      <td>0.013826</td>\n",
       "      <td>0.318432</td>\n",
       "    </tr>\n",
       "    <tr>\n",
       "      <td>2</td>\n",
       "      <td>No log</td>\n",
       "      <td>No log</td>\n",
       "      <td>0.019078</td>\n",
       "      <td>0.274241</td>\n",
       "    </tr>\n",
       "    <tr>\n",
       "      <td>3</td>\n",
       "      <td>No log</td>\n",
       "      <td>No log</td>\n",
       "      <td>0.003023</td>\n",
       "      <td>0.275034</td>\n",
       "    </tr>\n",
       "    <tr>\n",
       "      <td>4</td>\n",
       "      <td>No log</td>\n",
       "      <td>No log</td>\n",
       "      <td>0.000955</td>\n",
       "      <td>0.298922</td>\n",
       "    </tr>\n",
       "    <tr>\n",
       "      <td>5</td>\n",
       "      <td>No log</td>\n",
       "      <td>No log</td>\n",
       "      <td>0.000897</td>\n",
       "      <td>0.306704</td>\n",
       "    </tr>\n",
       "  </tbody>\n",
       "</table><p>"
      ],
      "text/plain": [
       "<IPython.core.display.HTML object>"
      ]
     },
     "metadata": {},
     "output_type": "display_data"
    },
    {
     "data": {
      "text/plain": [
       "TrainOutput(global_step=200, training_loss=0.01660379409790039, metrics={'train_runtime': 104.4901, 'train_samples_per_second': 121.925, 'train_steps_per_second': 1.914, 'total_flos': 838008711321600.0, 'train_loss': 0.01660379409790039, 'epoch': 5.0})"
      ]
     },
     "execution_count": 195,
     "metadata": {},
     "output_type": "execute_result"
    }
   ],
   "source": [
    "trainer.train()"
   ]
  },
  {
   "cell_type": "code",
   "execution_count": null,
   "metadata": {},
   "outputs": [
    {
     "data": {
      "text/html": [],
      "text/plain": [
       "<IPython.core.display.HTML object>"
      ]
     },
     "metadata": {},
     "output_type": "display_data"
    }
   ],
   "source": [
    "preds = trainer.predict(test)"
   ]
  },
  {
   "cell_type": "code",
   "execution_count": null,
   "metadata": {},
   "outputs": [],
   "source": [
    "from torch.nn import Sigmoid\n",
    "import torch"
   ]
  },
  {
   "cell_type": "code",
   "execution_count": null,
   "metadata": {},
   "outputs": [],
   "source": [
    "test_probas = torch.sigmoid(torch.from_numpy(preds.predictions[:, 1]))"
   ]
  },
  {
   "cell_type": "code",
   "execution_count": null,
   "metadata": {},
   "outputs": [],
   "source": [
    "test_labels = test_probas.numpy() > 0.5\n",
    "test_labels = test_labels.tolist()"
   ]
  },
  {
   "cell_type": "code",
   "execution_count": null,
   "metadata": {},
   "outputs": [
    {
     "name": "stdout",
     "output_type": "stream",
     "text": [
      "              precision    recall  f1-score   support\n",
      "\n",
      "           0       0.97      0.98      0.98       589\n",
      "           1       0.76      0.63      0.69        49\n",
      "\n",
      "    accuracy                           0.96       638\n",
      "   macro avg       0.86      0.81      0.83       638\n",
      "weighted avg       0.95      0.96      0.95       638\n",
      "\n"
     ]
    }
   ],
   "source": [
    "print(m.classification_report(test['label'], test_labels))"
   ]
  },
  {
   "cell_type": "code",
   "execution_count": null,
   "metadata": {},
   "outputs": [],
   "source": [
    "### TO DO:\n",
    "# изучить как прикрутить compute_metrics\n",
    "# изучить как прокинуть class_weight в Trainer ***\n",
    "# Попробовать в токенизатор прикрутить дополнительную текстовую информацию\n",
    "# Изучить и применить BERTopic (это отдельная библиотека для кластеризации , очень наглядно)\n",
    "# To be cont...."
   ]
  },
  {
   "cell_type": "code",
   "execution_count": null,
   "metadata": {},
   "outputs": [],
   "source": []
  }
 ],
 "metadata": {
  "kernelspec": {
   "display_name": ".venv",
   "language": "python",
   "name": "python3"
  },
  "language_info": {
   "codemirror_mode": {
    "name": "ipython",
    "version": 3
   },
   "file_extension": ".py",
   "mimetype": "text/x-python",
   "name": "python",
   "nbconvert_exporter": "python",
   "pygments_lexer": "ipython3",
   "version": "3.10.0"
  }
 },
 "nbformat": 4,
 "nbformat_minor": 2
}
