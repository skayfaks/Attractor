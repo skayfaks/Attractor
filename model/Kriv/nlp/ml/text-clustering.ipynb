{
 "cells": [
  {
   "cell_type": "code",
   "execution_count": 2,
   "metadata": {},
   "outputs": [],
   "source": [
    "import pandas as pd\n",
    "import numpy as np\n",
    "from tqdm.auto import tqdm, trange\n",
    "import nltk\n",
    "import re"
   ]
  },
  {
   "cell_type": "code",
   "execution_count": 3,
   "metadata": {},
   "outputs": [],
   "source": [
    "data = pd.read_csv('./lemm_1t.csv')"
   ]
  },
  {
   "cell_type": "code",
   "execution_count": 15,
   "metadata": {},
   "outputs": [
    {
     "data": {
      "text/html": [
       "<div>\n",
       "<style scoped>\n",
       "    .dataframe tbody tr th:only-of-type {\n",
       "        vertical-align: middle;\n",
       "    }\n",
       "\n",
       "    .dataframe tbody tr th {\n",
       "        vertical-align: top;\n",
       "    }\n",
       "\n",
       "    .dataframe thead th {\n",
       "        text-align: right;\n",
       "    }\n",
       "</style>\n",
       "<table border=\"1\" class=\"dataframe\">\n",
       "  <thead>\n",
       "    <tr style=\"text-align: right;\">\n",
       "      <th></th>\n",
       "      <th>sentiment</th>\n",
       "      <th>okpd_2</th>\n",
       "      <th>name</th>\n",
       "      <th>number</th>\n",
       "      <th>fz</th>\n",
       "      <th>date</th>\n",
       "      <th>text_prep</th>\n",
       "      <th>text_stem</th>\n",
       "      <th>text_sw</th>\n",
       "      <th>text_lemm</th>\n",
       "    </tr>\n",
       "  </thead>\n",
       "  <tbody>\n",
       "    <tr>\n",
       "      <th>0</th>\n",
       "      <td>Не подходит</td>\n",
       "      <td>62.01.29.000: Оригиналы программного обеспечен...</td>\n",
       "      <td>Предоставление неисключительного права испол...</td>\n",
       "      <td>№0169300040423000063</td>\n",
       "      <td>44-ФЗ</td>\n",
       "      <td>04.09.2023</td>\n",
       "      <td>предоставление неисключительного права исполь...</td>\n",
       "      <td>предоставлен неисключительн прав использован а...</td>\n",
       "      <td>предоставление неисключительного права использ...</td>\n",
       "      <td>предоставление неисключительный право использо...</td>\n",
       "    </tr>\n",
       "    <tr>\n",
       "      <th>1</th>\n",
       "      <td>Не подходит</td>\n",
       "      <td>62.02.20.190: Услуги консультативные в области...</td>\n",
       "      <td>Предоставление услуг по сопровождению програм...</td>\n",
       "      <td>№0162300011123000065</td>\n",
       "      <td>44-ФЗ</td>\n",
       "      <td>07.09.2023</td>\n",
       "      <td>предоставление услуг по сопровождению програм...</td>\n",
       "      <td>предоставлен услуг сопровожден программн компл...</td>\n",
       "      <td>предоставление услуг сопровождению программног...</td>\n",
       "      <td>предоставление услуга сопровождение программны...</td>\n",
       "    </tr>\n",
       "    <tr>\n",
       "      <th>2</th>\n",
       "      <td>Не подходит</td>\n",
       "      <td>62.01.29.000: Оригиналы программного обеспечен...</td>\n",
       "      <td>Программное средство антивирусной защиты</td>\n",
       "      <td>№0122100010223000021</td>\n",
       "      <td>44-ФЗ</td>\n",
       "      <td>18.09.2023</td>\n",
       "      <td>программное средство антивирусной защиты</td>\n",
       "      <td>программн средств антивирусн защит</td>\n",
       "      <td>программное средство антивирусной защиты</td>\n",
       "      <td>программный средство антивирусный защита \\n</td>\n",
       "    </tr>\n",
       "    <tr>\n",
       "      <th>3</th>\n",
       "      <td>Не подходит</td>\n",
       "      <td>62.01.29.000: Оригиналы программного обеспечен...</td>\n",
       "      <td>Программное средство антивирусной защиты</td>\n",
       "      <td>№0302300050523000034</td>\n",
       "      <td>44-ФЗ</td>\n",
       "      <td>21.08.2023</td>\n",
       "      <td>программное средство антивирусной защиты</td>\n",
       "      <td>программн средств антивирусн защит</td>\n",
       "      <td>программное средство антивирусной защиты</td>\n",
       "      <td>программный средство антивирусный защита \\n</td>\n",
       "    </tr>\n",
       "  </tbody>\n",
       "</table>\n",
       "</div>"
      ],
      "text/plain": [
       "     sentiment                                             okpd_2  \\\n",
       "0  Не подходит  62.01.29.000: Оригиналы программного обеспечен...   \n",
       "1  Не подходит  62.02.20.190: Услуги консультативные в области...   \n",
       "2  Не подходит  62.01.29.000: Оригиналы программного обеспечен...   \n",
       "3  Не подходит  62.01.29.000: Оригиналы программного обеспечен...   \n",
       "\n",
       "                                                name                number  \\\n",
       "0    Предоставление неисключительного права испол...  №0169300040423000063   \n",
       "1   Предоставление услуг по сопровождению програм...  №0162300011123000065   \n",
       "2           Программное средство антивирусной защиты  №0122100010223000021   \n",
       "3           Программное средство антивирусной защиты  №0302300050523000034   \n",
       "\n",
       "      fz        date                                          text_prep  \\\n",
       "0  44-ФЗ  04.09.2023   предоставление неисключительного права исполь...   \n",
       "1  44-ФЗ  07.09.2023   предоставление услуг по сопровождению програм...   \n",
       "2  44-ФЗ  18.09.2023           программное средство антивирусной защиты   \n",
       "3  44-ФЗ  21.08.2023           программное средство антивирусной защиты   \n",
       "\n",
       "                                           text_stem  \\\n",
       "0  предоставлен неисключительн прав использован а...   \n",
       "1  предоставлен услуг сопровожден программн компл...   \n",
       "2                 программн средств антивирусн защит   \n",
       "3                 программн средств антивирусн защит   \n",
       "\n",
       "                                             text_sw  \\\n",
       "0  предоставление неисключительного права использ...   \n",
       "1  предоставление услуг сопровождению программног...   \n",
       "2           программное средство антивирусной защиты   \n",
       "3           программное средство антивирусной защиты   \n",
       "\n",
       "                                           text_lemm  \n",
       "0  предоставление неисключительный право использо...  \n",
       "1  предоставление услуга сопровождение программны...  \n",
       "2        программный средство антивирусный защита \\n  \n",
       "3        программный средство антивирусный защита \\n  "
      ]
     },
     "execution_count": 15,
     "metadata": {},
     "output_type": "execute_result"
    }
   ],
   "source": [
    "data.head(4)"
   ]
  },
  {
   "cell_type": "code",
   "execution_count": 16,
   "metadata": {},
   "outputs": [
    {
     "ename": "KeyError",
     "evalue": "\"['Unnamed: 0'] not found in axis\"",
     "output_type": "error",
     "traceback": [
      "\u001b[1;31m---------------------------------------------------------------------------\u001b[0m",
      "\u001b[1;31mKeyError\u001b[0m                                  Traceback (most recent call last)",
      "Cell \u001b[1;32mIn[16], line 1\u001b[0m\n\u001b[1;32m----> 1\u001b[0m \u001b[43mdata\u001b[49m\u001b[38;5;241;43m.\u001b[39;49m\u001b[43mdrop\u001b[49m\u001b[43m(\u001b[49m\u001b[43mcolumns\u001b[49m\u001b[38;5;241;43m=\u001b[39;49m\u001b[43m[\u001b[49m\u001b[38;5;124;43m'\u001b[39;49m\u001b[38;5;124;43mUnnamed: 0\u001b[39;49m\u001b[38;5;124;43m'\u001b[39;49m\u001b[43m]\u001b[49m\u001b[43m,\u001b[49m\u001b[43m \u001b[49m\u001b[43minplace\u001b[49m\u001b[38;5;241;43m=\u001b[39;49m\u001b[38;5;28;43;01mTrue\u001b[39;49;00m\u001b[43m)\u001b[49m\n",
      "File \u001b[1;32mc:\\Users\\Mi\\AppData\\Local\\Programs\\Python\\Python310\\lib\\site-packages\\pandas\\util\\_decorators.py:311\u001b[0m, in \u001b[0;36mdeprecate_nonkeyword_arguments.<locals>.decorate.<locals>.wrapper\u001b[1;34m(*args, **kwargs)\u001b[0m\n\u001b[0;32m    305\u001b[0m \u001b[38;5;28;01mif\u001b[39;00m \u001b[38;5;28mlen\u001b[39m(args) \u001b[38;5;241m>\u001b[39m num_allow_args:\n\u001b[0;32m    306\u001b[0m     warnings\u001b[38;5;241m.\u001b[39mwarn(\n\u001b[0;32m    307\u001b[0m         msg\u001b[38;5;241m.\u001b[39mformat(arguments\u001b[38;5;241m=\u001b[39marguments),\n\u001b[0;32m    308\u001b[0m         \u001b[38;5;167;01mFutureWarning\u001b[39;00m,\n\u001b[0;32m    309\u001b[0m         stacklevel\u001b[38;5;241m=\u001b[39mstacklevel,\n\u001b[0;32m    310\u001b[0m     )\n\u001b[1;32m--> 311\u001b[0m \u001b[38;5;28;01mreturn\u001b[39;00m func(\u001b[38;5;241m*\u001b[39margs, \u001b[38;5;241m*\u001b[39m\u001b[38;5;241m*\u001b[39mkwargs)\n",
      "File \u001b[1;32mc:\\Users\\Mi\\AppData\\Local\\Programs\\Python\\Python310\\lib\\site-packages\\pandas\\core\\frame.py:4906\u001b[0m, in \u001b[0;36mDataFrame.drop\u001b[1;34m(self, labels, axis, index, columns, level, inplace, errors)\u001b[0m\n\u001b[0;32m   4774\u001b[0m \u001b[38;5;129m@deprecate_nonkeyword_arguments\u001b[39m(version\u001b[38;5;241m=\u001b[39m\u001b[38;5;28;01mNone\u001b[39;00m, allowed_args\u001b[38;5;241m=\u001b[39m[\u001b[38;5;124m\"\u001b[39m\u001b[38;5;124mself\u001b[39m\u001b[38;5;124m\"\u001b[39m, \u001b[38;5;124m\"\u001b[39m\u001b[38;5;124mlabels\u001b[39m\u001b[38;5;124m\"\u001b[39m])\n\u001b[0;32m   4775\u001b[0m \u001b[38;5;28;01mdef\u001b[39;00m \u001b[38;5;21mdrop\u001b[39m(\n\u001b[0;32m   4776\u001b[0m     \u001b[38;5;28mself\u001b[39m,\n\u001b[1;32m   (...)\u001b[0m\n\u001b[0;32m   4783\u001b[0m     errors: \u001b[38;5;28mstr\u001b[39m \u001b[38;5;241m=\u001b[39m \u001b[38;5;124m\"\u001b[39m\u001b[38;5;124mraise\u001b[39m\u001b[38;5;124m\"\u001b[39m,\n\u001b[0;32m   4784\u001b[0m ):\n\u001b[0;32m   4785\u001b[0m \u001b[38;5;250m    \u001b[39m\u001b[38;5;124;03m\"\"\"\u001b[39;00m\n\u001b[0;32m   4786\u001b[0m \u001b[38;5;124;03m    Drop specified labels from rows or columns.\u001b[39;00m\n\u001b[0;32m   4787\u001b[0m \n\u001b[1;32m   (...)\u001b[0m\n\u001b[0;32m   4904\u001b[0m \u001b[38;5;124;03m            weight  1.0     0.8\u001b[39;00m\n\u001b[0;32m   4905\u001b[0m \u001b[38;5;124;03m    \"\"\"\u001b[39;00m\n\u001b[1;32m-> 4906\u001b[0m     \u001b[38;5;28;01mreturn\u001b[39;00m \u001b[38;5;28;43msuper\u001b[39;49m\u001b[43m(\u001b[49m\u001b[43m)\u001b[49m\u001b[38;5;241;43m.\u001b[39;49m\u001b[43mdrop\u001b[49m\u001b[43m(\u001b[49m\n\u001b[0;32m   4907\u001b[0m \u001b[43m        \u001b[49m\u001b[43mlabels\u001b[49m\u001b[38;5;241;43m=\u001b[39;49m\u001b[43mlabels\u001b[49m\u001b[43m,\u001b[49m\n\u001b[0;32m   4908\u001b[0m \u001b[43m        \u001b[49m\u001b[43maxis\u001b[49m\u001b[38;5;241;43m=\u001b[39;49m\u001b[43maxis\u001b[49m\u001b[43m,\u001b[49m\n\u001b[0;32m   4909\u001b[0m \u001b[43m        \u001b[49m\u001b[43mindex\u001b[49m\u001b[38;5;241;43m=\u001b[39;49m\u001b[43mindex\u001b[49m\u001b[43m,\u001b[49m\n\u001b[0;32m   4910\u001b[0m \u001b[43m        \u001b[49m\u001b[43mcolumns\u001b[49m\u001b[38;5;241;43m=\u001b[39;49m\u001b[43mcolumns\u001b[49m\u001b[43m,\u001b[49m\n\u001b[0;32m   4911\u001b[0m \u001b[43m        \u001b[49m\u001b[43mlevel\u001b[49m\u001b[38;5;241;43m=\u001b[39;49m\u001b[43mlevel\u001b[49m\u001b[43m,\u001b[49m\n\u001b[0;32m   4912\u001b[0m \u001b[43m        \u001b[49m\u001b[43minplace\u001b[49m\u001b[38;5;241;43m=\u001b[39;49m\u001b[43minplace\u001b[49m\u001b[43m,\u001b[49m\n\u001b[0;32m   4913\u001b[0m \u001b[43m        \u001b[49m\u001b[43merrors\u001b[49m\u001b[38;5;241;43m=\u001b[39;49m\u001b[43merrors\u001b[49m\u001b[43m,\u001b[49m\n\u001b[0;32m   4914\u001b[0m \u001b[43m    \u001b[49m\u001b[43m)\u001b[49m\n",
      "File \u001b[1;32mc:\\Users\\Mi\\AppData\\Local\\Programs\\Python\\Python310\\lib\\site-packages\\pandas\\core\\generic.py:4150\u001b[0m, in \u001b[0;36mNDFrame.drop\u001b[1;34m(self, labels, axis, index, columns, level, inplace, errors)\u001b[0m\n\u001b[0;32m   4148\u001b[0m \u001b[38;5;28;01mfor\u001b[39;00m axis, labels \u001b[38;5;129;01min\u001b[39;00m axes\u001b[38;5;241m.\u001b[39mitems():\n\u001b[0;32m   4149\u001b[0m     \u001b[38;5;28;01mif\u001b[39;00m labels \u001b[38;5;129;01mis\u001b[39;00m \u001b[38;5;129;01mnot\u001b[39;00m \u001b[38;5;28;01mNone\u001b[39;00m:\n\u001b[1;32m-> 4150\u001b[0m         obj \u001b[38;5;241m=\u001b[39m \u001b[43mobj\u001b[49m\u001b[38;5;241;43m.\u001b[39;49m\u001b[43m_drop_axis\u001b[49m\u001b[43m(\u001b[49m\u001b[43mlabels\u001b[49m\u001b[43m,\u001b[49m\u001b[43m \u001b[49m\u001b[43maxis\u001b[49m\u001b[43m,\u001b[49m\u001b[43m \u001b[49m\u001b[43mlevel\u001b[49m\u001b[38;5;241;43m=\u001b[39;49m\u001b[43mlevel\u001b[49m\u001b[43m,\u001b[49m\u001b[43m \u001b[49m\u001b[43merrors\u001b[49m\u001b[38;5;241;43m=\u001b[39;49m\u001b[43merrors\u001b[49m\u001b[43m)\u001b[49m\n\u001b[0;32m   4152\u001b[0m \u001b[38;5;28;01mif\u001b[39;00m inplace:\n\u001b[0;32m   4153\u001b[0m     \u001b[38;5;28mself\u001b[39m\u001b[38;5;241m.\u001b[39m_update_inplace(obj)\n",
      "File \u001b[1;32mc:\\Users\\Mi\\AppData\\Local\\Programs\\Python\\Python310\\lib\\site-packages\\pandas\\core\\generic.py:4185\u001b[0m, in \u001b[0;36mNDFrame._drop_axis\u001b[1;34m(self, labels, axis, level, errors)\u001b[0m\n\u001b[0;32m   4183\u001b[0m         new_axis \u001b[38;5;241m=\u001b[39m axis\u001b[38;5;241m.\u001b[39mdrop(labels, level\u001b[38;5;241m=\u001b[39mlevel, errors\u001b[38;5;241m=\u001b[39merrors)\n\u001b[0;32m   4184\u001b[0m     \u001b[38;5;28;01melse\u001b[39;00m:\n\u001b[1;32m-> 4185\u001b[0m         new_axis \u001b[38;5;241m=\u001b[39m \u001b[43maxis\u001b[49m\u001b[38;5;241;43m.\u001b[39;49m\u001b[43mdrop\u001b[49m\u001b[43m(\u001b[49m\u001b[43mlabels\u001b[49m\u001b[43m,\u001b[49m\u001b[43m \u001b[49m\u001b[43merrors\u001b[49m\u001b[38;5;241;43m=\u001b[39;49m\u001b[43merrors\u001b[49m\u001b[43m)\u001b[49m\n\u001b[0;32m   4186\u001b[0m     result \u001b[38;5;241m=\u001b[39m \u001b[38;5;28mself\u001b[39m\u001b[38;5;241m.\u001b[39mreindex(\u001b[38;5;241m*\u001b[39m\u001b[38;5;241m*\u001b[39m{axis_name: new_axis})\n\u001b[0;32m   4188\u001b[0m \u001b[38;5;66;03m# Case for non-unique axis\u001b[39;00m\n\u001b[0;32m   4189\u001b[0m \u001b[38;5;28;01melse\u001b[39;00m:\n",
      "File \u001b[1;32mc:\\Users\\Mi\\AppData\\Local\\Programs\\Python\\Python310\\lib\\site-packages\\pandas\\core\\indexes\\base.py:6017\u001b[0m, in \u001b[0;36mIndex.drop\u001b[1;34m(self, labels, errors)\u001b[0m\n\u001b[0;32m   6015\u001b[0m \u001b[38;5;28;01mif\u001b[39;00m mask\u001b[38;5;241m.\u001b[39many():\n\u001b[0;32m   6016\u001b[0m     \u001b[38;5;28;01mif\u001b[39;00m errors \u001b[38;5;241m!=\u001b[39m \u001b[38;5;124m\"\u001b[39m\u001b[38;5;124mignore\u001b[39m\u001b[38;5;124m\"\u001b[39m:\n\u001b[1;32m-> 6017\u001b[0m         \u001b[38;5;28;01mraise\u001b[39;00m \u001b[38;5;167;01mKeyError\u001b[39;00m(\u001b[38;5;124mf\u001b[39m\u001b[38;5;124m\"\u001b[39m\u001b[38;5;132;01m{\u001b[39;00mlabels[mask]\u001b[38;5;132;01m}\u001b[39;00m\u001b[38;5;124m not found in axis\u001b[39m\u001b[38;5;124m\"\u001b[39m)\n\u001b[0;32m   6018\u001b[0m     indexer \u001b[38;5;241m=\u001b[39m indexer[\u001b[38;5;241m~\u001b[39mmask]\n\u001b[0;32m   6019\u001b[0m \u001b[38;5;28;01mreturn\u001b[39;00m \u001b[38;5;28mself\u001b[39m\u001b[38;5;241m.\u001b[39mdelete(indexer)\n",
      "\u001b[1;31mKeyError\u001b[0m: \"['Unnamed: 0'] not found in axis\""
     ]
    }
   ],
   "source": [
    "data.drop(columns=['Unnamed: 0'], inplace=True)"
   ]
  },
  {
   "cell_type": "code",
   "execution_count": 30,
   "metadata": {},
   "outputs": [
    {
     "data": {
      "text/html": [
       "<div>\n",
       "<style scoped>\n",
       "    .dataframe tbody tr th:only-of-type {\n",
       "        vertical-align: middle;\n",
       "    }\n",
       "\n",
       "    .dataframe tbody tr th {\n",
       "        vertical-align: top;\n",
       "    }\n",
       "\n",
       "    .dataframe thead th {\n",
       "        text-align: right;\n",
       "    }\n",
       "</style>\n",
       "<table border=\"1\" class=\"dataframe\">\n",
       "  <thead>\n",
       "    <tr style=\"text-align: right;\">\n",
       "      <th></th>\n",
       "      <th>sentiment</th>\n",
       "      <th>okpd_2</th>\n",
       "      <th>name</th>\n",
       "      <th>number</th>\n",
       "      <th>fz</th>\n",
       "      <th>date</th>\n",
       "      <th>text_prep</th>\n",
       "      <th>text_stem</th>\n",
       "      <th>text_sw</th>\n",
       "      <th>text_lemm</th>\n",
       "    </tr>\n",
       "  </thead>\n",
       "  <tbody>\n",
       "    <tr>\n",
       "      <th>0</th>\n",
       "      <td>Не подходит</td>\n",
       "      <td>62.01.29.000: Оригиналы программного обеспечен...</td>\n",
       "      <td>Предоставление неисключительного права испол...</td>\n",
       "      <td>№0169300040423000063</td>\n",
       "      <td>44-ФЗ</td>\n",
       "      <td>04.09.2023</td>\n",
       "      <td>предоставление неисключительного права исполь...</td>\n",
       "      <td>предоставлен неисключительн прав использован а...</td>\n",
       "      <td>предоставление неисключительного права использ...</td>\n",
       "      <td>предоставление неисключительный право использо...</td>\n",
       "    </tr>\n",
       "    <tr>\n",
       "      <th>1</th>\n",
       "      <td>Не подходит</td>\n",
       "      <td>62.02.20.190: Услуги консультативные в области...</td>\n",
       "      <td>Предоставление услуг по сопровождению програм...</td>\n",
       "      <td>№0162300011123000065</td>\n",
       "      <td>44-ФЗ</td>\n",
       "      <td>07.09.2023</td>\n",
       "      <td>предоставление услуг по сопровождению програм...</td>\n",
       "      <td>предоставлен услуг сопровожден программн компл...</td>\n",
       "      <td>предоставление услуг сопровождению программног...</td>\n",
       "      <td>предоставление услуга сопровождение программны...</td>\n",
       "    </tr>\n",
       "    <tr>\n",
       "      <th>2</th>\n",
       "      <td>Не подходит</td>\n",
       "      <td>62.01.29.000: Оригиналы программного обеспечен...</td>\n",
       "      <td>Программное средство антивирусной защиты</td>\n",
       "      <td>№0122100010223000021</td>\n",
       "      <td>44-ФЗ</td>\n",
       "      <td>18.09.2023</td>\n",
       "      <td>программное средство антивирусной защиты</td>\n",
       "      <td>программн средств антивирусн защит</td>\n",
       "      <td>программное средство антивирусной защиты</td>\n",
       "      <td>программный средство антивирусный защита \\n</td>\n",
       "    </tr>\n",
       "    <tr>\n",
       "      <th>3</th>\n",
       "      <td>Не подходит</td>\n",
       "      <td>62.01.29.000: Оригиналы программного обеспечен...</td>\n",
       "      <td>Программное средство антивирусной защиты</td>\n",
       "      <td>№0302300050523000034</td>\n",
       "      <td>44-ФЗ</td>\n",
       "      <td>21.08.2023</td>\n",
       "      <td>программное средство антивирусной защиты</td>\n",
       "      <td>программн средств антивирусн защит</td>\n",
       "      <td>программное средство антивирусной защиты</td>\n",
       "      <td>программный средство антивирусный защита \\n</td>\n",
       "    </tr>\n",
       "    <tr>\n",
       "      <th>4</th>\n",
       "      <td>Не подходит</td>\n",
       "      <td>62.01.29.000: Оригиналы программного обеспечен...</td>\n",
       "      <td>Программное средство антивирусной защиты</td>\n",
       "      <td>№0316400001123000094</td>\n",
       "      <td>44-ФЗ</td>\n",
       "      <td>17.08.2023</td>\n",
       "      <td>программное средство антивирусной защиты</td>\n",
       "      <td>программн средств антивирусн защит</td>\n",
       "      <td>программное средство антивирусной защиты</td>\n",
       "      <td>программный средство антивирусный защита \\n</td>\n",
       "    </tr>\n",
       "    <tr>\n",
       "      <th>...</th>\n",
       "      <td>...</td>\n",
       "      <td>...</td>\n",
       "      <td>...</td>\n",
       "      <td>...</td>\n",
       "      <td>...</td>\n",
       "      <td>...</td>\n",
       "      <td>...</td>\n",
       "      <td>...</td>\n",
       "      <td>...</td>\n",
       "      <td>...</td>\n",
       "    </tr>\n",
       "    <tr>\n",
       "      <th>3179</th>\n",
       "      <td>Затрудняюсь</td>\n",
       "      <td>62.03.12.130: Услуги по сопровождению компьюте...</td>\n",
       "      <td>Оказание услуг на базе центра обработки данных...</td>\n",
       "      <td>№32312683283</td>\n",
       "      <td>223-ФЗ</td>\n",
       "      <td>17.08.2023</td>\n",
       "      <td>оказание услуг на базе центра обработки данных...</td>\n",
       "      <td>оказан услуг баз центр обработк дан включа пре...</td>\n",
       "      <td>оказание услуг базе центра обработки данных вк...</td>\n",
       "      <td>оказание услуга база центр обработка данные вк...</td>\n",
       "    </tr>\n",
       "    <tr>\n",
       "      <th>3180</th>\n",
       "      <td>Затрудняюсь</td>\n",
       "      <td>62.09.20.120: Услуги по установке программного...</td>\n",
       "      <td>Оказание услуг по внедрению «Мобильного прилож...</td>\n",
       "      <td>№32312673844</td>\n",
       "      <td>223-ФЗ</td>\n",
       "      <td>15.08.2023</td>\n",
       "      <td>оказание услуг по внедрению «мобильного прилож...</td>\n",
       "      <td>оказан услуг внедрен мобильн приложен управлен...</td>\n",
       "      <td>оказание услуг внедрению мобильного приложения...</td>\n",
       "      <td>оказание услуга внедрение мобильный приложение...</td>\n",
       "    </tr>\n",
       "    <tr>\n",
       "      <th>3181</th>\n",
       "      <td>Затрудняюсь</td>\n",
       "      <td>62.02.30.000: Услуги по технической поддержке ...</td>\n",
       "      <td>Оказание услуг по внедрению новых сервисов на ...</td>\n",
       "      <td>№0372200211123000116</td>\n",
       "      <td>44-ФЗ</td>\n",
       "      <td>08.09.2023</td>\n",
       "      <td>оказание услуг по внедрению новых сервисов на ...</td>\n",
       "      <td>оказан услуг внедрен нов сервис баз программн ...</td>\n",
       "      <td>оказание услуг внедрению новых сервисов базе п...</td>\n",
       "      <td>оказание услуга внедрение новый сервис база пр...</td>\n",
       "    </tr>\n",
       "    <tr>\n",
       "      <th>3182</th>\n",
       "      <td>Затрудняюсь</td>\n",
       "      <td>62.02.30.000: Услуги по технической поддержке ...</td>\n",
       "      <td>Оказание услуг по внедрению новых сервисов на ...</td>\n",
       "      <td>№0372200082723000164</td>\n",
       "      <td>44-ФЗ</td>\n",
       "      <td>14.08.2023</td>\n",
       "      <td>оказание услуг по внедрению новых сервисов на ...</td>\n",
       "      <td>оказан услуг внедрен нов сервис баз программн ...</td>\n",
       "      <td>оказание услуг внедрению новых сервисов базе п...</td>\n",
       "      <td>оказание услуга внедрение новый сервис база пр...</td>\n",
       "    </tr>\n",
       "    <tr>\n",
       "      <th>3183</th>\n",
       "      <td>Затрудняюсь</td>\n",
       "      <td>62.03.12.190: Услуги по управлению компьютерны...</td>\n",
       "      <td>Услуги по созданию и внедрению информационной ...</td>\n",
       "      <td>№32312764548</td>\n",
       "      <td>223-ФЗ</td>\n",
       "      <td>14.09.2023</td>\n",
       "      <td>услуги по созданию и внедрению информационной ...</td>\n",
       "      <td>услуг создан внедрен информацион систем корпор...</td>\n",
       "      <td>услуги созданию внедрению информационной систе...</td>\n",
       "      <td>услуга создание внедрение информационный систе...</td>\n",
       "    </tr>\n",
       "  </tbody>\n",
       "</table>\n",
       "<p>3184 rows × 10 columns</p>\n",
       "</div>"
      ],
      "text/plain": [
       "        sentiment                                             okpd_2  \\\n",
       "0     Не подходит  62.01.29.000: Оригиналы программного обеспечен...   \n",
       "1     Не подходит  62.02.20.190: Услуги консультативные в области...   \n",
       "2     Не подходит  62.01.29.000: Оригиналы программного обеспечен...   \n",
       "3     Не подходит  62.01.29.000: Оригиналы программного обеспечен...   \n",
       "4     Не подходит  62.01.29.000: Оригиналы программного обеспечен...   \n",
       "...           ...                                                ...   \n",
       "3179  Затрудняюсь  62.03.12.130: Услуги по сопровождению компьюте...   \n",
       "3180  Затрудняюсь  62.09.20.120: Услуги по установке программного...   \n",
       "3181  Затрудняюсь  62.02.30.000: Услуги по технической поддержке ...   \n",
       "3182  Затрудняюсь  62.02.30.000: Услуги по технической поддержке ...   \n",
       "3183  Затрудняюсь  62.03.12.190: Услуги по управлению компьютерны...   \n",
       "\n",
       "                                                   name                number  \\\n",
       "0       Предоставление неисключительного права испол...  №0169300040423000063   \n",
       "1      Предоставление услуг по сопровождению програм...  №0162300011123000065   \n",
       "2              Программное средство антивирусной защиты  №0122100010223000021   \n",
       "3              Программное средство антивирусной защиты  №0302300050523000034   \n",
       "4              Программное средство антивирусной защиты  №0316400001123000094   \n",
       "...                                                 ...                   ...   \n",
       "3179  Оказание услуг на базе центра обработки данных...          №32312683283   \n",
       "3180  Оказание услуг по внедрению «Мобильного прилож...          №32312673844   \n",
       "3181  Оказание услуг по внедрению новых сервисов на ...  №0372200211123000116   \n",
       "3182  Оказание услуг по внедрению новых сервисов на ...  №0372200082723000164   \n",
       "3183  Услуги по созданию и внедрению информационной ...          №32312764548   \n",
       "\n",
       "          fz        date                                          text_prep  \\\n",
       "0      44-ФЗ  04.09.2023   предоставление неисключительного права исполь...   \n",
       "1      44-ФЗ  07.09.2023   предоставление услуг по сопровождению програм...   \n",
       "2      44-ФЗ  18.09.2023           программное средство антивирусной защиты   \n",
       "3      44-ФЗ  21.08.2023           программное средство антивирусной защиты   \n",
       "4      44-ФЗ  17.08.2023           программное средство антивирусной защиты   \n",
       "...      ...         ...                                                ...   \n",
       "3179  223-ФЗ  17.08.2023  оказание услуг на базе центра обработки данных...   \n",
       "3180  223-ФЗ  15.08.2023  оказание услуг по внедрению «мобильного прилож...   \n",
       "3181   44-ФЗ  08.09.2023  оказание услуг по внедрению новых сервисов на ...   \n",
       "3182   44-ФЗ  14.08.2023  оказание услуг по внедрению новых сервисов на ...   \n",
       "3183  223-ФЗ  14.09.2023  услуги по созданию и внедрению информационной ...   \n",
       "\n",
       "                                              text_stem  \\\n",
       "0     предоставлен неисключительн прав использован а...   \n",
       "1     предоставлен услуг сопровожден программн компл...   \n",
       "2                    программн средств антивирусн защит   \n",
       "3                    программн средств антивирусн защит   \n",
       "4                    программн средств антивирусн защит   \n",
       "...                                                 ...   \n",
       "3179  оказан услуг баз центр обработк дан включа пре...   \n",
       "3180  оказан услуг внедрен мобильн приложен управлен...   \n",
       "3181  оказан услуг внедрен нов сервис баз программн ...   \n",
       "3182  оказан услуг внедрен нов сервис баз программн ...   \n",
       "3183  услуг создан внедрен информацион систем корпор...   \n",
       "\n",
       "                                                text_sw  \\\n",
       "0     предоставление неисключительного права использ...   \n",
       "1     предоставление услуг сопровождению программног...   \n",
       "2              программное средство антивирусной защиты   \n",
       "3              программное средство антивирусной защиты   \n",
       "4              программное средство антивирусной защиты   \n",
       "...                                                 ...   \n",
       "3179  оказание услуг базе центра обработки данных вк...   \n",
       "3180  оказание услуг внедрению мобильного приложения...   \n",
       "3181  оказание услуг внедрению новых сервисов базе п...   \n",
       "3182  оказание услуг внедрению новых сервисов базе п...   \n",
       "3183  услуги созданию внедрению информационной систе...   \n",
       "\n",
       "                                              text_lemm  \n",
       "0     предоставление неисключительный право использо...  \n",
       "1     предоставление услуга сопровождение программны...  \n",
       "2           программный средство антивирусный защита \\n  \n",
       "3           программный средство антивирусный защита \\n  \n",
       "4           программный средство антивирусный защита \\n  \n",
       "...                                                 ...  \n",
       "3179  оказание услуга база центр обработка данные вк...  \n",
       "3180  оказание услуга внедрение мобильный приложение...  \n",
       "3181  оказание услуга внедрение новый сервис база пр...  \n",
       "3182  оказание услуга внедрение новый сервис база пр...  \n",
       "3183  услуга создание внедрение информационный систе...  \n",
       "\n",
       "[3184 rows x 10 columns]"
      ]
     },
     "execution_count": 30,
     "metadata": {},
     "output_type": "execute_result"
    }
   ],
   "source": [
    "data"
   ]
  },
  {
   "cell_type": "code",
   "execution_count": 25,
   "metadata": {},
   "outputs": [],
   "source": [
    "# topics = ['Не подходит', 'Подходит', 'Скорее нет', 'Скорее да', 'Затрудняюсь']\n",
    "# sentiment_in_cat_count = 400"
   ]
  },
  {
   "cell_type": "code",
   "execution_count": 32,
   "metadata": {},
   "outputs": [
    {
     "data": {
      "application/vnd.jupyter.widget-view+json": {
       "model_id": "95b52ebfbc234621abdebec2f339ffa2",
       "version_major": 2,
       "version_minor": 0
      },
      "text/plain": [
       "  0%|          | 0/5 [00:00<?, ?it/s]"
      ]
     },
     "metadata": {},
     "output_type": "display_data"
    }
   ],
   "source": [
    "df_res = pd.DataFrame()\n",
    "topics = ['Не подходит', 'Подходит', 'Скорее нет', 'Скорее да', 'Затрудняюсь']\n",
    "\n",
    "for topic in tqdm(topics):\n",
    "    df_topic = data[data['sentiment'] == topic] #[:sentiment_in_cat_count]\n",
    "    df_res = df_res.append(df_topic, ignore_index=True)"
   ]
  },
  {
   "cell_type": "code",
   "execution_count": 35,
   "metadata": {},
   "outputs": [
    {
     "data": {
      "text/plain": [
       "pandas.core.series.Series"
      ]
     },
     "execution_count": 35,
     "metadata": {},
     "output_type": "execute_result"
    }
   ],
   "source": [
    "texts = df_res['text_lemm']\n",
    "type(texts)"
   ]
  },
  {
   "cell_type": "code",
   "execution_count": 36,
   "metadata": {},
   "outputs": [
    {
     "data": {
      "text/plain": [
       "0       предоставление неисключительный право использо...\n",
       "1       предоставление услуга сопровождение программны...\n",
       "2             программный средство антивирусный защита \\n\n",
       "3             программный средство антивирусный защита \\n\n",
       "4             программный средство антивирусный защита \\n\n",
       "                              ...                        \n",
       "3179    оказание услуга база центр обработка данные вк...\n",
       "3180    оказание услуга внедрение мобильный приложение...\n",
       "3181    оказание услуга внедрение новый сервис база пр...\n",
       "3182    оказание услуга внедрение новый сервис база пр...\n",
       "3183    услуга создание внедрение информационный систе...\n",
       "Name: text_lemm, Length: 3184, dtype: object"
      ]
     },
     "execution_count": 36,
     "metadata": {},
     "output_type": "execute_result"
    }
   ],
   "source": [
    "texts"
   ]
  },
  {
   "cell_type": "code",
   "execution_count": 28,
   "metadata": {},
   "outputs": [],
   "source": [
    "from nltk.stem.snowball import SnowballStemmer\n",
    "stemmer = SnowballStemmer(\"russian\")\n",
    "\n",
    "def token_and_stem(text):\n",
    "    tokens = [word for sent in nltk.sent_tokenize(text) for word in nltk.word_tokenize(sent)]\n",
    "    filtered_tokens = []\n",
    "    for token in tokens:\n",
    "        if re.search('[а-яА-Я]', token):\n",
    "            filtered_tokens.append(token)\n",
    "    stems = [stemmer.stem(t) for t in filtered_tokens]\n",
    "    return stems"
   ]
  },
  {
   "cell_type": "code",
   "execution_count": 29,
   "metadata": {},
   "outputs": [],
   "source": [
    "stopwords = nltk.corpus.stopwords.words('russian')\n",
    "#можно расширить список стоп-слов\n",
    "stopwords.extend(['что', 'это', 'так', 'вот', 'быть', 'как', 'в', 'к', 'на'])\n",
    "\n",
    "from sklearn.feature_extraction.text import TfidfVectorizer, CountVectorizer\n",
    "\n",
    "n_featur=200000\n",
    "tfidf_vectorizer = TfidfVectorizer(max_df=0.8, max_features=10000,\n",
    "                                 min_df=0.01, stop_words=stopwords,\n",
    "                                 use_idf=True, tokenizer=token_and_stem, ngram_range=(1,3))\n"
   ]
  },
  {
   "cell_type": "code",
   "execution_count": 37,
   "metadata": {},
   "outputs": [
    {
     "name": "stderr",
     "output_type": "stream",
     "text": [
      "c:\\Users\\Mi\\AppData\\Local\\Programs\\Python\\Python310\\lib\\site-packages\\sklearn\\feature_extraction\\text.py:525: UserWarning: The parameter 'token_pattern' will not be used since 'tokenizer' is not None'\n",
      "  warnings.warn(\n",
      "c:\\Users\\Mi\\AppData\\Local\\Programs\\Python\\Python310\\lib\\site-packages\\sklearn\\feature_extraction\\text.py:408: UserWarning: Your stop_words may be inconsistent with your preprocessing. Tokenizing the stop words generated tokens ['бол', 'больш', 'будт', 'быт', 'вед', 'впроч', 'всег', 'всегд', 'даж', 'друг', 'е', 'ег', 'ем', 'есл', 'ест', 'ещ', 'зач', 'зде', 'ил', 'иногд', 'когд', 'конечн', 'куд', 'лучш', 'межд', 'мен', 'мног', 'мо', 'можн', 'нег', 'нельз', 'нибуд', 'никогд', 'нич', 'опя', 'посл', 'пот', 'почт', 'разв', 'сво', 'себ', 'совс', 'теб', 'тепер', 'тог', 'тогд', 'тож', 'тольк', 'хорош', 'хот', 'чег', 'чут', 'эт'] not in stop_words.\n",
      "  warnings.warn(\n"
     ]
    },
    {
     "name": "stdout",
     "output_type": "stream",
     "text": [
      "CPU times: total: 2.06 s\n",
      "Wall time: 2.06 s\n"
     ]
    }
   ],
   "source": [
    "# %%time\n",
    "tfidf_matrix = tfidf_vectorizer.fit_transform(texts)"
   ]
  },
  {
   "cell_type": "code",
   "execution_count": 38,
   "metadata": {},
   "outputs": [
    {
     "data": {
      "text/plain": [
       "<3184x443 sparse matrix of type '<class 'numpy.float64'>'\n",
       "\twith 60592 stored elements in Compressed Sparse Row format>"
      ]
     },
     "execution_count": 38,
     "metadata": {},
     "output_type": "execute_result"
    }
   ],
   "source": [
    "type(tfidf_matrix)\n",
    "tfidf_matrix"
   ]
  },
  {
   "cell_type": "code",
   "execution_count": 39,
   "metadata": {},
   "outputs": [
    {
     "name": "stdout",
     "output_type": "stream",
     "text": [
      "(3184, 443)\n"
     ]
    }
   ],
   "source": [
    "print(tfidf_matrix.shape)"
   ]
  },
  {
   "cell_type": "code",
   "execution_count": 40,
   "metadata": {},
   "outputs": [
    {
     "data": {
      "text/plain": [
       "<10x443 sparse matrix of type '<class 'numpy.float64'>'\n",
       "\twith 106 stored elements in Compressed Sparse Row format>"
      ]
     },
     "execution_count": 40,
     "metadata": {},
     "output_type": "execute_result"
    }
   ],
   "source": [
    "tfidf_matrix[:10]"
   ]
  },
  {
   "cell_type": "code",
   "execution_count": 41,
   "metadata": {},
   "outputs": [],
   "source": [
    "num_clusters = 5\n",
    "\n",
    "# Метод к-средних - KMeans\n",
    "from sklearn.cluster import KMeans\n",
    "\n",
    "km = KMeans(n_clusters=num_clusters)"
   ]
  },
  {
   "cell_type": "code",
   "execution_count": 42,
   "metadata": {},
   "outputs": [
    {
     "name": "stderr",
     "output_type": "stream",
     "text": [
      "c:\\Users\\Mi\\AppData\\Local\\Programs\\Python\\Python310\\lib\\site-packages\\sklearn\\cluster\\_kmeans.py:1416: FutureWarning: The default value of `n_init` will change from 10 to 'auto' in 1.4. Set the value of `n_init` explicitly to suppress the warning\n",
      "  super()._check_params_vs_input(X, default_n_init=10)\n"
     ]
    },
    {
     "data": {
      "text/html": [
       "<style>#sk-container-id-1 {color: black;}#sk-container-id-1 pre{padding: 0;}#sk-container-id-1 div.sk-toggleable {background-color: white;}#sk-container-id-1 label.sk-toggleable__label {cursor: pointer;display: block;width: 100%;margin-bottom: 0;padding: 0.3em;box-sizing: border-box;text-align: center;}#sk-container-id-1 label.sk-toggleable__label-arrow:before {content: \"▸\";float: left;margin-right: 0.25em;color: #696969;}#sk-container-id-1 label.sk-toggleable__label-arrow:hover:before {color: black;}#sk-container-id-1 div.sk-estimator:hover label.sk-toggleable__label-arrow:before {color: black;}#sk-container-id-1 div.sk-toggleable__content {max-height: 0;max-width: 0;overflow: hidden;text-align: left;background-color: #f0f8ff;}#sk-container-id-1 div.sk-toggleable__content pre {margin: 0.2em;color: black;border-radius: 0.25em;background-color: #f0f8ff;}#sk-container-id-1 input.sk-toggleable__control:checked~div.sk-toggleable__content {max-height: 200px;max-width: 100%;overflow: auto;}#sk-container-id-1 input.sk-toggleable__control:checked~label.sk-toggleable__label-arrow:before {content: \"▾\";}#sk-container-id-1 div.sk-estimator input.sk-toggleable__control:checked~label.sk-toggleable__label {background-color: #d4ebff;}#sk-container-id-1 div.sk-label input.sk-toggleable__control:checked~label.sk-toggleable__label {background-color: #d4ebff;}#sk-container-id-1 input.sk-hidden--visually {border: 0;clip: rect(1px 1px 1px 1px);clip: rect(1px, 1px, 1px, 1px);height: 1px;margin: -1px;overflow: hidden;padding: 0;position: absolute;width: 1px;}#sk-container-id-1 div.sk-estimator {font-family: monospace;background-color: #f0f8ff;border: 1px dotted black;border-radius: 0.25em;box-sizing: border-box;margin-bottom: 0.5em;}#sk-container-id-1 div.sk-estimator:hover {background-color: #d4ebff;}#sk-container-id-1 div.sk-parallel-item::after {content: \"\";width: 100%;border-bottom: 1px solid gray;flex-grow: 1;}#sk-container-id-1 div.sk-label:hover label.sk-toggleable__label {background-color: #d4ebff;}#sk-container-id-1 div.sk-serial::before {content: \"\";position: absolute;border-left: 1px solid gray;box-sizing: border-box;top: 0;bottom: 0;left: 50%;z-index: 0;}#sk-container-id-1 div.sk-serial {display: flex;flex-direction: column;align-items: center;background-color: white;padding-right: 0.2em;padding-left: 0.2em;position: relative;}#sk-container-id-1 div.sk-item {position: relative;z-index: 1;}#sk-container-id-1 div.sk-parallel {display: flex;align-items: stretch;justify-content: center;background-color: white;position: relative;}#sk-container-id-1 div.sk-item::before, #sk-container-id-1 div.sk-parallel-item::before {content: \"\";position: absolute;border-left: 1px solid gray;box-sizing: border-box;top: 0;bottom: 0;left: 50%;z-index: -1;}#sk-container-id-1 div.sk-parallel-item {display: flex;flex-direction: column;z-index: 1;position: relative;background-color: white;}#sk-container-id-1 div.sk-parallel-item:first-child::after {align-self: flex-end;width: 50%;}#sk-container-id-1 div.sk-parallel-item:last-child::after {align-self: flex-start;width: 50%;}#sk-container-id-1 div.sk-parallel-item:only-child::after {width: 0;}#sk-container-id-1 div.sk-dashed-wrapped {border: 1px dashed gray;margin: 0 0.4em 0.5em 0.4em;box-sizing: border-box;padding-bottom: 0.4em;background-color: white;}#sk-container-id-1 div.sk-label label {font-family: monospace;font-weight: bold;display: inline-block;line-height: 1.2em;}#sk-container-id-1 div.sk-label-container {text-align: center;}#sk-container-id-1 div.sk-container {/* jupyter's `normalize.less` sets `[hidden] { display: none; }` but bootstrap.min.css set `[hidden] { display: none !important; }` so we also need the `!important` here to be able to override the default hidden behavior on the sphinx rendered scikit-learn.org. See: https://github.com/scikit-learn/scikit-learn/issues/21755 */display: inline-block !important;position: relative;}#sk-container-id-1 div.sk-text-repr-fallback {display: none;}</style><div id=\"sk-container-id-1\" class=\"sk-top-container\"><div class=\"sk-text-repr-fallback\"><pre>KMeans(n_clusters=5)</pre><b>In a Jupyter environment, please rerun this cell to show the HTML representation or trust the notebook. <br />On GitHub, the HTML representation is unable to render, please try loading this page with nbviewer.org.</b></div><div class=\"sk-container\" hidden><div class=\"sk-item\"><div class=\"sk-estimator sk-toggleable\"><input class=\"sk-toggleable__control sk-hidden--visually\" id=\"sk-estimator-id-1\" type=\"checkbox\" checked><label for=\"sk-estimator-id-1\" class=\"sk-toggleable__label sk-toggleable__label-arrow\">KMeans</label><div class=\"sk-toggleable__content\"><pre>KMeans(n_clusters=5)</pre></div></div></div></div></div>"
      ],
      "text/plain": [
       "KMeans(n_clusters=5)"
      ]
     },
     "execution_count": 42,
     "metadata": {},
     "output_type": "execute_result"
    }
   ],
   "source": [
    "# %%time\n",
    "km.fit(tfidf_matrix)"
   ]
  },
  {
   "cell_type": "code",
   "execution_count": 43,
   "metadata": {},
   "outputs": [],
   "source": [
    "# %%time\n",
    "idx = km.fit(tfidf_matrix)\n",
    "clusters = km.labels_.tolist()\n",
    "\n",
    "#print(clusters)\n",
    "#print (km.labels_)"
   ]
  },
  {
   "cell_type": "code",
   "execution_count": 44,
   "metadata": {},
   "outputs": [
    {
     "data": {
      "text/plain": [
       "[3, 2, 2, 2, 2, 2, 2, 2, 2, 2]"
      ]
     },
     "execution_count": 44,
     "metadata": {},
     "output_type": "execute_result"
    }
   ],
   "source": [
    "len(km.labels_)\n",
    "clusters[:10]"
   ]
  },
  {
   "cell_type": "code",
   "execution_count": 52,
   "metadata": {},
   "outputs": [],
   "source": [
    "clusterkm = km.labels_.tolist()\n",
    "frame = pd.DataFrame(texts)\n",
    "\n",
    "#k-means\n",
    "out = { 'text': texts, 'cluster': clusterkm, 'sentiment': df_res['sentiment'] }\n",
    "frame1 = pd.DataFrame(out, columns = ['text', 'cluster', 'sentiment'])"
   ]
  },
  {
   "cell_type": "code",
   "execution_count": 62,
   "metadata": {},
   "outputs": [
    {
     "data": {
      "text/html": [
       "<div>\n",
       "<style scoped>\n",
       "    .dataframe tbody tr th:only-of-type {\n",
       "        vertical-align: middle;\n",
       "    }\n",
       "\n",
       "    .dataframe tbody tr th {\n",
       "        vertical-align: top;\n",
       "    }\n",
       "\n",
       "    .dataframe thead th {\n",
       "        text-align: right;\n",
       "    }\n",
       "</style>\n",
       "<table border=\"1\" class=\"dataframe\">\n",
       "  <thead>\n",
       "    <tr style=\"text-align: right;\">\n",
       "      <th></th>\n",
       "      <th>text</th>\n",
       "      <th>cluster</th>\n",
       "      <th>sentiment</th>\n",
       "    </tr>\n",
       "  </thead>\n",
       "  <tbody>\n",
       "    <tr>\n",
       "      <th>2029</th>\n",
       "      <td>оказание услуга предоставление сертификат техн...</td>\n",
       "      <td>1</td>\n",
       "      <td>Не подходит</td>\n",
       "    </tr>\n",
       "    <tr>\n",
       "      <th>900</th>\n",
       "      <td>оказание услуга поставка сертификат технически...</td>\n",
       "      <td>1</td>\n",
       "      <td>Не подходит</td>\n",
       "    </tr>\n",
       "    <tr>\n",
       "      <th>446</th>\n",
       "      <td>оказание услуга сопровождение автоматизированн...</td>\n",
       "      <td>2</td>\n",
       "      <td>Не подходит</td>\n",
       "    </tr>\n",
       "    <tr>\n",
       "      <th>1125</th>\n",
       "      <td>оказание услуга предоставление ключ активация ...</td>\n",
       "      <td>4</td>\n",
       "      <td>Не подходит</td>\n",
       "    </tr>\n",
       "    <tr>\n",
       "      <th>432</th>\n",
       "      <td>оказание консультационный услуга работа програ...</td>\n",
       "      <td>2</td>\n",
       "      <td>Не подходит</td>\n",
       "    </tr>\n",
       "    <tr>\n",
       "      <th>840</th>\n",
       "      <td>оказание услуга сопровождение система информац...</td>\n",
       "      <td>2</td>\n",
       "      <td>Не подходит</td>\n",
       "    </tr>\n",
       "    <tr>\n",
       "      <th>308</th>\n",
       "      <td>оказание услуга предоставление сертификат техн...</td>\n",
       "      <td>1</td>\n",
       "      <td>Не подходит</td>\n",
       "    </tr>\n",
       "    <tr>\n",
       "      <th>1504</th>\n",
       "      <td>оказание услуга сопровождение информационный с...</td>\n",
       "      <td>2</td>\n",
       "      <td>Не подходит</td>\n",
       "    </tr>\n",
       "    <tr>\n",
       "      <th>2669</th>\n",
       "      <td>оказание услуга технический поддержка программ...</td>\n",
       "      <td>4</td>\n",
       "      <td>Не подходит</td>\n",
       "    </tr>\n",
       "    <tr>\n",
       "      <th>518</th>\n",
       "      <td>оказание услуга адаптация сопровождение исполь...</td>\n",
       "      <td>0</td>\n",
       "      <td>Не подходит</td>\n",
       "    </tr>\n",
       "  </tbody>\n",
       "</table>\n",
       "</div>"
      ],
      "text/plain": [
       "                                                   text  cluster    sentiment\n",
       "2029  оказание услуга предоставление сертификат техн...        1  Не подходит\n",
       "900   оказание услуга поставка сертификат технически...        1  Не подходит\n",
       "446   оказание услуга сопровождение автоматизированн...        2  Не подходит\n",
       "1125  оказание услуга предоставление ключ активация ...        4  Не подходит\n",
       "432   оказание консультационный услуга работа програ...        2  Не подходит\n",
       "840   оказание услуга сопровождение система информац...        2  Не подходит\n",
       "308   оказание услуга предоставление сертификат техн...        1  Не подходит\n",
       "1504  оказание услуга сопровождение информационный с...        2  Не подходит\n",
       "2669  оказание услуга технический поддержка программ...        4  Не подходит\n",
       "518   оказание услуга адаптация сопровождение исполь...        0  Не подходит"
      ]
     },
     "execution_count": 62,
     "metadata": {},
     "output_type": "execute_result"
    }
   ],
   "source": [
    "frame1.sample(10)"
   ]
  },
  {
   "cell_type": "markdown",
   "metadata": {},
   "source": [
    "на экран будет выведено количество строк, удовлетворяющих условиям фильтрации по столбцам 'text' и 'cluster'."
   ]
  },
  {
   "cell_type": "code",
   "execution_count": 55,
   "metadata": {},
   "outputs": [
    {
     "name": "stdout",
     "output_type": "stream",
     "text": [
      "1371\n"
     ]
    }
   ],
   "source": [
    "fp = frame1[ frame1.sentiment.eq('Не подходит') & frame1.cluster.eq(2) ]\n",
    "print(len(fp))"
   ]
  },
  {
   "cell_type": "code",
   "execution_count": 56,
   "metadata": {},
   "outputs": [
    {
     "name": "stderr",
     "output_type": "stream",
     "text": [
      "c:\\Users\\Mi\\AppData\\Local\\Programs\\Python\\Python310\\lib\\site-packages\\sklearn\\cluster\\_kmeans.py:1934: FutureWarning: The default value of `n_init` will change from 3 to 'auto' in 1.4. Set the value of `n_init` explicitly to suppress the warning\n",
      "  super()._check_params_vs_input(X, default_n_init=3)\n",
      "c:\\Users\\Mi\\AppData\\Local\\Programs\\Python\\Python310\\lib\\site-packages\\sklearn\\cluster\\_kmeans.py:1934: FutureWarning: The default value of `n_init` will change from 3 to 'auto' in 1.4. Set the value of `n_init` explicitly to suppress the warning\n",
      "  super()._check_params_vs_input(X, default_n_init=3)\n"
     ]
    },
    {
     "name": "stdout",
     "output_type": "stream",
     "text": [
      "CPU times: total: 438 ms\n",
      "Wall time: 171 ms\n",
      "[2 1 2 ... 1 1 3]\n"
     ]
    }
   ],
   "source": [
    "# MiniBatchKMeans\n",
    "from sklearn.cluster import MiniBatchKMeans\n",
    "\n",
    "mbk  = MiniBatchKMeans(init='random', n_clusters=num_clusters) #(init='k-means++', ‘random’ or an ndarray)\n",
    "mbk.fit_transform(tfidf_matrix)\n",
    "%time mbk.fit(tfidf_matrix)\n",
    "miniclusters = mbk.labels_.tolist()\n",
    "print (mbk.labels_)"
   ]
  },
  {
   "cell_type": "code",
   "execution_count": 58,
   "metadata": {},
   "outputs": [
    {
     "data": {
      "text/html": [
       "<div>\n",
       "<style scoped>\n",
       "    .dataframe tbody tr th:only-of-type {\n",
       "        vertical-align: middle;\n",
       "    }\n",
       "\n",
       "    .dataframe tbody tr th {\n",
       "        vertical-align: top;\n",
       "    }\n",
       "\n",
       "    .dataframe thead th {\n",
       "        text-align: right;\n",
       "    }\n",
       "</style>\n",
       "<table border=\"1\" class=\"dataframe\">\n",
       "  <thead>\n",
       "    <tr style=\"text-align: right;\">\n",
       "      <th></th>\n",
       "      <th>sentiment</th>\n",
       "      <th>okpd_2</th>\n",
       "      <th>name</th>\n",
       "      <th>number</th>\n",
       "      <th>fz</th>\n",
       "      <th>date</th>\n",
       "      <th>text_prep</th>\n",
       "      <th>text_stem</th>\n",
       "      <th>text_sw</th>\n",
       "      <th>text_lemm</th>\n",
       "    </tr>\n",
       "  </thead>\n",
       "  <tbody>\n",
       "    <tr>\n",
       "      <th>2898</th>\n",
       "      <td>Подходит</td>\n",
       "      <td>62.09.20.190: Услуги по технической поддержке ...</td>\n",
       "      <td>оказание услуг по обслуживанию и сопровождени...</td>\n",
       "      <td>№0304300010623000024</td>\n",
       "      <td>44-ФЗ</td>\n",
       "      <td>21.09.2023</td>\n",
       "      <td>оказание услуг по обслуживанию и сопровождени...</td>\n",
       "      <td>оказан услуг обслуживан сопровожден сервис рег...</td>\n",
       "      <td>оказание услуг обслуживанию сопровождению серв...</td>\n",
       "      <td>оказание услуга обслуживание сопровождение сер...</td>\n",
       "    </tr>\n",
       "    <tr>\n",
       "      <th>2899</th>\n",
       "      <td>Подходит</td>\n",
       "      <td>62.02.30.000: Услуги по технической поддержке ...</td>\n",
       "      <td>2023-10152/Оказание услуг по техническому сопр...</td>\n",
       "      <td>№0131200001023009733</td>\n",
       "      <td>44-ФЗ</td>\n",
       "      <td>11.09.2023</td>\n",
       "      <td>оказание услуг по техническому сопровождению ...</td>\n",
       "      <td>оказан услуг техническ сопровожден обеспечен ф...</td>\n",
       "      <td>оказание услуг техническому сопровождению обес...</td>\n",
       "      <td>оказание услуга технический сопровождение обес...</td>\n",
       "    </tr>\n",
       "    <tr>\n",
       "      <th>2900</th>\n",
       "      <td>Подходит</td>\n",
       "      <td>62.01.11.000: Услуги по проектированию и разра...</td>\n",
       "      <td>2023-11791_Выполнение работ по развитию госуда...</td>\n",
       "      <td>№0131200001023010863</td>\n",
       "      <td>44-ФЗ</td>\n",
       "      <td>28.09.2023</td>\n",
       "      <td>выполнение работ по развитию государственной ...</td>\n",
       "      <td>выполнен работ развит государствен информацион...</td>\n",
       "      <td>выполнение работ развитию государственной инфо...</td>\n",
       "      <td>выполнение работа развитие государственный инф...</td>\n",
       "    </tr>\n",
       "    <tr>\n",
       "      <th>2901</th>\n",
       "      <td>Подходит</td>\n",
       "      <td>62.02.30.000: Услуги по технической поддержке ...</td>\n",
       "      <td>208437_«Оказание услуги по доработке и техниче...</td>\n",
       "      <td>№32312752577</td>\n",
       "      <td>223-ФЗ</td>\n",
       "      <td>11.09.2023</td>\n",
       "      <td>«оказание услуги по доработке и технической п...</td>\n",
       "      <td>оказан услуг доработк техническ поддержк корпо...</td>\n",
       "      <td>оказание услуги доработке технической поддержк...</td>\n",
       "      <td>оказание услуга доработка технический поддержк...</td>\n",
       "    </tr>\n",
       "    <tr>\n",
       "      <th>2902</th>\n",
       "      <td>Подходит</td>\n",
       "      <td>62.03.12.130: Услуги по сопровождению компьюте...</td>\n",
       "      <td>№ 101 Оказание услуг по сопровождению Государс...</td>\n",
       "      <td>№32312727488</td>\n",
       "      <td>223-ФЗ</td>\n",
       "      <td>01.09.2023</td>\n",
       "      <td>№ оказание услуг по сопровождению государствен...</td>\n",
       "      <td>№ оказан услуг сопровожден государствен информ...</td>\n",
       "      <td>№ оказание услуг сопровождению государственной...</td>\n",
       "      <td>№ оказание услуга сопровождение государственны...</td>\n",
       "    </tr>\n",
       "    <tr>\n",
       "      <th>...</th>\n",
       "      <td>...</td>\n",
       "      <td>...</td>\n",
       "      <td>...</td>\n",
       "      <td>...</td>\n",
       "      <td>...</td>\n",
       "      <td>...</td>\n",
       "      <td>...</td>\n",
       "      <td>...</td>\n",
       "      <td>...</td>\n",
       "      <td>...</td>\n",
       "    </tr>\n",
       "    <tr>\n",
       "      <th>3087</th>\n",
       "      <td>Подходит</td>\n",
       "      <td>62.03.12.130: Услуги по сопровождению компьюте...</td>\n",
       "      <td>Услуга по разработке системы он-лайн регистрац...</td>\n",
       "      <td>№0318100047923000181</td>\n",
       "      <td>44-ФЗ</td>\n",
       "      <td>08.08.2023</td>\n",
       "      <td>услуга по разработке системы он лайн регистрац...</td>\n",
       "      <td>услуг разработк систем лайн регистрац курс пов...</td>\n",
       "      <td>услуга разработке системы лайн регистрации кур...</td>\n",
       "      <td>услуга разработка система лайн регистрация кур...</td>\n",
       "    </tr>\n",
       "    <tr>\n",
       "      <th>3088</th>\n",
       "      <td>Подходит</td>\n",
       "      <td>62.09.20.120: Услуги по установке программного...</td>\n",
       "      <td>Оказание услуг по внедрению программного обесп...</td>\n",
       "      <td>№32312680221</td>\n",
       "      <td>223-ФЗ</td>\n",
       "      <td>17.08.2023</td>\n",
       "      <td>оказание услуг по внедрению программного обесп...</td>\n",
       "      <td>оказан услуг внедрен программн обеспечен интел...</td>\n",
       "      <td>оказание услуг внедрению программного обеспече...</td>\n",
       "      <td>оказание услуга внедрение программный обеспече...</td>\n",
       "    </tr>\n",
       "    <tr>\n",
       "      <th>3089</th>\n",
       "      <td>Подходит</td>\n",
       "      <td>62.09: Услуги в области информационных техноло...</td>\n",
       "      <td>услуги по разработке образовательного Web-сайт...</td>\n",
       "      <td>№32312671613</td>\n",
       "      <td>223-ФЗ</td>\n",
       "      <td>14.08.2023</td>\n",
       "      <td>услуги по разработке образовательного web сайт...</td>\n",
       "      <td>услуг разработк образовательн web сайт заказчи...</td>\n",
       "      <td>услуги разработке образовательного web сайта з...</td>\n",
       "      <td>услуга разработка образовательный web сайт зак...</td>\n",
       "    </tr>\n",
       "    <tr>\n",
       "      <th>3090</th>\n",
       "      <td>Подходит</td>\n",
       "      <td>62.09.20.190: Услуги по технической поддержке ...</td>\n",
       "      <td>оказание услуг по сопровождению программных ме...</td>\n",
       "      <td>№32312664193</td>\n",
       "      <td>223-ФЗ</td>\n",
       "      <td>10.08.2023</td>\n",
       "      <td>оказание услуг по сопровождению программных ме...</td>\n",
       "      <td>оказан услуг сопровожден программн механизм по...</td>\n",
       "      <td>оказание услуг сопровождению программных механ...</td>\n",
       "      <td>оказание услуга сопровождение программный меха...</td>\n",
       "    </tr>\n",
       "    <tr>\n",
       "      <th>3091</th>\n",
       "      <td>Подходит</td>\n",
       "      <td>62.09: Услуги в области информационных техноло...</td>\n",
       "      <td>Услуги по поисковой оптимизации и социальному ...</td>\n",
       "      <td>№32312663986</td>\n",
       "      <td>223-ФЗ</td>\n",
       "      <td>10.08.2023</td>\n",
       "      <td>услуги по поисковой оптимизации и социальному ...</td>\n",
       "      <td>услуг поисков оптимизац социальн продвижен сай...</td>\n",
       "      <td>услуги поисковой оптимизации социальному продв...</td>\n",
       "      <td>услуга поисковый оптимизация социальный продви...</td>\n",
       "    </tr>\n",
       "  </tbody>\n",
       "</table>\n",
       "<p>194 rows × 10 columns</p>\n",
       "</div>"
      ],
      "text/plain": [
       "     sentiment                                             okpd_2  \\\n",
       "2898  Подходит  62.09.20.190: Услуги по технической поддержке ...   \n",
       "2899  Подходит  62.02.30.000: Услуги по технической поддержке ...   \n",
       "2900  Подходит  62.01.11.000: Услуги по проектированию и разра...   \n",
       "2901  Подходит  62.02.30.000: Услуги по технической поддержке ...   \n",
       "2902  Подходит  62.03.12.130: Услуги по сопровождению компьюте...   \n",
       "...        ...                                                ...   \n",
       "3087  Подходит  62.03.12.130: Услуги по сопровождению компьюте...   \n",
       "3088  Подходит  62.09.20.120: Услуги по установке программного...   \n",
       "3089  Подходит  62.09: Услуги в области информационных техноло...   \n",
       "3090  Подходит  62.09.20.190: Услуги по технической поддержке ...   \n",
       "3091  Подходит  62.09: Услуги в области информационных техноло...   \n",
       "\n",
       "                                                   name                number  \\\n",
       "2898   оказание услуг по обслуживанию и сопровождени...  №0304300010623000024   \n",
       "2899  2023-10152/Оказание услуг по техническому сопр...  №0131200001023009733   \n",
       "2900  2023-11791_Выполнение работ по развитию госуда...  №0131200001023010863   \n",
       "2901  208437_«Оказание услуги по доработке и техниче...          №32312752577   \n",
       "2902  № 101 Оказание услуг по сопровождению Государс...          №32312727488   \n",
       "...                                                 ...                   ...   \n",
       "3087  Услуга по разработке системы он-лайн регистрац...  №0318100047923000181   \n",
       "3088  Оказание услуг по внедрению программного обесп...          №32312680221   \n",
       "3089  услуги по разработке образовательного Web-сайт...          №32312671613   \n",
       "3090  оказание услуг по сопровождению программных ме...          №32312664193   \n",
       "3091  Услуги по поисковой оптимизации и социальному ...          №32312663986   \n",
       "\n",
       "          fz        date                                          text_prep  \\\n",
       "2898   44-ФЗ  21.09.2023   оказание услуг по обслуживанию и сопровождени...   \n",
       "2899   44-ФЗ  11.09.2023   оказание услуг по техническому сопровождению ...   \n",
       "2900   44-ФЗ  28.09.2023   выполнение работ по развитию государственной ...   \n",
       "2901  223-ФЗ  11.09.2023   «оказание услуги по доработке и технической п...   \n",
       "2902  223-ФЗ  01.09.2023  № оказание услуг по сопровождению государствен...   \n",
       "...      ...         ...                                                ...   \n",
       "3087   44-ФЗ  08.08.2023  услуга по разработке системы он лайн регистрац...   \n",
       "3088  223-ФЗ  17.08.2023  оказание услуг по внедрению программного обесп...   \n",
       "3089  223-ФЗ  14.08.2023  услуги по разработке образовательного web сайт...   \n",
       "3090  223-ФЗ  10.08.2023  оказание услуг по сопровождению программных ме...   \n",
       "3091  223-ФЗ  10.08.2023  услуги по поисковой оптимизации и социальному ...   \n",
       "\n",
       "                                              text_stem  \\\n",
       "2898  оказан услуг обслуживан сопровожден сервис рег...   \n",
       "2899  оказан услуг техническ сопровожден обеспечен ф...   \n",
       "2900  выполнен работ развит государствен информацион...   \n",
       "2901  оказан услуг доработк техническ поддержк корпо...   \n",
       "2902  № оказан услуг сопровожден государствен информ...   \n",
       "...                                                 ...   \n",
       "3087  услуг разработк систем лайн регистрац курс пов...   \n",
       "3088  оказан услуг внедрен программн обеспечен интел...   \n",
       "3089  услуг разработк образовательн web сайт заказчи...   \n",
       "3090  оказан услуг сопровожден программн механизм по...   \n",
       "3091  услуг поисков оптимизац социальн продвижен сай...   \n",
       "\n",
       "                                                text_sw  \\\n",
       "2898  оказание услуг обслуживанию сопровождению серв...   \n",
       "2899  оказание услуг техническому сопровождению обес...   \n",
       "2900  выполнение работ развитию государственной инфо...   \n",
       "2901  оказание услуги доработке технической поддержк...   \n",
       "2902  № оказание услуг сопровождению государственной...   \n",
       "...                                                 ...   \n",
       "3087  услуга разработке системы лайн регистрации кур...   \n",
       "3088  оказание услуг внедрению программного обеспече...   \n",
       "3089  услуги разработке образовательного web сайта з...   \n",
       "3090  оказание услуг сопровождению программных механ...   \n",
       "3091  услуги поисковой оптимизации социальному продв...   \n",
       "\n",
       "                                              text_lemm  \n",
       "2898  оказание услуга обслуживание сопровождение сер...  \n",
       "2899  оказание услуга технический сопровождение обес...  \n",
       "2900  выполнение работа развитие государственный инф...  \n",
       "2901  оказание услуга доработка технический поддержк...  \n",
       "2902  № оказание услуга сопровождение государственны...  \n",
       "...                                                 ...  \n",
       "3087  услуга разработка система лайн регистрация кур...  \n",
       "3088  оказание услуга внедрение программный обеспече...  \n",
       "3089  услуга разработка образовательный web сайт зак...  \n",
       "3090  оказание услуга сопровождение программный меха...  \n",
       "3091  услуга поисковый оптимизация социальный продви...  \n",
       "\n",
       "[194 rows x 10 columns]"
      ]
     },
     "execution_count": 58,
     "metadata": {},
     "output_type": "execute_result"
    }
   ],
   "source": [
    "data[data['sentiment'] == 'Подходит']"
   ]
  },
  {
   "cell_type": "code",
   "execution_count": 61,
   "metadata": {},
   "outputs": [
    {
     "ename": "KeyError",
     "evalue": "'title'",
     "output_type": "error",
     "traceback": [
      "\u001b[1;31m---------------------------------------------------------------------------\u001b[0m",
      "\u001b[1;31mKeyError\u001b[0m                                  Traceback (most recent call last)",
      "File \u001b[1;32mc:\\Users\\Mi\\AppData\\Local\\Programs\\Python\\Python310\\lib\\site-packages\\pandas\\core\\indexes\\base.py:3361\u001b[0m, in \u001b[0;36mIndex.get_loc\u001b[1;34m(self, key, method, tolerance)\u001b[0m\n\u001b[0;32m   3360\u001b[0m \u001b[38;5;28;01mtry\u001b[39;00m:\n\u001b[1;32m-> 3361\u001b[0m     \u001b[38;5;28;01mreturn\u001b[39;00m \u001b[38;5;28;43mself\u001b[39;49m\u001b[38;5;241;43m.\u001b[39;49m\u001b[43m_engine\u001b[49m\u001b[38;5;241;43m.\u001b[39;49m\u001b[43mget_loc\u001b[49m\u001b[43m(\u001b[49m\u001b[43mcasted_key\u001b[49m\u001b[43m)\u001b[49m\n\u001b[0;32m   3362\u001b[0m \u001b[38;5;28;01mexcept\u001b[39;00m \u001b[38;5;167;01mKeyError\u001b[39;00m \u001b[38;5;28;01mas\u001b[39;00m err:\n",
      "File \u001b[1;32mc:\\Users\\Mi\\AppData\\Local\\Programs\\Python\\Python310\\lib\\site-packages\\pandas\\_libs\\index.pyx:76\u001b[0m, in \u001b[0;36mpandas._libs.index.IndexEngine.get_loc\u001b[1;34m()\u001b[0m\n",
      "File \u001b[1;32mc:\\Users\\Mi\\AppData\\Local\\Programs\\Python\\Python310\\lib\\site-packages\\pandas\\_libs\\index.pyx:108\u001b[0m, in \u001b[0;36mpandas._libs.index.IndexEngine.get_loc\u001b[1;34m()\u001b[0m\n",
      "File \u001b[1;32mpandas\\_libs\\hashtable_class_helper.pxi:5198\u001b[0m, in \u001b[0;36mpandas._libs.hashtable.PyObjectHashTable.get_item\u001b[1;34m()\u001b[0m\n",
      "File \u001b[1;32mpandas\\_libs\\hashtable_class_helper.pxi:5206\u001b[0m, in \u001b[0;36mpandas._libs.hashtable.PyObjectHashTable.get_item\u001b[1;34m()\u001b[0m\n",
      "\u001b[1;31mKeyError\u001b[0m: 'title'",
      "\nThe above exception was the direct cause of the following exception:\n",
      "\u001b[1;31mKeyError\u001b[0m                                  Traceback (most recent call last)",
      "Cell \u001b[1;32mIn[61], line 1\u001b[0m\n\u001b[1;32m----> 1\u001b[0m ser \u001b[38;5;241m=\u001b[39m \u001b[43mdata\u001b[49m\u001b[43m[\u001b[49m\u001b[43m \u001b[49m\u001b[43mdata\u001b[49m\u001b[43m[\u001b[49m\u001b[38;5;124;43m'\u001b[39;49m\u001b[38;5;124;43msentiment\u001b[39;49m\u001b[38;5;124;43m'\u001b[39;49m\u001b[43m]\u001b[49m\u001b[43m \u001b[49m\u001b[38;5;241;43m==\u001b[39;49m\u001b[43m \u001b[49m\u001b[38;5;124;43m'\u001b[39;49m\u001b[38;5;124;43mПодходит\u001b[39;49m\u001b[38;5;124;43m'\u001b[39;49m\u001b[43m]\u001b[49m\u001b[43m[\u001b[49m\u001b[38;5;124;43m'\u001b[39;49m\u001b[38;5;124;43mtitle\u001b[39;49m\u001b[38;5;124;43m'\u001b[39;49m\u001b[43m]\u001b[49m\n",
      "File \u001b[1;32mc:\\Users\\Mi\\AppData\\Local\\Programs\\Python\\Python310\\lib\\site-packages\\pandas\\core\\frame.py:3458\u001b[0m, in \u001b[0;36mDataFrame.__getitem__\u001b[1;34m(self, key)\u001b[0m\n\u001b[0;32m   3456\u001b[0m \u001b[38;5;28;01mif\u001b[39;00m \u001b[38;5;28mself\u001b[39m\u001b[38;5;241m.\u001b[39mcolumns\u001b[38;5;241m.\u001b[39mnlevels \u001b[38;5;241m>\u001b[39m \u001b[38;5;241m1\u001b[39m:\n\u001b[0;32m   3457\u001b[0m     \u001b[38;5;28;01mreturn\u001b[39;00m \u001b[38;5;28mself\u001b[39m\u001b[38;5;241m.\u001b[39m_getitem_multilevel(key)\n\u001b[1;32m-> 3458\u001b[0m indexer \u001b[38;5;241m=\u001b[39m \u001b[38;5;28;43mself\u001b[39;49m\u001b[38;5;241;43m.\u001b[39;49m\u001b[43mcolumns\u001b[49m\u001b[38;5;241;43m.\u001b[39;49m\u001b[43mget_loc\u001b[49m\u001b[43m(\u001b[49m\u001b[43mkey\u001b[49m\u001b[43m)\u001b[49m\n\u001b[0;32m   3459\u001b[0m \u001b[38;5;28;01mif\u001b[39;00m is_integer(indexer):\n\u001b[0;32m   3460\u001b[0m     indexer \u001b[38;5;241m=\u001b[39m [indexer]\n",
      "File \u001b[1;32mc:\\Users\\Mi\\AppData\\Local\\Programs\\Python\\Python310\\lib\\site-packages\\pandas\\core\\indexes\\base.py:3363\u001b[0m, in \u001b[0;36mIndex.get_loc\u001b[1;34m(self, key, method, tolerance)\u001b[0m\n\u001b[0;32m   3361\u001b[0m         \u001b[38;5;28;01mreturn\u001b[39;00m \u001b[38;5;28mself\u001b[39m\u001b[38;5;241m.\u001b[39m_engine\u001b[38;5;241m.\u001b[39mget_loc(casted_key)\n\u001b[0;32m   3362\u001b[0m     \u001b[38;5;28;01mexcept\u001b[39;00m \u001b[38;5;167;01mKeyError\u001b[39;00m \u001b[38;5;28;01mas\u001b[39;00m err:\n\u001b[1;32m-> 3363\u001b[0m         \u001b[38;5;28;01mraise\u001b[39;00m \u001b[38;5;167;01mKeyError\u001b[39;00m(key) \u001b[38;5;28;01mfrom\u001b[39;00m \u001b[38;5;21;01merr\u001b[39;00m\n\u001b[0;32m   3365\u001b[0m \u001b[38;5;28;01mif\u001b[39;00m is_scalar(key) \u001b[38;5;129;01mand\u001b[39;00m isna(key) \u001b[38;5;129;01mand\u001b[39;00m \u001b[38;5;129;01mnot\u001b[39;00m \u001b[38;5;28mself\u001b[39m\u001b[38;5;241m.\u001b[39mhasnans:\n\u001b[0;32m   3366\u001b[0m     \u001b[38;5;28;01mraise\u001b[39;00m \u001b[38;5;167;01mKeyError\u001b[39;00m(key)\n",
      "\u001b[1;31mKeyError\u001b[0m: 'title'"
     ]
    }
   ],
   "source": [
    "# ser = data[ data['sentiment'] == 'Подходит']['title']"
   ]
  },
  {
   "cell_type": "code",
   "execution_count": 63,
   "metadata": {},
   "outputs": [
    {
     "name": "stdout",
     "output_type": "stream",
     "text": [
      "['Не подходит', 'Подходит', 'Скорее нет', 'Скорее да', 'Затрудняюсь']\n",
      "5\n"
     ]
    }
   ],
   "source": [
    "print(topics)\n",
    "print(num_clusters)"
   ]
  },
  {
   "cell_type": "code",
   "execution_count": 65,
   "metadata": {},
   "outputs": [
    {
     "data": {
      "text/html": [
       "<div>\n",
       "<style scoped>\n",
       "    .dataframe tbody tr th:only-of-type {\n",
       "        vertical-align: middle;\n",
       "    }\n",
       "\n",
       "    .dataframe tbody tr th {\n",
       "        vertical-align: top;\n",
       "    }\n",
       "\n",
       "    .dataframe thead th {\n",
       "        text-align: right;\n",
       "    }\n",
       "</style>\n",
       "<table border=\"1\" class=\"dataframe\">\n",
       "  <thead>\n",
       "    <tr style=\"text-align: right;\">\n",
       "      <th></th>\n",
       "      <th>text</th>\n",
       "      <th>cluster</th>\n",
       "      <th>sentiment</th>\n",
       "    </tr>\n",
       "  </thead>\n",
       "  <tbody>\n",
       "    <tr>\n",
       "      <th>0</th>\n",
       "      <td>предоставление неисключительный право использо...</td>\n",
       "      <td>3</td>\n",
       "      <td>Не подходит</td>\n",
       "    </tr>\n",
       "    <tr>\n",
       "      <th>1</th>\n",
       "      <td>предоставление услуга сопровождение программны...</td>\n",
       "      <td>2</td>\n",
       "      <td>Не подходит</td>\n",
       "    </tr>\n",
       "    <tr>\n",
       "      <th>2</th>\n",
       "      <td>программный средство антивирусный защита \\n</td>\n",
       "      <td>2</td>\n",
       "      <td>Не подходит</td>\n",
       "    </tr>\n",
       "    <tr>\n",
       "      <th>3</th>\n",
       "      <td>программный средство антивирусный защита \\n</td>\n",
       "      <td>2</td>\n",
       "      <td>Не подходит</td>\n",
       "    </tr>\n",
       "    <tr>\n",
       "      <th>4</th>\n",
       "      <td>программный средство антивирусный защита \\n</td>\n",
       "      <td>2</td>\n",
       "      <td>Не подходит</td>\n",
       "    </tr>\n",
       "    <tr>\n",
       "      <th>...</th>\n",
       "      <td>...</td>\n",
       "      <td>...</td>\n",
       "      <td>...</td>\n",
       "    </tr>\n",
       "    <tr>\n",
       "      <th>3179</th>\n",
       "      <td>оказание услуга база центр обработка данные вк...</td>\n",
       "      <td>2</td>\n",
       "      <td>Затрудняюсь</td>\n",
       "    </tr>\n",
       "    <tr>\n",
       "      <th>3180</th>\n",
       "      <td>оказание услуга внедрение мобильный приложение...</td>\n",
       "      <td>2</td>\n",
       "      <td>Затрудняюсь</td>\n",
       "    </tr>\n",
       "    <tr>\n",
       "      <th>3181</th>\n",
       "      <td>оказание услуга внедрение новый сервис база пр...</td>\n",
       "      <td>2</td>\n",
       "      <td>Затрудняюсь</td>\n",
       "    </tr>\n",
       "    <tr>\n",
       "      <th>3182</th>\n",
       "      <td>оказание услуга внедрение новый сервис база пр...</td>\n",
       "      <td>2</td>\n",
       "      <td>Затрудняюсь</td>\n",
       "    </tr>\n",
       "    <tr>\n",
       "      <th>3183</th>\n",
       "      <td>услуга создание внедрение информационный систе...</td>\n",
       "      <td>2</td>\n",
       "      <td>Затрудняюсь</td>\n",
       "    </tr>\n",
       "  </tbody>\n",
       "</table>\n",
       "<p>3184 rows × 3 columns</p>\n",
       "</div>"
      ],
      "text/plain": [
       "                                                   text  cluster    sentiment\n",
       "0     предоставление неисключительный право использо...        3  Не подходит\n",
       "1     предоставление услуга сопровождение программны...        2  Не подходит\n",
       "2           программный средство антивирусный защита \\n        2  Не подходит\n",
       "3           программный средство антивирусный защита \\n        2  Не подходит\n",
       "4           программный средство антивирусный защита \\n        2  Не подходит\n",
       "...                                                 ...      ...          ...\n",
       "3179  оказание услуга база центр обработка данные вк...        2  Затрудняюсь\n",
       "3180  оказание услуга внедрение мобильный приложение...        2  Затрудняюсь\n",
       "3181  оказание услуга внедрение новый сервис база пр...        2  Затрудняюсь\n",
       "3182  оказание услуга внедрение новый сервис база пр...        2  Затрудняюсь\n",
       "3183  услуга создание внедрение информационный систе...        2  Затрудняюсь\n",
       "\n",
       "[3184 rows x 3 columns]"
      ]
     },
     "execution_count": 65,
     "metadata": {},
     "output_type": "execute_result"
    }
   ],
   "source": [
    "frame1"
   ]
  },
  {
   "cell_type": "code",
   "execution_count": 67,
   "metadata": {},
   "outputs": [
    {
     "name": "stdout",
     "output_type": "stream",
     "text": [
      "Не подходит \t\t 0  :  264 1  :  256 2  :  1371 3  :  447 4  :  560 \n",
      "Подходит \t\t 0  :  0 1  :  0 2  :  188 3  :  0 4  :  6 \n",
      "Скорее нет \t\t 0  :  0 1  :  0 2  :  24 3  :  4 4  :  1 \n",
      "Скорее да \t\t 0  :  0 1  :  0 2  :  41 3  :  1 4  :  3 \n",
      "Затрудняюсь \t\t 0  :  0 1  :  0 2  :  17 3  :  0 4  :  1 \n"
     ]
    }
   ],
   "source": [
    "for topic in topics:\n",
    "    print(topic, end = ' \\t\\t ')\n",
    "    for cluster in range(num_clusters):\n",
    "        print(cluster, ' : ', len(frame1[ frame1.sentiment.eq(topic) &  frame1.cluster.eq(cluster) ]), end = ' ')\n",
    "    print()"
   ]
  },
  {
   "cell_type": "code",
   "execution_count": 69,
   "metadata": {},
   "outputs": [
    {
     "data": {
      "text/html": [
       "<div>\n",
       "<style scoped>\n",
       "    .dataframe tbody tr th:only-of-type {\n",
       "        vertical-align: middle;\n",
       "    }\n",
       "\n",
       "    .dataframe tbody tr th {\n",
       "        vertical-align: top;\n",
       "    }\n",
       "\n",
       "    .dataframe thead th {\n",
       "        text-align: right;\n",
       "    }\n",
       "</style>\n",
       "<table border=\"1\" class=\"dataframe\">\n",
       "  <thead>\n",
       "    <tr style=\"text-align: right;\">\n",
       "      <th></th>\n",
       "      <th>sentiment</th>\n",
       "      <th>cluster_0</th>\n",
       "      <th>cluster_1</th>\n",
       "      <th>cluster_2</th>\n",
       "      <th>cluster_3</th>\n",
       "      <th>cluster_4</th>\n",
       "    </tr>\n",
       "  </thead>\n",
       "  <tbody>\n",
       "    <tr>\n",
       "      <th>0</th>\n",
       "      <td>Не подходит</td>\n",
       "      <td>264</td>\n",
       "      <td>256</td>\n",
       "      <td>1371</td>\n",
       "      <td>447</td>\n",
       "      <td>560</td>\n",
       "    </tr>\n",
       "    <tr>\n",
       "      <th>1</th>\n",
       "      <td>Подходит</td>\n",
       "      <td>0</td>\n",
       "      <td>0</td>\n",
       "      <td>188</td>\n",
       "      <td>0</td>\n",
       "      <td>6</td>\n",
       "    </tr>\n",
       "    <tr>\n",
       "      <th>2</th>\n",
       "      <td>Скорее нет</td>\n",
       "      <td>0</td>\n",
       "      <td>0</td>\n",
       "      <td>24</td>\n",
       "      <td>4</td>\n",
       "      <td>1</td>\n",
       "    </tr>\n",
       "    <tr>\n",
       "      <th>3</th>\n",
       "      <td>Скорее да</td>\n",
       "      <td>0</td>\n",
       "      <td>0</td>\n",
       "      <td>41</td>\n",
       "      <td>1</td>\n",
       "      <td>3</td>\n",
       "    </tr>\n",
       "    <tr>\n",
       "      <th>4</th>\n",
       "      <td>Затрудняюсь</td>\n",
       "      <td>0</td>\n",
       "      <td>0</td>\n",
       "      <td>17</td>\n",
       "      <td>0</td>\n",
       "      <td>1</td>\n",
       "    </tr>\n",
       "  </tbody>\n",
       "</table>\n",
       "</div>"
      ],
      "text/plain": [
       "     sentiment cluster_0 cluster_1 cluster_2 cluster_3 cluster_4\n",
       "0  Не подходит       264       256      1371       447       560\n",
       "1     Подходит         0         0       188         0         6\n",
       "2   Скорее нет         0         0        24         4         1\n",
       "3    Скорее да         0         0        41         1         3\n",
       "4  Затрудняюсь         0         0        17         0         1"
      ]
     },
     "execution_count": 69,
     "metadata": {},
     "output_type": "execute_result"
    }
   ],
   "source": [
    "clust_res = pd.DataFrame(columns=['sentiment', 'cluster_0', 'cluster_1', 'cluster_2', 'cluster_3', 'cluster_4'])\n",
    "i = 0\n",
    "for topic in topics:\n",
    "    cnt = []\n",
    "    for cluster in range(num_clusters):\n",
    "        cnt.append(len(frame1[ frame1.sentiment.eq(topic) &  frame1.cluster.eq(cluster) ]))\n",
    "    clust_res.loc[i] = [topic] + cnt\n",
    "    i += 1\n",
    "clust_res"
   ]
  },
  {
   "cell_type": "code",
   "execution_count": 70,
   "metadata": {},
   "outputs": [],
   "source": [
    "tech_text = '''\n",
    "Услуги по технической поддержке машины.'''"
   ]
  },
  {
   "cell_type": "code",
   "execution_count": 71,
   "metadata": {},
   "outputs": [
    {
     "data": {
      "text/html": [
       "<div>\n",
       "<style scoped>\n",
       "    .dataframe tbody tr th:only-of-type {\n",
       "        vertical-align: middle;\n",
       "    }\n",
       "\n",
       "    .dataframe tbody tr th {\n",
       "        vertical-align: top;\n",
       "    }\n",
       "\n",
       "    .dataframe thead th {\n",
       "        text-align: right;\n",
       "    }\n",
       "</style>\n",
       "<table border=\"1\" class=\"dataframe\">\n",
       "  <thead>\n",
       "    <tr style=\"text-align: right;\">\n",
       "      <th></th>\n",
       "      <th>0</th>\n",
       "      <th>1</th>\n",
       "      <th>2</th>\n",
       "      <th>3</th>\n",
       "      <th>4</th>\n",
       "      <th>5</th>\n",
       "      <th>6</th>\n",
       "      <th>7</th>\n",
       "      <th>8</th>\n",
       "      <th>9</th>\n",
       "      <th>...</th>\n",
       "      <th>433</th>\n",
       "      <th>434</th>\n",
       "      <th>435</th>\n",
       "      <th>436</th>\n",
       "      <th>437</th>\n",
       "      <th>438</th>\n",
       "      <th>439</th>\n",
       "      <th>440</th>\n",
       "      <th>441</th>\n",
       "      <th>442</th>\n",
       "    </tr>\n",
       "  </thead>\n",
       "  <tbody>\n",
       "    <tr>\n",
       "      <th>0</th>\n",
       "      <td>0.0</td>\n",
       "      <td>0.0</td>\n",
       "      <td>0.0</td>\n",
       "      <td>0.0</td>\n",
       "      <td>0.0</td>\n",
       "      <td>0.0</td>\n",
       "      <td>0.0</td>\n",
       "      <td>0.0</td>\n",
       "      <td>0.0</td>\n",
       "      <td>0.0</td>\n",
       "      <td>...</td>\n",
       "      <td>0.0</td>\n",
       "      <td>0.0</td>\n",
       "      <td>0.0</td>\n",
       "      <td>0.0</td>\n",
       "      <td>0.0</td>\n",
       "      <td>0.0</td>\n",
       "      <td>0.0</td>\n",
       "      <td>0.0</td>\n",
       "      <td>0.0</td>\n",
       "      <td>0.0</td>\n",
       "    </tr>\n",
       "  </tbody>\n",
       "</table>\n",
       "<p>1 rows × 443 columns</p>\n",
       "</div>"
      ],
      "text/plain": [
       "   0    1    2    3    4    5    6    7    8    9    ...  433  434  435  436  \\\n",
       "0  0.0  0.0  0.0  0.0  0.0  0.0  0.0  0.0  0.0  0.0  ...  0.0  0.0  0.0  0.0   \n",
       "\n",
       "   437  438  439  440  441  442  \n",
       "0  0.0  0.0  0.0  0.0  0.0  0.0  \n",
       "\n",
       "[1 rows x 443 columns]"
      ]
     },
     "execution_count": 71,
     "metadata": {},
     "output_type": "execute_result"
    }
   ],
   "source": [
    "text_vec = tfidf_vectorizer.transform([tech_text])\n",
    "pd.DataFrame.sparse.from_spmatrix(text_vec)"
   ]
  },
  {
   "cell_type": "code",
   "execution_count": 72,
   "metadata": {},
   "outputs": [
    {
     "data": {
      "text/plain": [
       "array([4])"
      ]
     },
     "execution_count": 72,
     "metadata": {},
     "output_type": "execute_result"
    }
   ],
   "source": [
    "km.predict(text_vec)"
   ]
  },
  {
   "cell_type": "code",
   "execution_count": 73,
   "metadata": {},
   "outputs": [],
   "source": [
    "# Подходит\n",
    "econ_text = '''\n",
    "№ 101 Оказание услуг по сопровождению Государственной информационной системы Удмуртской Республики «Управление финансово-экономической деятельностью государственных органов Удмуртской Республики, органов местного самоуправления в Удмуртской Республике и подведомственных им учреждений» для нужд автономного учреждения «Центр цифровых технологий Удмуртской Республики»\n",
    "'''"
   ]
  },
  {
   "cell_type": "code",
   "execution_count": 74,
   "metadata": {},
   "outputs": [
    {
     "data": {
      "text/plain": [
       "array([2])"
      ]
     },
     "execution_count": 74,
     "metadata": {},
     "output_type": "execute_result"
    }
   ],
   "source": [
    "text_vec = tfidf_vectorizer.transform([econ_text])\n",
    "km.predict(text_vec)"
   ]
  },
  {
   "cell_type": "markdown",
   "metadata": {},
   "source": [
    "## Меры сходства "
   ]
  },
  {
   "cell_type": "code",
   "execution_count": 81,
   "metadata": {},
   "outputs": [],
   "source": [
    "import pandas as pd\n",
    "from sklearn.feature_extraction.text import TfidfVectorizer\n",
    "from sklearn.metrics.pairwise import linear_kernel\n",
    "from sklearn.metrics.pairwise import cosine_similarity\n",
    " \n",
    "# зададим массив текстов\n",
    "some_texts = [\n",
    "   'услуги по разработке образовательного web сайта',\n",
    "   'услуга по разработке системы он лайн регистрации',\n",
    "   'оказание услуг по техническому сопровождению проекта',\n",
    "]\n",
    "df = pd.DataFrame({'texts': some_texts})"
   ]
  },
  {
   "cell_type": "code",
   "execution_count": 82,
   "metadata": {},
   "outputs": [],
   "source": [
    "find_nearest_to = \"услуга по разработке системы он лайн регистрации\""
   ]
  },
  {
   "cell_type": "code",
   "execution_count": 83,
   "metadata": {},
   "outputs": [],
   "source": [
    "# формирование весов tf-idf\n",
    "tfidf = TfidfVectorizer()\n",
    "mx_tf = tfidf.fit_transform(some_texts)\n",
    "new_entry = tfidf.transform([find_nearest_to])"
   ]
  },
  {
   "cell_type": "code",
   "execution_count": 84,
   "metadata": {},
   "outputs": [
    {
     "data": {
      "text/plain": [
       "scipy.sparse.csr.csr_matrix"
      ]
     },
     "execution_count": 84,
     "metadata": {},
     "output_type": "execute_result"
    }
   ],
   "source": [
    "type(mx_tf)"
   ]
  },
  {
   "cell_type": "code",
   "execution_count": 85,
   "metadata": {},
   "outputs": [
    {
     "data": {
      "text/html": [
       "<div>\n",
       "<style scoped>\n",
       "    .dataframe tbody tr th:only-of-type {\n",
       "        vertical-align: middle;\n",
       "    }\n",
       "\n",
       "    .dataframe tbody tr th {\n",
       "        vertical-align: top;\n",
       "    }\n",
       "\n",
       "    .dataframe thead th {\n",
       "        text-align: right;\n",
       "    }\n",
       "</style>\n",
       "<table border=\"1\" class=\"dataframe\">\n",
       "  <thead>\n",
       "    <tr style=\"text-align: right;\">\n",
       "      <th></th>\n",
       "      <th>0</th>\n",
       "      <th>1</th>\n",
       "      <th>2</th>\n",
       "      <th>3</th>\n",
       "      <th>4</th>\n",
       "      <th>5</th>\n",
       "      <th>6</th>\n",
       "      <th>7</th>\n",
       "      <th>8</th>\n",
       "      <th>9</th>\n",
       "      <th>10</th>\n",
       "      <th>11</th>\n",
       "      <th>12</th>\n",
       "      <th>13</th>\n",
       "      <th>14</th>\n",
       "      <th>15</th>\n",
       "    </tr>\n",
       "  </thead>\n",
       "  <tbody>\n",
       "    <tr>\n",
       "      <th>0</th>\n",
       "      <td>0.450504</td>\n",
       "      <td>0.000000</td>\n",
       "      <td>0.450504</td>\n",
       "      <td>0.000000</td>\n",
       "      <td>0.000000</td>\n",
       "      <td>0.266075</td>\n",
       "      <td>0.000000</td>\n",
       "      <td>0.342620</td>\n",
       "      <td>0.000000</td>\n",
       "      <td>0.450504</td>\n",
       "      <td>0.000000</td>\n",
       "      <td>0.000000</td>\n",
       "      <td>0.000000</td>\n",
       "      <td>0.000000</td>\n",
       "      <td>0.000000</td>\n",
       "      <td>0.450504</td>\n",
       "    </tr>\n",
       "    <tr>\n",
       "      <th>1</th>\n",
       "      <td>0.000000</td>\n",
       "      <td>0.410747</td>\n",
       "      <td>0.000000</td>\n",
       "      <td>0.000000</td>\n",
       "      <td>0.410747</td>\n",
       "      <td>0.242594</td>\n",
       "      <td>0.000000</td>\n",
       "      <td>0.312384</td>\n",
       "      <td>0.410747</td>\n",
       "      <td>0.000000</td>\n",
       "      <td>0.410747</td>\n",
       "      <td>0.000000</td>\n",
       "      <td>0.000000</td>\n",
       "      <td>0.000000</td>\n",
       "      <td>0.410747</td>\n",
       "      <td>0.000000</td>\n",
       "    </tr>\n",
       "    <tr>\n",
       "      <th>2</th>\n",
       "      <td>0.000000</td>\n",
       "      <td>0.000000</td>\n",
       "      <td>0.000000</td>\n",
       "      <td>0.432385</td>\n",
       "      <td>0.000000</td>\n",
       "      <td>0.255374</td>\n",
       "      <td>0.432385</td>\n",
       "      <td>0.000000</td>\n",
       "      <td>0.000000</td>\n",
       "      <td>0.000000</td>\n",
       "      <td>0.000000</td>\n",
       "      <td>0.432385</td>\n",
       "      <td>0.432385</td>\n",
       "      <td>0.432385</td>\n",
       "      <td>0.000000</td>\n",
       "      <td>0.000000</td>\n",
       "    </tr>\n",
       "  </tbody>\n",
       "</table>\n",
       "</div>"
      ],
      "text/plain": [
       "         0         1         2         3         4         5         6   \\\n",
       "0  0.450504  0.000000  0.450504  0.000000  0.000000  0.266075  0.000000   \n",
       "1  0.000000  0.410747  0.000000  0.000000  0.410747  0.242594  0.000000   \n",
       "2  0.000000  0.000000  0.000000  0.432385  0.000000  0.255374  0.432385   \n",
       "\n",
       "         7         8         9         10        11        12        13  \\\n",
       "0  0.342620  0.000000  0.450504  0.000000  0.000000  0.000000  0.000000   \n",
       "1  0.312384  0.410747  0.000000  0.410747  0.000000  0.000000  0.000000   \n",
       "2  0.000000  0.000000  0.000000  0.000000  0.432385  0.432385  0.432385   \n",
       "\n",
       "         14        15  \n",
       "0  0.000000  0.450504  \n",
       "1  0.410747  0.000000  \n",
       "2  0.000000  0.000000  "
      ]
     },
     "execution_count": 85,
     "metadata": {},
     "output_type": "execute_result"
    }
   ],
   "source": [
    "sdf = pd.DataFrame.sparse.from_spmatrix(mx_tf)\n",
    "sdf"
   ]
  },
  {
   "cell_type": "code",
   "execution_count": 86,
   "metadata": {},
   "outputs": [
    {
     "data": {
      "text/plain": [
       "array([[1.        , 0.17157695, 0.06794852],\n",
       "       [0.17157695, 1.        , 0.06195203],\n",
       "       [0.06794852, 0.06195203, 1.        ]])"
      ]
     },
     "execution_count": 86,
     "metadata": {},
     "output_type": "execute_result"
    }
   ],
   "source": [
    "cosine_similarity(mx_tf)"
   ]
  },
  {
   "cell_type": "code",
   "execution_count": 87,
   "metadata": {},
   "outputs": [
    {
     "data": {
      "text/html": [
       "<div>\n",
       "<style scoped>\n",
       "    .dataframe tbody tr th:only-of-type {\n",
       "        vertical-align: middle;\n",
       "    }\n",
       "\n",
       "    .dataframe tbody tr th {\n",
       "        vertical-align: top;\n",
       "    }\n",
       "\n",
       "    .dataframe thead th {\n",
       "        text-align: right;\n",
       "    }\n",
       "</style>\n",
       "<table border=\"1\" class=\"dataframe\">\n",
       "  <thead>\n",
       "    <tr style=\"text-align: right;\">\n",
       "      <th></th>\n",
       "      <th>0</th>\n",
       "      <th>1</th>\n",
       "      <th>2</th>\n",
       "      <th>3</th>\n",
       "      <th>4</th>\n",
       "      <th>5</th>\n",
       "      <th>6</th>\n",
       "      <th>7</th>\n",
       "      <th>8</th>\n",
       "      <th>9</th>\n",
       "      <th>10</th>\n",
       "      <th>11</th>\n",
       "      <th>12</th>\n",
       "      <th>13</th>\n",
       "      <th>14</th>\n",
       "      <th>15</th>\n",
       "    </tr>\n",
       "  </thead>\n",
       "  <tbody>\n",
       "    <tr>\n",
       "      <th>0</th>\n",
       "      <td>0.0</td>\n",
       "      <td>0.410747</td>\n",
       "      <td>0.0</td>\n",
       "      <td>0.0</td>\n",
       "      <td>0.410747</td>\n",
       "      <td>0.242594</td>\n",
       "      <td>0.0</td>\n",
       "      <td>0.312384</td>\n",
       "      <td>0.410747</td>\n",
       "      <td>0.0</td>\n",
       "      <td>0.410747</td>\n",
       "      <td>0.0</td>\n",
       "      <td>0.0</td>\n",
       "      <td>0.0</td>\n",
       "      <td>0.410747</td>\n",
       "      <td>0.0</td>\n",
       "    </tr>\n",
       "  </tbody>\n",
       "</table>\n",
       "</div>"
      ],
      "text/plain": [
       "    0         1    2    3         4         5    6         7         8    9   \\\n",
       "0  0.0  0.410747  0.0  0.0  0.410747  0.242594  0.0  0.312384  0.410747  0.0   \n",
       "\n",
       "         10   11   12   13        14   15  \n",
       "0  0.410747  0.0  0.0  0.0  0.410747  0.0  "
      ]
     },
     "execution_count": 87,
     "metadata": {},
     "output_type": "execute_result"
    }
   ],
   "source": [
    "new_entry = tfidf.transform([find_nearest_to])\n",
    "pd.DataFrame.sparse.from_spmatrix(new_entry)"
   ]
  },
  {
   "cell_type": "code",
   "execution_count": 88,
   "metadata": {},
   "outputs": [
    {
     "data": {
      "text/plain": [
       "array([0.17157695, 1.        , 0.06195203])"
      ]
     },
     "execution_count": 88,
     "metadata": {},
     "output_type": "execute_result"
    }
   ],
   "source": [
    "cosine_similarities = cosine_similarity(new_entry, mx_tf).flatten()\n",
    "cosine_similarities"
   ]
  },
  {
   "cell_type": "markdown",
   "metadata": {},
   "source": [
    "----------------------"
   ]
  },
  {
   "cell_type": "markdown",
   "metadata": {},
   "source": [
    "услуга по разработке системы он лайн регистрации"
   ]
  },
  {
   "cell_type": "code",
   "execution_count": 89,
   "metadata": {},
   "outputs": [
    {
     "data": {
      "text/html": [
       "<div>\n",
       "<style scoped>\n",
       "    .dataframe tbody tr th:only-of-type {\n",
       "        vertical-align: middle;\n",
       "    }\n",
       "\n",
       "    .dataframe tbody tr th {\n",
       "        vertical-align: top;\n",
       "    }\n",
       "\n",
       "    .dataframe thead th {\n",
       "        text-align: right;\n",
       "    }\n",
       "</style>\n",
       "<table border=\"1\" class=\"dataframe\">\n",
       "  <thead>\n",
       "    <tr style=\"text-align: right;\">\n",
       "      <th></th>\n",
       "      <th>texts</th>\n",
       "      <th>cos_similarities</th>\n",
       "    </tr>\n",
       "  </thead>\n",
       "  <tbody>\n",
       "    <tr>\n",
       "      <th>1</th>\n",
       "      <td>услуга по разработке системы он лайн регистрации</td>\n",
       "      <td>1.000000</td>\n",
       "    </tr>\n",
       "    <tr>\n",
       "      <th>0</th>\n",
       "      <td>услуги по разработке образовательного web сайта</td>\n",
       "      <td>0.171577</td>\n",
       "    </tr>\n",
       "    <tr>\n",
       "      <th>2</th>\n",
       "      <td>оказание услуг по техническому сопровождению п...</td>\n",
       "      <td>0.061952</td>\n",
       "    </tr>\n",
       "  </tbody>\n",
       "</table>\n",
       "</div>"
      ],
      "text/plain": [
       "                                               texts  cos_similarities\n",
       "1   услуга по разработке системы он лайн регистрации          1.000000\n",
       "0    услуги по разработке образовательного web сайта          0.171577\n",
       "2  оказание услуг по техническому сопровождению п...          0.061952"
      ]
     },
     "execution_count": 89,
     "metadata": {},
     "output_type": "execute_result"
    }
   ],
   "source": [
    "# запишем все попарные результаты сравнений\n",
    "df['cos_similarities'] = cosine_similarities\n",
    "\n",
    "# и отсортируем по убыванию (т.к. cos(0)=1)\n",
    "df = df.sort_values(by=['cos_similarities'], ascending=[0])\n",
    "df"
   ]
  },
  {
   "cell_type": "markdown",
   "metadata": {},
   "source": [
    "Полный список метрик попарного сравнения - в документации https://scikit-learn.org/stable/modules/classes.html#module-sklearn.metrics.pairwise"
   ]
  },
  {
   "cell_type": "markdown",
   "metadata": {},
   "source": [
    "## Визуализация"
   ]
  },
  {
   "cell_type": "code",
   "execution_count": 90,
   "metadata": {},
   "outputs": [],
   "source": [
    "from matplotlib import rc\n",
    "#включаем русские символы на графике\n",
    "font = {'family' : 'Verdana'}#'weigth': 'normal'}\n",
    "rc('font', **font)"
   ]
  },
  {
   "cell_type": "code",
   "execution_count": 91,
   "metadata": {},
   "outputs": [
    {
     "ename": "NameError",
     "evalue": "name 'groups_mbk' is not defined",
     "output_type": "error",
     "traceback": [
      "\u001b[1;31m---------------------------------------------------------------------------\u001b[0m",
      "\u001b[1;31mNameError\u001b[0m                                 Traceback (most recent call last)",
      "Cell \u001b[1;32mIn[91], line 1\u001b[0m\n\u001b[1;32m----> 1\u001b[0m \u001b[38;5;28;01mfor\u001b[39;00m name, group \u001b[38;5;129;01min\u001b[39;00m \u001b[43mgroups_mbk\u001b[49m:\n\u001b[0;32m      2\u001b[0m     points \u001b[38;5;241m=\u001b[39m ax\u001b[38;5;241m.\u001b[39mplot(group\u001b[38;5;241m.\u001b[39mx, group\u001b[38;5;241m.\u001b[39my, marker\u001b[38;5;241m=\u001b[39m\u001b[38;5;124m'\u001b[39m\u001b[38;5;124mo\u001b[39m\u001b[38;5;124m'\u001b[39m, linestyle\u001b[38;5;241m=\u001b[39m\u001b[38;5;124m'\u001b[39m\u001b[38;5;124m'\u001b[39m, ms\u001b[38;5;241m=\u001b[39m\u001b[38;5;241m12\u001b[39m, \u001b[38;5;66;03m#ms=18\u001b[39;00m\n\u001b[0;32m      3\u001b[0m                      label\u001b[38;5;241m=\u001b[39mcluster_names[name], mec\u001b[38;5;241m=\u001b[39m\u001b[38;5;124m'\u001b[39m\u001b[38;5;124mnone\u001b[39m\u001b[38;5;124m'\u001b[39m, \n\u001b[0;32m      4\u001b[0m                      color\u001b[38;5;241m=\u001b[39mcluster_colors[name])\n\u001b[0;32m      5\u001b[0m     ax\u001b[38;5;241m.\u001b[39mset_aspect(\u001b[38;5;124m'\u001b[39m\u001b[38;5;124mauto\u001b[39m\u001b[38;5;124m'\u001b[39m)\n",
      "\u001b[1;31mNameError\u001b[0m: name 'groups_mbk' is not defined"
     ]
    }
   ],
   "source": [
    "for name, group in groups_mbk:\n",
    "    points = ax.plot(group.x, group.y, marker='o', linestyle='', ms=12, #ms=18\n",
    "                     label=cluster_names[name], mec='none', \n",
    "                     color=cluster_colors[name])\n",
    "    ax.set_aspect('auto')\n",
    "    labels = [i for i in group.title]\n",
    "    \n",
    "    tooltip = mpld3.plugins.PointHTMLTooltip(points[0], labels, voffset=10, hoffset=10) #, css=css\n",
    "    mpld3.plugins.connect(fig, tooltip) #   , TopToolbar()\n",
    "    \n",
    "    #ax.axes.get_xaxis().set_ticks([])\n",
    "    #ax.axes.get_yaxis().set_ticks([])\n",
    "\n",
    "    #ax.axes.get_xaxis().set_visible(False)\n",
    "    #ax.axes.get_yaxis().set_visible(False)"
   ]
  },
  {
   "cell_type": "code",
   "execution_count": null,
   "metadata": {},
   "outputs": [],
   "source": [
    "ax.set_title(\"Mini K-Means\", size=20) #groups_mbk\n",
    "    \n",
    "ax.legend(numpoints=1)\n",
    "mpld3.disable_notebook()\n",
    "#mpld3.display()\n",
    "mpld3.save_html(fig, \"mbk.html\")\n",
    "\n",
    "mpld3.show()\n",
    "#mpld3.save_json(fig, \"vivod.json\")\n",
    "#mpld3.fig_to_html(fig)\n",
    "\n",
    "fig, ax = plt.subplots(figsize=(51,25))\n",
    "\n",
    "scatter = ax.scatter(np.random.normal(size=N),\n",
    "                     np.random.normal(size=N),\n",
    "                     c=np.random.random(size=N),\n",
    "                     s=1000 * np.random.random(size=N),\n",
    "                     alpha=0.3,\n",
    "                     cmap=plt.cm.jet)\n",
    "ax.grid(color='white', linestyle='solid')    \n",
    "\n",
    "ax.set_title(\"Кластеры\", size=20)\n",
    "\n",
    "fig, ax = plt.subplots(figsize=(51,25))\n",
    "\n",
    "labels = ['point {0}'.format(i + 1) for i in range(N)]\n",
    "tooltip = mpld3.plugins.PointLabelTooltip(scatter, labels=labels)\n",
    "mpld3.plugins.connect(fig, tooltip)\n",
    "\n",
    "mpld3.show()fig, ax = plt.subplots(figsize=(72,36))\n",
    "for name, group in groups:\n",
    "    points = ax.plot(group.x, group.y, marker='o', linestyle='', ms=18, \n",
    "                     label=cluster_names[name], mec='none', \n",
    "                     color=cluster_colors[name])\n",
    "    ax.set_aspect('auto')\n",
    "    labels = [i for i in group.title]\n",
    "    tooltip = mpld3.plugins.PointLabelTooltip(points, labels=labels)\n",
    "    mpld3.plugins.connect(fig, tooltip)\n",
    "\n",
    "ax.set_title(\"K-means\", size=20)\n",
    "\n",
    "mpld3.display()"
   ]
  }
 ],
 "metadata": {
  "kernelspec": {
   "display_name": "Python 3",
   "language": "python",
   "name": "python3"
  },
  "language_info": {
   "codemirror_mode": {
    "name": "ipython",
    "version": 3
   },
   "file_extension": ".py",
   "mimetype": "text/x-python",
   "name": "python",
   "nbconvert_exporter": "python",
   "pygments_lexer": "ipython3",
   "version": "3.10.0"
  }
 },
 "nbformat": 4,
 "nbformat_minor": 4
}
