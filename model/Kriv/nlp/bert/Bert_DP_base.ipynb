{
 "cells": [
  {
   "cell_type": "code",
   "execution_count": 196,
   "metadata": {},
   "outputs": [],
   "source": [
    "import numpy as np\n",
    "import pandas as pd\n",
    "from tqdm import tqdm\n",
    "from sklearn.model_selection import train_test_split\n",
    "from sklearn.metrics import classification_report,  roc_auc_score, confusion_matrix\n",
    "from sklearn.utils.class_weight import compute_class_weight\n",
    "\n",
    "import torch\n",
    "import torch.nn as nn\n",
    "from transformers import AutoModel, BertTokenizer, BertForSequenceClassification, AdamW\n",
    "from torch.utils.data import TensorDataset, DataLoader, RandomSampler, SequentialSampler\n",
    "\n",
    "import gc\n",
    "gc.collect()\n",
    "torch.cuda.empty_cache()\n",
    "\n",
    "tqdm.pandas()\n",
    "\n",
    "device = torch.device('cuda')"
   ]
  },
  {
   "cell_type": "code",
   "execution_count": 197,
   "metadata": {},
   "outputs": [],
   "source": [
    "bert = AutoModel.from_pretrained('DeepPavlov/rubert-base-cased-sentence')\n",
    "\n",
    "tokenizer = BertTokenizer.from_pretrained('DeepPavlov/rubert-base-cased-sentence')"
   ]
  },
  {
   "cell_type": "code",
   "execution_count": 198,
   "metadata": {},
   "outputs": [
    {
     "data": {
      "text/plain": [
       "(3184, 12)"
      ]
     },
     "execution_count": 198,
     "metadata": {},
     "output_type": "execute_result"
    }
   ],
   "source": [
    "df = pd.read_csv(\"df_pp_stem_lemm.csv\")\n",
    "df = df.drop('Unnamed: 0',axis=1)\n",
    "df.shape"
   ]
  },
  {
   "cell_type": "code",
   "execution_count": 199,
   "metadata": {},
   "outputs": [
    {
     "data": {
      "text/html": [
       "<div>\n",
       "<style scoped>\n",
       "    .dataframe tbody tr th:only-of-type {\n",
       "        vertical-align: middle;\n",
       "    }\n",
       "\n",
       "    .dataframe tbody tr th {\n",
       "        vertical-align: top;\n",
       "    }\n",
       "\n",
       "    .dataframe thead th {\n",
       "        text-align: right;\n",
       "    }\n",
       "</style>\n",
       "<table border=\"1\" class=\"dataframe\">\n",
       "  <thead>\n",
       "    <tr style=\"text-align: right;\">\n",
       "      <th></th>\n",
       "      <th>sentiment</th>\n",
       "      <th>okpd_2</th>\n",
       "      <th>name</th>\n",
       "      <th>number</th>\n",
       "      <th>fz</th>\n",
       "      <th>date</th>\n",
       "      <th>preproccessed_name</th>\n",
       "      <th>preproccessed_okpd_2</th>\n",
       "      <th>preproccessed_name_stem</th>\n",
       "      <th>preproccessed_okpd_2_stem</th>\n",
       "      <th>preproccessed_name_lemm</th>\n",
       "      <th>preproccessed_okpd_2_lemm</th>\n",
       "    </tr>\n",
       "  </thead>\n",
       "  <tbody>\n",
       "    <tr>\n",
       "      <th>1260</th>\n",
       "      <td>0</td>\n",
       "      <td>62.09.20.190: Услуги по технической поддержке ...</td>\n",
       "      <td>Оказание услуг по технической поддержке и обно...</td>\n",
       "      <td>№0817200000323015217</td>\n",
       "      <td>44</td>\n",
       "      <td>21.09.2023</td>\n",
       "      <td>оказание услуг по технической поддержке и обно...</td>\n",
       "      <td>услуги по технической поддержке в области инф...</td>\n",
       "      <td>оказан услуг техническ поддержк обновлен актуа...</td>\n",
       "      <td>услуг техническ поддержк област информацион те...</td>\n",
       "      <td>оказание услуга технический поддержка обновлен...</td>\n",
       "      <td>услуга технический поддержка область информаци...</td>\n",
       "    </tr>\n",
       "    <tr>\n",
       "      <th>1000</th>\n",
       "      <td>0</td>\n",
       "      <td>62.03.12.130: Услуги по сопровождению компьюте...</td>\n",
       "      <td>Оказание услуг по сопровождению программного п...</td>\n",
       "      <td>№0162200011823002478</td>\n",
       "      <td>44</td>\n",
       "      <td>26.09.2023</td>\n",
       "      <td>оказание услуг по сопровождению программного п...</td>\n",
       "      <td>услуги по сопровождению компьютерных систем</td>\n",
       "      <td>оказан услуг сопровожден программн продукт пар...</td>\n",
       "      <td>услуг сопровожден компьютерн сист</td>\n",
       "      <td>оказание услуга сопровождение программный прод...</td>\n",
       "      <td>услуга сопровождение компьютерный система \\n</td>\n",
       "    </tr>\n",
       "  </tbody>\n",
       "</table>\n",
       "</div>"
      ],
      "text/plain": [
       "      sentiment                                             okpd_2  \\\n",
       "1260          0  62.09.20.190: Услуги по технической поддержке ...   \n",
       "1000          0  62.03.12.130: Услуги по сопровождению компьюте...   \n",
       "\n",
       "                                                   name                number  \\\n",
       "1260  Оказание услуг по технической поддержке и обно...  №0817200000323015217   \n",
       "1000  Оказание услуг по сопровождению программного п...  №0162200011823002478   \n",
       "\n",
       "      fz        date                                 preproccessed_name  \\\n",
       "1260  44  21.09.2023  оказание услуг по технической поддержке и обно...   \n",
       "1000  44  26.09.2023  оказание услуг по сопровождению программного п...   \n",
       "\n",
       "                                   preproccessed_okpd_2  \\\n",
       "1260   услуги по технической поддержке в области инф...   \n",
       "1000        услуги по сопровождению компьютерных систем   \n",
       "\n",
       "                                preproccessed_name_stem  \\\n",
       "1260  оказан услуг техническ поддержк обновлен актуа...   \n",
       "1000  оказан услуг сопровожден программн продукт пар...   \n",
       "\n",
       "                              preproccessed_okpd_2_stem  \\\n",
       "1260  услуг техническ поддержк област информацион те...   \n",
       "1000                  услуг сопровожден компьютерн сист   \n",
       "\n",
       "                                preproccessed_name_lemm  \\\n",
       "1260  оказание услуга технический поддержка обновлен...   \n",
       "1000  оказание услуга сопровождение программный прод...   \n",
       "\n",
       "                              preproccessed_okpd_2_lemm  \n",
       "1260  услуга технический поддержка область информаци...  \n",
       "1000       услуга сопровождение компьютерный система \\n  "
      ]
     },
     "execution_count": 199,
     "metadata": {},
     "output_type": "execute_result"
    }
   ],
   "source": [
    "df.sample(2)"
   ]
  },
  {
   "cell_type": "code",
   "execution_count": 200,
   "metadata": {},
   "outputs": [],
   "source": [
    "# df['name'] = df['name'].astype(str) + ' ' + df['okpd_2'].astype(str)"
   ]
  },
  {
   "cell_type": "markdown",
   "metadata": {},
   "source": [
    "после объединения столбца name и okpd_2 метрики стали хуже"
   ]
  },
  {
   "cell_type": "markdown",
   "metadata": {},
   "source": [
    "               precision    recall  f1-score   support\n",
    "\n",
    "           0       0.96      0.96      0.96       471\n",
    "           1       0.54      0.53      0.53        38\n",
    "\n",
    "    accuracy                           0.93       509\n",
    "   macro avg       0.75      0.75      0.75       509\n",
    "weighted avg       0.93      0.93      0.93       509\n",
    "\n",
    "ROC-AUC: 0.9140127388535031\n",
    "Confusion Matrix:\n",
    "[[454  17]\n",
    " [ 18  20]]"
   ]
  },
  {
   "cell_type": "code",
   "execution_count": 201,
   "metadata": {},
   "outputs": [
    {
     "name": "stdout",
     "output_type": "stream",
     "text": [
      "Размеры тренировочного датасета: (2547, 1) (2547,)\n",
      "Размеры тестового датасета: (509, 1) (509,)\n",
      "Размеры валидационного датасета: (128, 1) (128,)\n"
     ]
    }
   ],
   "source": [
    "train_df = df[['name','sentiment']]\n",
    "\n",
    "X = train_df.drop('sentiment', axis=1)\n",
    "y = train_df['sentiment']\n",
    "\n",
    "train_text, X_temp, train_labels, y_temp = train_test_split(X, y, test_size=0.20, random_state=42, stratify=train_df['sentiment'])\n",
    "test_text, val_text, test_labels, val_labels = train_test_split(X_temp, y_temp, test_size=0.20, random_state=42)\n",
    "\n",
    "test_df = pd.DataFrame({'sentiment': test_text['name'], 'label': test_labels})\n",
    "\n",
    "# Вывод размеров полученных датасетов\n",
    "print(\"Размеры тренировочного датасета:\", train_text.shape, train_labels.shape)\n",
    "print(\"Размеры тестового датасета:\", test_text.shape, test_labels.shape)\n",
    "print(\"Размеры валидационного датасета:\", val_text.shape, val_labels.shape)"
   ]
  },
  {
   "cell_type": "markdown",
   "metadata": {},
   "source": [
    "график длин предложений"
   ]
  },
  {
   "cell_type": "code",
   "execution_count": 202,
   "metadata": {},
   "outputs": [
    {
     "data": {
      "text/plain": [
       "<Axes: >"
      ]
     },
     "execution_count": 202,
     "metadata": {},
     "output_type": "execute_result"
    },
    {
     "data": {
      "image/png": "[encoded data removed]",
      "text/plain": [
       "<Figure size 640x480 with 1 Axes>"
      ]
     },
     "metadata": {},
     "output_type": "display_data"
    }
   ],
   "source": [
    "train_text['name'].apply(lambda x: len(tokenizer.encode(x))).hist()"
   ]
  },
  {
   "cell_type": "code",
   "execution_count": 203,
   "metadata": {},
   "outputs": [],
   "source": [
    "train_text = train_text.astype(str)\n",
    "val_text = val_text.astype(str)\n",
    "test_text = test_text.astype(str)"
   ]
  },
  {
   "cell_type": "markdown",
   "metadata": {},
   "source": [
    "Токенизируем текста, передадим в тензоры и загрузим в функцию DataLoader, которая будет по частям подавать наши данные для обучения и валидации в модель:"
   ]
  },
  {
   "cell_type": "code",
   "execution_count": 204,
   "metadata": {},
   "outputs": [],
   "source": [
    "tokens_train = tokenizer.batch_encode_plus(\n",
    "    train_text['name'].values.tolist(),\n",
    "    max_length = 155,\n",
    "    padding = 'max_length',\n",
    "    truncation = True\n",
    ")\n",
    "tokens_val = tokenizer.batch_encode_plus(\n",
    "    val_text['name'].values.tolist(),\n",
    "    max_length = 155,\n",
    "    padding = 'max_length',\n",
    "    truncation = True\n",
    ")\n",
    "tokens_test = tokenizer.batch_encode_plus(\n",
    "    test_text['name'].values.tolist(),\n",
    "    max_length = 155,\n",
    "    padding = 'max_length',\n",
    "    truncation = True\n",
    ")\n",
    "\n",
    "train_seq = torch.tensor(tokens_train['input_ids'])\n",
    "train_mask = torch.tensor(tokens_train['attention_mask'])\n",
    "train_y = torch.tensor(train_labels.values)\n",
    "\n",
    "val_seq = torch.tensor(tokens_val['input_ids'])\n",
    "val_mask = torch.tensor(tokens_val['attention_mask'])\n",
    "val_y = torch.tensor(val_labels.values)\n",
    "\n",
    "test_seq = torch.tensor(tokens_test['input_ids'])\n",
    "test_mask = torch.tensor(tokens_test['attention_mask'])\n",
    "test_y = torch.tensor(test_labels.values)\n",
    "batch_size = 8\n",
    "\n",
    "\n",
    "train_data = TensorDataset(train_seq, train_mask, train_y)\n",
    "train_sampler = RandomSampler(train_data)\n",
    "train_dataloader = DataLoader(train_data, sampler = train_sampler, batch_size = batch_size)\n",
    "\n",
    "val_data =  TensorDataset(val_seq, val_mask, val_y)\n",
    "val_sampler = SequentialSampler(val_data)\n",
    "val_dataloader = DataLoader(val_data, sampler = val_sampler, batch_size = batch_size)"
   ]
  },
  {
   "cell_type": "markdown",
   "metadata": {},
   "source": [
    "BERT не обучаем. Допишем к его выходу свои слои, которые и будем обучать на классификацию."
   ]
  },
  {
   "cell_type": "code",
   "execution_count": 205,
   "metadata": {},
   "outputs": [],
   "source": [
    "for param in bert.parameters():\n",
    "    param.requires_grad = False\n",
    "\n",
    "class BERT_Arch(nn.Module):\n",
    "    \n",
    "    def __init__(self, bert):\n",
    "        super(BERT_Arch, self).__init__()\n",
    "        self.bert = bert\n",
    "        self.dropout = nn.Dropout(0.1)\n",
    "        self.relu = nn.ReLU()\n",
    "        self.fc1 = nn.Linear(768,512)\n",
    "        self.fc2 = nn.Linear(512,2)\n",
    "        self.softmax = nn.Softmax(dim = 1)\n",
    "    \n",
    "    def forward(self, sent_id, mask):\n",
    "        _, cls_hs = self.bert(sent_id, attention_mask = mask, return_dict = False)\n",
    "        x = self.fc1(cls_hs)\n",
    "        x = self.relu(x)\n",
    "        x = self.dropout(x)\n",
    "        x = self.fc2(x)\n",
    "        x = self.softmax(x)\n",
    "        return x"
   ]
  },
  {
   "cell_type": "markdown",
   "metadata": {},
   "source": [
    "Объявим модель, загрузим ее в GPU. Импортируем оптимизатор."
   ]
  },
  {
   "cell_type": "code",
   "execution_count": 206,
   "metadata": {},
   "outputs": [
    {
     "name": "stderr",
     "output_type": "stream",
     "text": [
      "c:\\Users\\Mi\\AppData\\Local\\Programs\\Python\\Python310\\lib\\site-packages\\transformers\\optimization.py:429: FutureWarning: This implementation of AdamW is deprecated and will be removed in a future version. Use the PyTorch implementation torch.optim.AdamW instead, or set `no_deprecation_warning=True` to disable this warning\n",
      "  warnings.warn(\n"
     ]
    }
   ],
   "source": [
    "model = BERT_Arch(bert)\n",
    "\n",
    "model = model.to(device)\n",
    "\n",
    "optimizer = AdamW(model.parameters(),\n",
    "               lr= 1e-3)"
   ]
  },
  {
   "cell_type": "markdown",
   "metadata": {},
   "source": [
    "Для борьбы с дисбалансом классов используем следующий подход:\\\n",
    "вычисляем взвешенные классы на основе уникальных значений меток  `train_labels` . \\\n",
    "используем кросс-энтропию в качестве функции потерь и устанавливаете количество эпох для обучения"
   ]
  },
  {
   "cell_type": "code",
   "execution_count": 207,
   "metadata": {},
   "outputs": [
    {
     "name": "stdout",
     "output_type": "stream",
     "text": [
      "[0.5405348  6.66753927]\n"
     ]
    }
   ],
   "source": [
    "class_weights = compute_class_weight('balanced', classes=np.unique(train_labels), y=train_labels)\n",
    "print(class_weights)\n",
    "weights = torch.tensor(class_weights, dtype=torch.float)\n",
    "weights = weights.to(device)\n",
    "cross_entropy = nn.CrossEntropyLoss()\n",
    "epochs = 20"
   ]
  },
  {
   "cell_type": "markdown",
   "metadata": {},
   "source": [
    "!!!ВЕСА"
   ]
  },
  {
   "cell_type": "markdown",
   "metadata": {},
   "source": []
  },
  {
   "cell_type": "markdown",
   "metadata": {},
   "source": [
    "Функция для обучения модели:"
   ]
  },
  {
   "cell_type": "code",
   "execution_count": 208,
   "metadata": {},
   "outputs": [],
   "source": [
    "def train():\n",
    "    model.train()\n",
    "    total_loss, total_accuracy = 0, 0\n",
    "    total_preds = []\n",
    "    \n",
    "    for step, batch in tqdm(enumerate(train_dataloader), total = len(train_dataloader)):\n",
    "        batch = [r.to(device) for r in batch]\n",
    "        sent_id,mask,labels = batch\n",
    "        model.zero_grad()\n",
    "        preds = model(sent_id, mask)\n",
    "        loss = cross_entropy(preds, labels)\n",
    "        total_loss += loss.item()\n",
    "        loss.backward()\n",
    "        torch.nn.utils.clip_grad_norm_(model.parameters(), 1.0)\n",
    "        optimizer.step()\n",
    "        preds = preds.detach().cpu().numpy()\n",
    "        total_preds.append(preds)\n",
    "        \n",
    "    avg_loss = total_loss / len(train_dataloader)\n",
    "    total_preds = np.concatenate(total_preds, axis = 0)\n",
    "    \n",
    "    return avg_loss, total_preds"
   ]
  },
  {
   "cell_type": "markdown",
   "metadata": {},
   "source": [
    "Функция валидации:"
   ]
  },
  {
   "cell_type": "code",
   "execution_count": 209,
   "metadata": {},
   "outputs": [],
   "source": [
    "def evaluate():\n",
    "    model.eval()\n",
    "    total_loss, total_accuracy = 0,0\n",
    "    total_preds = []\n",
    "\n",
    "    for step, batch in tqdm(enumerate(val_dataloader), total = len(val_dataloader)):\n",
    "        batch = [t.to(device) for t in batch]\n",
    "        sent_id, mask, labels = batch\n",
    "        \n",
    "        with torch.no_grad():\n",
    "            preds = model(sent_id, mask)\n",
    "            loss = cross_entropy(preds, labels)\n",
    "            total_loss = total_loss + loss.item()\n",
    "            preds = preds.detach().cpu().numpy()\n",
    "            total_preds.append(preds)\n",
    "\n",
    "    avg_loss = total_loss / len(val_dataloader)\n",
    "    total_preds = np.concatenate(total_preds, axis = 0)\n",
    "    \n",
    "    return avg_loss"
   ]
  },
  {
   "cell_type": "markdown",
   "metadata": {},
   "source": [
    "Обучаем. Для лучшей метрики на валидации сохраняем веса:"
   ]
  },
  {
   "cell_type": "code",
   "execution_count": 210,
   "metadata": {},
   "outputs": [
    {
     "name": "stdout",
     "output_type": "stream",
     "text": [
      "\n",
      " Epoch1 / 20\n"
     ]
    },
    {
     "name": "stderr",
     "output_type": "stream",
     "text": [
      "  0%|          | 0/319 [00:00<?, ?it/s]"
     ]
    },
    {
     "name": "stderr",
     "output_type": "stream",
     "text": [
      "100%|██████████| 319/319 [00:29<00:00, 10.67it/s]\n",
      "100%|██████████| 16/16 [00:01<00:00, 11.16it/s]\n"
     ]
    },
    {
     "name": "stdout",
     "output_type": "stream",
     "text": [
      "\n",
      "Training loss: 0.247\n",
      "Validation loss: 0.198\n",
      "\n",
      " Epoch2 / 20\n"
     ]
    },
    {
     "name": "stderr",
     "output_type": "stream",
     "text": [
      "100%|██████████| 319/319 [00:30<00:00, 10.54it/s]\n",
      "100%|██████████| 16/16 [00:01<00:00, 11.04it/s]\n"
     ]
    },
    {
     "name": "stdout",
     "output_type": "stream",
     "text": [
      "\n",
      "Training loss: 0.195\n",
      "Validation loss: 0.198\n",
      "\n",
      " Epoch3 / 20\n"
     ]
    },
    {
     "name": "stderr",
     "output_type": "stream",
     "text": [
      "100%|██████████| 319/319 [00:30<00:00, 10.60it/s]\n",
      "100%|██████████| 16/16 [00:01<00:00, 11.03it/s]\n"
     ]
    },
    {
     "name": "stdout",
     "output_type": "stream",
     "text": [
      "\n",
      "Training loss: 0.189\n",
      "Validation loss: 0.189\n",
      "\n",
      " Epoch4 / 20\n"
     ]
    },
    {
     "name": "stderr",
     "output_type": "stream",
     "text": [
      "100%|██████████| 319/319 [00:30<00:00, 10.46it/s]\n",
      "100%|██████████| 16/16 [00:01<00:00, 10.96it/s]\n"
     ]
    },
    {
     "name": "stdout",
     "output_type": "stream",
     "text": [
      "\n",
      "Training loss: 0.179\n",
      "Validation loss: 0.184\n",
      "\n",
      " Epoch5 / 20\n"
     ]
    },
    {
     "name": "stderr",
     "output_type": "stream",
     "text": [
      "100%|██████████| 319/319 [00:30<00:00, 10.49it/s]\n",
      "100%|██████████| 16/16 [00:01<00:00, 10.91it/s]\n"
     ]
    },
    {
     "name": "stdout",
     "output_type": "stream",
     "text": [
      "\n",
      "Training loss: 0.178\n",
      "Validation loss: 0.175\n",
      "\n",
      " Epoch6 / 20\n"
     ]
    },
    {
     "name": "stderr",
     "output_type": "stream",
     "text": [
      "100%|██████████| 319/319 [00:30<00:00, 10.44it/s]\n",
      "100%|██████████| 16/16 [00:01<00:00, 10.98it/s]\n"
     ]
    },
    {
     "name": "stdout",
     "output_type": "stream",
     "text": [
      "\n",
      "Training loss: 0.170\n",
      "Validation loss: 0.222\n",
      "\n",
      " Epoch7 / 20\n"
     ]
    },
    {
     "name": "stderr",
     "output_type": "stream",
     "text": [
      "100%|██████████| 319/319 [00:30<00:00, 10.45it/s]\n",
      "100%|██████████| 16/16 [00:01<00:00, 10.77it/s]\n"
     ]
    },
    {
     "name": "stdout",
     "output_type": "stream",
     "text": [
      "\n",
      "Training loss: 0.176\n",
      "Validation loss: 0.183\n",
      "\n",
      " Epoch8 / 20\n"
     ]
    },
    {
     "name": "stderr",
     "output_type": "stream",
     "text": [
      "100%|██████████| 319/319 [00:30<00:00, 10.39it/s]\n",
      "100%|██████████| 16/16 [00:01<00:00, 10.84it/s]\n"
     ]
    },
    {
     "name": "stdout",
     "output_type": "stream",
     "text": [
      "\n",
      "Training loss: 0.169\n",
      "Validation loss: 0.180\n",
      "\n",
      " Epoch9 / 20\n"
     ]
    },
    {
     "name": "stderr",
     "output_type": "stream",
     "text": [
      "100%|██████████| 319/319 [00:30<00:00, 10.47it/s]\n",
      "100%|██████████| 16/16 [00:01<00:00, 10.74it/s]\n"
     ]
    },
    {
     "name": "stdout",
     "output_type": "stream",
     "text": [
      "\n",
      "Training loss: 0.164\n",
      "Validation loss: 0.161\n",
      "\n",
      " Epoch10 / 20\n"
     ]
    },
    {
     "name": "stderr",
     "output_type": "stream",
     "text": [
      "100%|██████████| 319/319 [00:31<00:00, 10.16it/s]\n",
      "100%|██████████| 16/16 [00:01<00:00, 10.85it/s]\n"
     ]
    },
    {
     "name": "stdout",
     "output_type": "stream",
     "text": [
      "\n",
      "Training loss: 0.153\n",
      "Validation loss: 0.168\n",
      "\n",
      " Epoch11 / 20\n"
     ]
    },
    {
     "name": "stderr",
     "output_type": "stream",
     "text": [
      "100%|██████████| 319/319 [00:30<00:00, 10.39it/s]\n",
      "100%|██████████| 16/16 [00:01<00:00, 10.89it/s]\n"
     ]
    },
    {
     "name": "stdout",
     "output_type": "stream",
     "text": [
      "\n",
      "Training loss: 0.150\n",
      "Validation loss: 0.167\n",
      "\n",
      " Epoch12 / 20\n"
     ]
    },
    {
     "name": "stderr",
     "output_type": "stream",
     "text": [
      "100%|██████████| 319/319 [00:30<00:00, 10.40it/s]\n",
      "100%|██████████| 16/16 [00:01<00:00, 10.86it/s]\n"
     ]
    },
    {
     "name": "stdout",
     "output_type": "stream",
     "text": [
      "\n",
      "Training loss: 0.147\n",
      "Validation loss: 0.201\n",
      "\n",
      " Epoch13 / 20\n"
     ]
    },
    {
     "name": "stderr",
     "output_type": "stream",
     "text": [
      "100%|██████████| 319/319 [00:30<00:00, 10.41it/s]\n",
      "100%|██████████| 16/16 [00:01<00:00, 10.63it/s]\n"
     ]
    },
    {
     "name": "stdout",
     "output_type": "stream",
     "text": [
      "\n",
      "Training loss: 0.160\n",
      "Validation loss: 0.159\n",
      "\n",
      " Epoch14 / 20\n"
     ]
    },
    {
     "name": "stderr",
     "output_type": "stream",
     "text": [
      "100%|██████████| 319/319 [00:30<00:00, 10.30it/s]\n",
      "100%|██████████| 16/16 [00:01<00:00, 10.79it/s]\n"
     ]
    },
    {
     "name": "stdout",
     "output_type": "stream",
     "text": [
      "\n",
      "Training loss: 0.147\n",
      "Validation loss: 0.176\n",
      "\n",
      " Epoch15 / 20\n"
     ]
    },
    {
     "name": "stderr",
     "output_type": "stream",
     "text": [
      "100%|██████████| 319/319 [00:30<00:00, 10.45it/s]\n",
      "100%|██████████| 16/16 [00:01<00:00, 10.85it/s]\n"
     ]
    },
    {
     "name": "stdout",
     "output_type": "stream",
     "text": [
      "\n",
      "Training loss: 0.149\n",
      "Validation loss: 0.216\n",
      "\n",
      " Epoch16 / 20\n"
     ]
    },
    {
     "name": "stderr",
     "output_type": "stream",
     "text": [
      "100%|██████████| 319/319 [00:30<00:00, 10.40it/s]\n",
      "100%|██████████| 16/16 [00:01<00:00, 10.64it/s]\n"
     ]
    },
    {
     "name": "stdout",
     "output_type": "stream",
     "text": [
      "\n",
      "Training loss: 0.145\n",
      "Validation loss: 0.187\n",
      "\n",
      " Epoch17 / 20\n"
     ]
    },
    {
     "name": "stderr",
     "output_type": "stream",
     "text": [
      "100%|██████████| 319/319 [00:30<00:00, 10.38it/s]\n",
      "100%|██████████| 16/16 [00:01<00:00, 10.86it/s]\n"
     ]
    },
    {
     "name": "stdout",
     "output_type": "stream",
     "text": [
      "\n",
      "Training loss: 0.142\n",
      "Validation loss: 0.182\n",
      "\n",
      " Epoch18 / 20\n"
     ]
    },
    {
     "name": "stderr",
     "output_type": "stream",
     "text": [
      "100%|██████████| 319/319 [00:30<00:00, 10.41it/s]\n",
      "100%|██████████| 16/16 [00:01<00:00, 10.89it/s]\n"
     ]
    },
    {
     "name": "stdout",
     "output_type": "stream",
     "text": [
      "\n",
      "Training loss: 0.146\n",
      "Validation loss: 0.172\n",
      "\n",
      " Epoch19 / 20\n"
     ]
    },
    {
     "name": "stderr",
     "output_type": "stream",
     "text": [
      "100%|██████████| 319/319 [00:30<00:00, 10.39it/s]\n",
      "100%|██████████| 16/16 [00:01<00:00, 10.47it/s]\n"
     ]
    },
    {
     "name": "stdout",
     "output_type": "stream",
     "text": [
      "\n",
      "Training loss: 0.145\n",
      "Validation loss: 0.184\n",
      "\n",
      " Epoch20 / 20\n"
     ]
    },
    {
     "name": "stderr",
     "output_type": "stream",
     "text": [
      "100%|██████████| 319/319 [00:30<00:00, 10.40it/s]\n",
      "100%|██████████| 16/16 [00:01<00:00, 10.85it/s]"
     ]
    },
    {
     "name": "stdout",
     "output_type": "stream",
     "text": [
      "\n",
      "Training loss: 0.140\n",
      "Validation loss: 0.210\n"
     ]
    },
    {
     "name": "stderr",
     "output_type": "stream",
     "text": [
      "\n"
     ]
    }
   ],
   "source": [
    "best_valid_loss = float('inf')\n",
    "train_losses = []\n",
    "valid_losses = []\n",
    "for epoch in range(epochs):\n",
    "    print('\\n Epoch{:} / {:}'.format(epoch+1, epochs))\n",
    "    train_loss, _ = train()\n",
    "    valid_loss = evaluate()\n",
    "    if valid_loss is not None:  # Проверка на None\n",
    "        if valid_loss < best_valid_loss:\n",
    "            best_valid_loss = valid_loss\n",
    "            torch.save(model.state_dict(), 'saved_weights.pt')\n",
    "        train_losses.append(train_loss)\n",
    "        valid_losses.append(valid_loss)\n",
    "        print(f'\\nTraining loss: {train_loss:.3f}')\n",
    "        print(f'Validation loss: {valid_loss:.3f}')\n",
    "    else:\n",
    "        print(\"Evaluation did not return a valid loss value.\")"
   ]
  },
  {
   "cell_type": "markdown",
   "metadata": {},
   "source": [
    "---------------------------------------\n",
    "обучили модель и сохранили ее результат.\\\n",
    "проверим на тестовой выборке и использование на боевых данных.\n",
    "\n",
    "# Загрузим лучшие веса для модели:"
   ]
  },
  {
   "cell_type": "code",
   "execution_count": 211,
   "metadata": {},
   "outputs": [
    {
     "data": {
      "text/plain": [
       "<All keys matched successfully>"
      ]
     },
     "execution_count": 211,
     "metadata": {},
     "output_type": "execute_result"
    }
   ],
   "source": [
    "path = 'saved_weights.pt'\n",
    "model.load_state_dict(torch.load(path))"
   ]
  },
  {
   "cell_type": "markdown",
   "metadata": {},
   "source": [
    "Видеопамяти не хватает для хранения всего что в нее передано, поэтому используем костыль.\\\n",
    "Разобиваю тестовые данные на части и буду отправлять на предсказание по частям"
   ]
  },
  {
   "cell_type": "code",
   "execution_count": 212,
   "metadata": {},
   "outputs": [],
   "source": [
    "list_seq = np.array_split(test_seq, 50)\n",
    "list_mask = np.array_split(test_mask, 50)\n",
    "\n",
    "\n",
    "predictions = []\n",
    "for num, elem in enumerate(list_seq):\n",
    "    with torch.no_grad():\n",
    "        preds = model(elem.to(device), list_mask[num].to(device))\n",
    "        predictions.append(preds.detach().cpu().numpy())"
   ]
  },
  {
   "cell_type": "markdown",
   "metadata": {},
   "source": [
    "Преобразую полученные предсказания в один список, нормализую данные и запишу в новый столбик датафрейма."
   ]
  },
  {
   "cell_type": "code",
   "execution_count": 213,
   "metadata": {},
   "outputs": [],
   "source": [
    "flat_preds = [item[1] for sublist in predictions for item in sublist]\n",
    "flat_preds = (flat_preds - min(flat_preds)) / (max(flat_preds) - min(flat_preds))\n",
    "test_df['confidence'] = flat_preds"
   ]
  },
  {
   "cell_type": "markdown",
   "metadata": {},
   "source": [
    "На выходе получили значение с плавающей точкой от 0 до 1.\\\n",
    " Теперь меняя порог, сможем предсказать финальный класс:"
   ]
  },
  {
   "cell_type": "code",
   "execution_count": 225,
   "metadata": {},
   "outputs": [
    {
     "name": "stdout",
     "output_type": "stream",
     "text": [
      "              precision    recall  f1-score   support\n",
      "\n",
      "           0       0.99      0.84      0.91       471\n",
      "           1       0.30      0.84      0.44        38\n",
      "\n",
      "    accuracy                           0.84       509\n",
      "   macro avg       0.64      0.84      0.67       509\n",
      "weighted avg       0.93      0.84      0.87       509\n",
      "\n",
      "ROC-AUC: 0.9108838976421947\n",
      "Confusion Matrix:\n",
      "[[395  76]\n",
      " [  6  32]]\n"
     ]
    }
   ],
   "source": [
    "#развернуть трешхолд\n",
    "threshold = 0.75\n",
    "\n",
    "test_df['pred'] = test_df['confidence'].apply(lambda x: 1 if x > threshold else 0)\n",
    "\n",
    "print(classification_report(test_df['label'], test_df['pred']))\n",
    "\n",
    "roc_auc = roc_auc_score(test_df['label'], test_df['confidence'])\n",
    "print(f\"ROC-AUC: {roc_auc}\")\n",
    "\n",
    "conf_matrix = confusion_matrix(test_df['label'], test_df['pred'])\n",
    "print(\"Confusion Matrix:\")\n",
    "print(conf_matrix)"
   ]
  }
 ],
 "metadata": {
  "kernelspec": {
   "display_name": "Python 3",
   "language": "python",
   "name": "python3"
  },
  "language_info": {
   "codemirror_mode": {
    "name": "ipython",
    "version": 3
   },
   "file_extension": ".py",
   "mimetype": "text/x-python",
   "name": "python",
   "nbconvert_exporter": "python",
   "pygments_lexer": "ipython3",
   "version": "3.10.0"
  }
 },
 "nbformat": 4,
 "nbformat_minor": 2
}
