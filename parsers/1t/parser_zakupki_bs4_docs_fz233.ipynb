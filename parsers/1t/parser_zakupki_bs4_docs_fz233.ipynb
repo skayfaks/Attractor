{
 "cells": [
  {
   "cell_type": "code",
   "execution_count": 1,
   "metadata": {},
   "outputs": [],
   "source": [
    "import requests\n",
    "import pandas as pd\n",
    "from bs4 import BeautifulSoup\n",
    "import re\n",
    "import time\n",
    "import os\n",
    "\n"
   ]
  },
  {
   "cell_type": "markdown",
   "metadata": {},
   "source": [
    "Парсинг списка закупок"
   ]
  },
  {
   "cell_type": "code",
   "execution_count": 2,
   "metadata": {},
   "outputs": [],
   "source": [
    "headers = {\n",
    "        'User-Agent': 'Mozilla/5.0 (Windows NT 10.0; Win64; x64) AppleWebKit/537.36 (KHTML, like Gecko) Chrome/118.0.0.0 YaBrowser/23.11.0.0 Safari/537.36'\n",
    "      }"
   ]
  },
  {
   "cell_type": "code",
   "execution_count": 4,
   "metadata": {},
   "outputs": [],
   "source": [
    "reg_number = '32413297070'\n",
    "params = {'regNumber' : f'{reg_number}'}\n",
    "path_in_file = 'data/' + reg_number + '/docs'\n",
    "if not os.path.exists(path_in_file):\n",
    "    os.makedirs(path_in_file)"
   ]
  },
  {
   "cell_type": "code",
   "execution_count": 11,
   "metadata": {},
   "outputs": [],
   "source": [
    "url = 'https://zakupki.gov.ru/epz/order/notice/notice223/documents.html?noticeInfoId=16397455'\n",
    "r = requests.get(url, headers = headers, timeout = 10)\n",
    "soup = BeautifulSoup(r.content, 'html.parser')    \n",
    "list_ = soup.find_all('span', {'class': 'count'})\n",
    "for i in list_:\n",
    "    url_temp = i.find_all('a')[1].get('href')\n",
    "    url_doc = f'https://zakupki.gov.ru{url_temp}'\n",
    "    filename = i.find_all('a')[1].text.strip()\n",
    "    res = requests.get(url_doc, headers = headers, timeout = 30)\n",
    "    filetype_temp  = res.headers[\"Content-Disposition\"].split(\";\")[1].split(\"=\")[1].strip('\"').split(\".\")\n",
    "    filetype = filetype_temp[len(filetype_temp) - 1]\n",
    "    with open(f'{path_in_file}/{filename}.{filetype}', 'wb') as f:\n",
    "        f.write(res.content)"
   ]
  },
  {
   "cell_type": "markdown",
   "metadata": {},
   "source": []
  }
 ],
 "metadata": {
  "kernelspec": {
   "display_name": "Python 3",
   "language": "python",
   "name": "python3"
  },
  "language_info": {
   "codemirror_mode": {
    "name": "ipython",
    "version": 3
   },
   "file_extension": ".py",
   "mimetype": "text/x-python",
   "name": "python",
   "nbconvert_exporter": "python",
   "pygments_lexer": "ipython3",
   "version": "3.11.3"
  }
 },
 "nbformat": 4,
 "nbformat_minor": 2
}
