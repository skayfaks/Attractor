{
 "cells": [
  {
   "cell_type": "code",
   "execution_count": null,
   "id": "6d461701-1216-443b-ad7f-117467225b89",
   "metadata": {
    "tags": []
   },
   "outputs": [],
   "source": [
    "import requests\n",
    "from fake_useragent import UserAgent\n",
    "from bs4 import BeautifulSoup\n",
    "import lxml\n",
    "\n",
    "import time\n",
    "from selenium import webdriver\n",
    "from selenium.webdriver.common.by import By\n",
    "\n",
    "import pandas as pd\n",
    "\n",
    "browser = webdriver.Safari()\n",
    "browser.set_window_position(0, -1000)\n",
    "browser.get('https://trudvsem.ru/vacancy/search')\n",
    "time.sleep(10)\n",
    "browser.quit()"
   ]
  },
  {
   "cell_type": "markdown",
   "id": "4c9d6305-9b73-427f-9867-859167eb45c4",
   "metadata": {},
   "source": [
    "**ISSUES:**\n",
    "\n",
    "- Не учтена логика сброса фильтров\n",
    "- Изменить логику программы по скроллингу и клику на каждую вакансию"
   ]
  },
  {
   "cell_type": "code",
   "execution_count": null,
   "id": "7c01bbfc-9844-435e-97e8-5ee51bbb8ebb",
   "metadata": {
    "tags": []
   },
   "outputs": [],
   "source": [
    "df = pd.DataFrame(columns=[\n",
    "    'название',\n",
    "    'компания',\n",
    "    'регион',\n",
    "    'зп',\n",
    "    'дата обновы',\n",
    "    'ссылка'\n",
    "])"
   ]
  },
  {
   "cell_type": "code",
   "execution_count": null,
   "id": "c14da2a0-0eb4-4686-a5fe-cccb8fec6edc",
   "metadata": {
    "tags": []
   },
   "outputs": [],
   "source": [
    "with webdriver.Chrome() as browser:\n",
    "    \n",
    "    # заход на сайт\n",
    "    browser.get('https://trudvsem.ru/vacancy/search')\n",
    "    browser.maximize_window()\n",
    "    browser.delete_all_cookies()\n",
    "    time.sleep(2)\n",
    "    \n",
    "    # убрать фильтры \n",
    "    browser.find_element(By.XPATH, '/html/body/header/div[2]/div/div[2]/div/button[1]').click()\n",
    "    \n",
    "    # ищем поле ввода и вводим текст\n",
    "    inp = browser.find_element(By.XPATH, '/html/body/header/div[1]/div[1]/label[1]/input')\n",
    "    inp.send_keys('системный аналитик')\n",
    "    time.sleep(1)\n",
    "    \n",
    "    # # убираем фильтры из серч панели\n",
    "    # search_panel = browser.find_element(By.XPATH, '/html/body/header/div[2]/div')\n",
    "    # buttons = search_panel.find_elements(By.CLASS_NAME, 'search-panel__item')\n",
    "    # for button in buttons:\n",
    "    #     button = button.find_element(By.TAG_NAME, 'button')\n",
    "    #     button.click()\n",
    "    \n",
    "    # ищем кнопку \"найти\" и жмем ёё\n",
    "    browser.find_element(By.XPATH, '/html/body/header/div[1]/div[1]/button').click()\n",
    "    time.sleep(1)\n",
    "    \n",
    "    button = browser.find_element(By.XPATH, '/html/body/main/div[2]/div[5]/div/div[1]/div[3]/div[11]/button')\n",
    "    # скроллинг до конца\n",
    "    try: \n",
    "        while True:\n",
    "            browser.execute_script(\"return arguments[0].scrollIntoView(true);\", button)\n",
    "            time.sleep(1)\n",
    "            button.click()\n",
    "            time.sleep(1)\n",
    "    except:\n",
    "        pass\n",
    "    \n",
    "    header = browser.find_element(By.TAG_NAME, 'h1')\n",
    "    browser.execute_script(\"return arguments[0].scrollIntoView(true);\", header)\n",
    "    \n",
    "    # посчитать количество вакансий на странице\n",
    "    vac_block_bar = browser.find_element(By.CLASS_NAME, 'main__search-sidebar')\n",
    "    vac_block = vac_block_bar.find_elements(By.TAG_NAME, 'div')\n",
    "    vac_block = [div for div in vac_block if 'search-results-simple-card mb-1' in str(div.get_attribute('class'))]\n",
    "    print('Количество вакансий:', len(vac_block))\n",
    "    print('Парсим вакансии:\\n')\n",
    "    \n",
    "    # вывести информацию о вакансии\n",
    "    for vac in vac_block:\n",
    "        vac_info = {}\n",
    "        vac_info['название'] = vac.find_element(By.TAG_NAME, 'strong').text\n",
    "        titles = vac.find_elements(By.CLASS_NAME, r'content_small')\n",
    "        vac_info['компания'] = titles[0].text\n",
    "        vac_info['регион'] = titles[1].text\n",
    "        vac_info['зп'] = vac.find_element(By.CLASS_NAME, r'search-results-simple-card__salary').text\n",
    "        vac_info['дата обновы'] = vac.find_element(By.CLASS_NAME, r'date__preview').text.strip('Обновлено: ')\n",
    "        vac_info['ссылка'] = vac.find_element(By.TAG_NAME, 'a').get_attribute('href')\n",
    "        df.loc[len(df)] = vac_info"
   ]
  },
  {
   "cell_type": "code",
   "execution_count": null,
   "id": "ae1b6565-dfc3-4900-974e-4c88c171b5a5",
   "metadata": {
    "tags": []
   },
   "outputs": [],
   "source": [
    "df.iloc[0, -1]"
   ]
  },
  {
   "cell_type": "code",
   "execution_count": null,
   "id": "1ec3698a-1271-4beb-88c5-67eb6d4c7537",
   "metadata": {
    "tags": []
   },
   "outputs": [],
   "source": [
    "ua = UserAgent().chrome\n",
    "headers = {'User-Agent': ua}\n",
    "\n",
    "r = requests.get(df.iloc[1, -1], timeout=5, headers=headers, allow_redirects=True)\n",
    "\n",
    "soup = BeautifulSoup(r.content, 'lxml')"
   ]
  },
  {
   "cell_type": "code",
   "execution_count": null,
   "id": "e10292d7-8bd7-4f07-a0c8-c54ee3eca1bd",
   "metadata": {
    "tags": []
   },
   "outputs": [],
   "source": [
    "df.head()"
   ]
  },
  {
   "cell_type": "code",
   "execution_count": null,
   "id": "10eb078d-d5e7-491f-bc8c-2048e8a3e1d4",
   "metadata": {},
   "outputs": [],
   "source": []
  },
  {
   "cell_type": "code",
   "execution_count": null,
   "id": "ccbd324e-8854-4c42-929f-2ed4e9d2d3f6",
   "metadata": {
    "tags": []
   },
   "outputs": [],
   "source": [
    "with webdriver.Chrome() as browser:\n",
    "    \n",
    "    # заход на сайт\n",
    "    browser.get('https://trudvsem.ru/vacancy/search')\n",
    "    browser.maximize_window()\n",
    "    browser.delete_all_cookies()\n",
    "    time.sleep(2)\n",
    "    \n",
    "    # убрать фильтры \n",
    "    browser.find_element(By.XPATH, '/html/body/header/div[2]/div/div[2]/div/button[1]').click()\n",
    "    \n",
    "    # ищем поле ввода и вводим текст\n",
    "    inp = browser.find_element(By.XPATH, '/html/body/header/div[1]/div[1]/label[1]/input')\n",
    "    inp.send_keys('data scientist')\n",
    "    time.sleep(1)\n",
    "    \n",
    "    # # убираем фильтры из серч панели\n",
    "    # search_panel = browser.find_element(By.XPATH, '/html/body/header/div[2]/div')\n",
    "    # buttons = search_panel.find_elements(By.CLASS_NAME, 'search-panel__item')\n",
    "    # for button in buttons:\n",
    "    #     button = button.find_element(By.TAG_NAME, 'button')\n",
    "    #     button.click()\n",
    "    \n",
    "    # ищем кнопку \"найти\" и жмем ёё\n",
    "    browser.find_element(By.XPATH, '/html/body/header/div[1]/div[1]/button').click()\n",
    "    time.sleep(1)\n",
    "    \n",
    "    \n",
    "    # скроллинг до конца\n",
    "    try: \n",
    "        button = browser.find_element(By.XPATH, '/html/body/main/div[2]/div[5]/div/div[1]/div[3]/div[11]/button')\n",
    "        while True:\n",
    "            browser.execute_script(\"return arguments[0].scrollIntoView(true);\", button)\n",
    "            time.sleep(1)\n",
    "            button.click()\n",
    "            time.sleep(1)\n",
    "    except:\n",
    "        pass\n",
    "    \n",
    "    header = browser.find_element(By.TAG_NAME, 'h1')\n",
    "    browser.execute_script(\"return arguments[0].scrollIntoView(true);\", header)\n",
    "    \n",
    "    # посчитать количество вакансий на странице\n",
    "    vac_block_bar = browser.find_element(By.CLASS_NAME, 'main__search-sidebar')\n",
    "    vac_block = vac_block_bar.find_elements(By.TAG_NAME, 'div')\n",
    "    vac_block = [div for div in vac_block if 'search-results-simple-card mb-1' in str(div.get_attribute('class'))]\n",
    "    print('Количество вакансий:', len(vac_block))\n",
    "    print('Парсим вакансии:\\n')\n",
    "    \n",
    "    # вывести информацию о вакансии\n",
    "    for vac in vac_block:\n",
    "        vac_info = {}\n",
    "        vac_info['название'] = vac.find_element(By.TAG_NAME, 'strong').text\n",
    "        titles = vac.find_elements(By.CLASS_NAME, r'content_small')\n",
    "        vac_info['компания'] = titles[0].text\n",
    "        vac_info['регион'] = titles[1].text\n",
    "        vac_info['зп'] = vac.find_element(By.CLASS_NAME, r'search-results-simple-card__salary').text\n",
    "        vac_info['дата обновы'] = vac.find_element(By.CLASS_NAME, r'date__preview').text.strip('Обновлено: ')\n",
    "        vac_info['ссылка'] = vac.find_element(By.TAG_NAME, 'a').get_attribute('href')\n",
    "        df.loc[len(df)] = vac_info"
   ]
  },
  {
   "cell_type": "code",
   "execution_count": null,
   "id": "0cd19d51-cfae-41c6-b84a-a8f5d3b87244",
   "metadata": {
    "tags": []
   },
   "outputs": [],
   "source": [
    "df.tail()"
   ]
  },
  {
   "cell_type": "code",
   "execution_count": null,
   "id": "38178923-6895-431b-a460-fe520163ad00",
   "metadata": {},
   "outputs": [],
   "source": []
  }
 ],
 "metadata": {
  "kernelspec": {
   "display_name": "Python 3 (ipykernel)",
   "language": "python",
   "name": "python3"
  },
  "language_info": {
   "codemirror_mode": {
    "name": "ipython",
    "version": 3
   },
   "file_extension": ".py",
   "mimetype": "text/x-python",
   "name": "python",
   "nbconvert_exporter": "python",
   "pygments_lexer": "ipython3",
   "version": "3.10.11"
  }
 },
 "nbformat": 4,
 "nbformat_minor": 5
}
