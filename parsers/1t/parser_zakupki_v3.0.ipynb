{
 "cells": [
  {
   "cell_type": "code",
   "execution_count": 12,
   "metadata": {},
   "outputs": [
    {
     "name": "stdout",
     "output_type": "stream",
     "text": [
      "Requirement already satisfied: bs4 in c:\\users\\user\\appdata\\local\\programs\\python\\python311\\lib\\site-packages (0.0.2)\n",
      "Requirement already satisfied: beautifulsoup4 in c:\\users\\user\\appdata\\local\\programs\\python\\python311\\lib\\site-packages (from bs4) (4.12.3)\n",
      "Requirement already satisfied: soupsieve>1.2 in c:\\users\\user\\appdata\\local\\programs\\python\\python311\\lib\\site-packages (from beautifulsoup4->bs4) (2.5)\n"
     ]
    },
    {
     "name": "stderr",
     "output_type": "stream",
     "text": [
      "\n",
      "[notice] A new release of pip is available: 23.2.1 -> 23.3.2\n",
      "[notice] To update, run: python.exe -m pip install --upgrade pip\n"
     ]
    }
   ],
   "source": [
    "!pip install bs4"
   ]
  },
  {
   "cell_type": "code",
   "execution_count": 13,
   "metadata": {},
   "outputs": [],
   "source": [
    "import requests\n",
    "import pandas as pd\n",
    "from bs4 import BeautifulSoup\n",
    "import re\n",
    "\n"
   ]
  },
  {
   "cell_type": "code",
   "execution_count": 59,
   "metadata": {},
   "outputs": [
    {
     "name": "stdout",
     "output_type": "stream",
     "text": [
      "0\n",
      "1\n",
      "2\n",
      "3\n",
      "4\n",
      "5\n",
      "6\n",
      "7\n",
      "8\n",
      "9\n"
     ]
    }
   ],
   "source": [
    "\n",
    "for i in range(10):\n",
    "    print(i)\n",
    "    params = {\n",
    "        'searchString' : '',\n",
    "        'morphology' : 'on', \n",
    "        'search-filter' : 'Дате размещения',\n",
    "        'pageNumber' : '1',\n",
    "        'sortDirection' : 'false',\n",
    "        'recordsPerPage' : '_50',\n",
    "        'showLotsInfoHidden' : 'false',\n",
    "        'sortBy' : 'UPDATE_DATE',\n",
    "        'fz44' : 'on',\n",
    "        'fz223' : 'on',\n",
    "        'af' : 'on', \n",
    "        'ca' : 'on',\n",
    "        'pc' : 'on',\n",
    "        'currencyIdGeneral' : '-1',\n",
    "        'publishDateFrom' : '01.01.2024',\n",
    "        'publishDateTo' : '31.01.2024',\n",
    "        'okpd2IdsWithNested': 'on',\n",
    "        'okpd2Ids' : '8873937,8873938',\n",
    "        'okpd2IdsCodes': '62,63',\n",
    "        'gws' : 'Выберите тип закупки',\n",
    "        'OrderPlacementSmallBusinessSubject' : 'on',\n",
    "        'OrderPlacementRnpData' : 'on',\n",
    "        'OrderPlacementExecutionRequirement' : 'on',\n",
    "        'orderPlacement94_0' : '0',\n",
    "        'orderPlacement94_1' : '0',\n",
    "        'orderPlacement94_2' : '0',\n",
    "        'searchTextInAttachedFile' : 'python',\n",
    "        'from' : f'{str(500*i + 1)}',\n",
    "        'to' : f'{str(500 + 500*i)}',\n",
    "        'placementCsv' : 'true',\n",
    "        'registryNumberCsv' : 'true',\n",
    "        'stepOrderPlacementCsv' : 'true',\n",
    "        'methodOrderPurchaseCsv' : 'true',\n",
    "        'nameOrderCsv' : 'true',\n",
    "        'purchaseNumbersCsv' : 'true',\n",
    "        'numberLotCsv' : 'true',\n",
    "        'nameLotCsv' : 'true',\n",
    "        'maxContractPriceCsv' : 'true',\n",
    "        'currencyCodeCsv' : 'true',\n",
    "        'maxPriceContractCurrencyCsv' : 'true',\n",
    "        'currencyCodeContractCurrencyCsv' : 'true',\n",
    "        'scopeOkdpCsv' : 'true',\n",
    "        'scopeOkpdCsv' : 'true',\n",
    "        'scopeOkpd2Csv' : 'true',\n",
    "        'scopeKtruCsv' : 'true',\n",
    "        'ea615ItemCsv' : 'true',\n",
    "        'customerNameCsv' : 'true',\n",
    "        'organizationOrderPlacementCsv' : 'true',\n",
    "        'publishDateCsv' : 'true',\n",
    "        'lastDateChangeCsv' : 'true',\n",
    "        'startDateRequestCsv' : 'true',\n",
    "        'endDateRequestCsv' : 'true',\n",
    "        'ea615DateCsv' : 'true',\n",
    "        'featureOrderPlacementCsv' : 'true'\n",
    "        }\n",
    "    headers = {\n",
    "        'User-Agent': 'Mozilla/5.0 (Windows NT 10.0; Win64; x64) AppleWebKit/537.36 (KHTML, like Gecko) Chrome/118.0.0.0 YaBrowser/23.11.0.0 Safari/537.36'\n",
    "      }\n",
    "    url = 'https://zakupki.gov.ru/epz/order/orderCsvSettings/download.html?'\n",
    "    r = requests.get(url, headers = headers, params = params, timeout = 30)\n",
    "\n",
    "    f = open(f'order{str(i + 1)}.csv', 'w')\n",
    "    f.write(r.text)\n",
    "    f.close()"
   ]
  },
  {
   "cell_type": "code",
   "execution_count": 40,
   "metadata": {},
   "outputs": [],
   "source": [
    "df = pd.read_csv('order1.csv', sep =';', encoding='cp1251')"
   ]
  }
 ],
 "metadata": {
  "kernelspec": {
   "display_name": "Python 3",
   "language": "python",
   "name": "python3"
  },
  "language_info": {
   "codemirror_mode": {
    "name": "ipython",
    "version": 3
   },
   "file_extension": ".py",
   "mimetype": "text/x-python",
   "name": "python",
   "nbconvert_exporter": "python",
   "pygments_lexer": "ipython3",
   "version": "3.11.5"
  }
 },
 "nbformat": 4,
 "nbformat_minor": 2
}
