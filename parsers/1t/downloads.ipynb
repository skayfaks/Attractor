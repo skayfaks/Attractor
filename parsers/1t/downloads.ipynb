{
 "cells": [
  {
   "cell_type": "code",
   "execution_count": 1,
   "id": "d8b30f08-65ee-4605-83b3-023662eacb6f",
   "metadata": {},
   "outputs": [],
   "source": [
    "import requests\n",
    "import fake_useragent\n",
    "import pandas as pd\n",
    "from bs4 import BeautifulSoup\n",
    "import time\n",
    "import random"
   ]
  },
  {
   "cell_type": "code",
   "execution_count": 4,
   "id": "58bb2284-5cd0-47a1-99e0-b8a6f01411f3",
   "metadata": {},
   "outputs": [],
   "source": [
    "ua = fake_useragent.UserAgent()\n",
    "\n",
    "headers = {\n",
    "    'Accept-Encoding':'gzip, deflate, br, zstd'\n",
    "    ,'Accept-Language':'ru-RU,ru;q=0.9,en-US;q=0.8,en;q=0.7'\n",
    "    ,'user-agent': ua.random\n",
    "}"
   ]
  },
  {
   "cell_type": "code",
   "execution_count": 5,
   "id": "9e64a40c-53f6-4a88-9ccb-065907bf7b96",
   "metadata": {},
   "outputs": [],
   "source": [
    "url_doc = 'https://business.roseltorg.ru/api/v1/documents/fed34ba4-d180-11ee-a032-f32358d33b0f'\n",
    "query_parameters = {\"downloadformat\": \"docx\"}"
   ]
  },
  {
   "cell_type": "code",
   "execution_count": 6,
   "id": "ea10d8ba-5d86-4792-a15c-89798f3f795a",
   "metadata": {},
   "outputs": [],
   "source": [
    "def get_doc(url):\n",
    "    doc = requests.get(url_doc,headers = headers, stream=True)  \n",
    "    if doc.status_code != 200:\n",
    "        print(doc.status_code)\n",
    "    else:\n",
    "        print(\"OK\")\n",
    "        with open('doc1.docx', 'wb') as f:\n",
    "            for chunk in doc.iter_content(1024 * 1024 * 2):  # 2 MB chunks\n",
    "                f.write(chunk)\n",
    "    f.close()\n"
   ]
  },
  {
   "cell_type": "code",
   "execution_count": 7,
   "id": "44dda478-0fd2-48e2-8ebd-94b25874993d",
   "metadata": {},
   "outputs": [
    {
     "name": "stdout",
     "output_type": "stream",
     "text": [
      "OK\n"
     ]
    }
   ],
   "source": [
    "get_doc(url_doc)"
   ]
  },
  {
   "cell_type": "code",
   "execution_count": null,
   "id": "5762ec47-7c70-4cad-896b-bf8886bf43ae",
   "metadata": {},
   "outputs": [],
   "source": []
  }
 ],
 "metadata": {
  "kernelspec": {
   "display_name": "Python 3 (ipykernel)",
   "language": "python",
   "name": "python3"
  },
  "language_info": {
   "codemirror_mode": {
    "name": "ipython",
    "version": 3
   },
   "file_extension": ".py",
   "mimetype": "text/x-python",
   "name": "python",
   "nbconvert_exporter": "python",
   "pygments_lexer": "ipython3",
   "version": "3.11.8"
  }
 },
 "nbformat": 4,
 "nbformat_minor": 5
}
