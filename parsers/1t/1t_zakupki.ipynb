{
 "cells": [
  {
   "cell_type": "code",
   "execution_count": null,
   "id": "5d05ba25-111d-42dc-9959-95f24b408afb",
   "metadata": {
    "tags": []
   },
   "outputs": [],
   "source": [
    "import time\n",
    "\n",
    "from selenium import webdriver\n",
    "from selenium.webdriver.common.by import By\n",
    "from selenium.webdriver import Keys\n",
    "import requests\n",
    "from bs4 import BeautifulSoup\n",
    "\n",
    "from tqdm import tqdm"
   ]
  },
  {
   "cell_type": "code",
   "execution_count": null,
   "id": "be672cb1-14ca-47ef-a5e7-234af780109a",
   "metadata": {
    "tags": []
   },
   "outputs": [],
   "source": [
    "url = \"\"\"\n",
    "https://zakupki.gov.ru/epz/order/extendedsearch/results.html?morphology=on&\n",
    "search-filter=%D0%94%D0%B0%D1%82%D0%B5+%D1%80%D0%B0%D0%B7%D0%BC%D0%B5%D1%89%D0%B5%D0%BD%D0%B8%D1%8F&\n",
    "pageNumber=1&sortDirection=false&recordsPerPage=_50&showLotsInfoHidden=false&sortBy=UPDATE_DATE&fz44=on&fz223=on&af=on&ca=on&pc=on&pa=on&\n",
    "currencyIdGeneral=-1&okpd2IdsWithNested=on&okpd2Ids=8873937%2C8873938&\n",
    "okpd2IdsCodes=62%2C63&gws=%D0%92%D1%8B%D0%B1%D0%B5%D1%80%D0%B8%D1%82%D0%B5+%D1%82%D0%B8%D0%BF+%D0%B7%D0%B0%D0%BA%D1%83%D0%BF%D0%BA%D0%B8&\n",
    "OrderPlacementSmallBusinessSubject=on&OrderPlacementRnpData=on&OrderPlacementExecutionRequirement=on&orderPlacement94_0=0&orderPlacement94_1=0&orderPlacement94_2=0\n",
    "\"\"\"\n",
    "\n",
    "# инициализация браузера с автоматическим закрытием\n",
    "with webdriver.Safari() as browser:\n",
    "    # переместить окно\n",
    "    # browser.set_window_position(0, -1000)\n",
    "    # раскрыть на весь экран\n",
    "    browser.maximize_window()\n",
    "    \n",
    "    # открыть сайт\n",
    "    browser.get(url)\n",
    "    time.sleep(2)\n",
    "\n",
    "    data = []\n",
    "    \n",
    "    # находим элемент с блоком заказов\n",
    "    el_block = browser.find_element(By.CLASS_NAME, 'search-registry-entrys-block')\n",
    "    \n",
    "    # находим в этом блоке все заказы\n",
    "    all_zak = el_block.find_elements(By.CLASS_NAME, 'search-registry-entry-block')\n",
    "    \n",
    "    # циклимся по списку для парсинга элементов\n",
    "    for zak in tqdm(all_zak):\n",
    "        element = {}\n",
    "        \n",
    "        # ищем элементы\n",
    "        num = zak.find_element(By.CLASS_NAME, 'registry-entry__header-mid__number')\n",
    "        num = num.find_element(By.TAG_NAME, 'a')\n",
    "        order_url = num.get_attribute('href')\n",
    "        obj_zak = zak.find_element(By.CLASS_NAME, 'registry-entry__body-value').text\n",
    "        price = zak.find_element(By.CLASS_NAME, 'price-block__value').text\n",
    "        customer = zak.find_element(By.CLASS_NAME, 'registry-entry__body-href')\n",
    "        customer_name = customer.text\n",
    "        customer_url = customer.find_element(By.TAG_NAME, 'a').get_attribute('href')\n",
    "        \n",
    "        # формируем словарь с данными\n",
    "        element['order_id'] = num.text.strip()\n",
    "        element['obj_zak'] = obj_zak.strip()\n",
    "        element['price'] = price.strip()\n",
    "        element['customer'] = customer_name.strip()\n",
    "        element['order_url'] = order_url\n",
    "        element['customer_url'] = customer_url\n",
    "        \n",
    "        data.append(element)\n",
    "        \n",
    "    # клик на следующую страницу с поиском кнопки через CSS\n",
    "    next_page = browser.find_element(By.CSS_SELECTOR, \"a.paginator-button\")\n",
    "    browser.execute_script(\"return arguments[0].scrollIntoView(true);\", next_page)\n",
    "    time.sleep(1)\n",
    "    next_page.click()\n",
    "    time.sleep(5)\n",
    "\n",
    "    \n",
    "print(len(data))"
   ]
  },
  {
   "cell_type": "code",
   "execution_count": null,
   "id": "cae10644-48b2-4ccc-8bab-101334349ff4",
   "metadata": {
    "tags": []
   },
   "outputs": [],
   "source": [
    "data"
   ]
  },
  {
   "cell_type": "code",
   "execution_count": null,
   "id": "2bd6cd30-c55a-401f-9546-cbe559ce8a32",
   "metadata": {},
   "outputs": [],
   "source": []
  }
 ],
 "metadata": {
  "kernelspec": {
   "display_name": "Python 3 (ipykernel)",
   "language": "python",
   "name": "python3"
  },
  "language_info": {
   "codemirror_mode": {
    "name": "ipython",
    "version": 3
   },
   "file_extension": ".py",
   "mimetype": "text/x-python",
   "name": "python",
   "nbconvert_exporter": "python",
   "pygments_lexer": "ipython3",
   "version": "3.10.11"
  }
 },
 "nbformat": 4,
 "nbformat_minor": 5
}
