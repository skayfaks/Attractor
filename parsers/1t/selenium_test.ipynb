{
 "cells": [
  {
   "cell_type": "code",
   "execution_count": 14,
   "metadata": {},
   "outputs": [],
   "source": [
    "from selenium import webdriver\n",
    "from selenium.webdriver.common.by import By\n",
    "import time\n",
    "from datetime import date, timedelta\n",
    "from selenium.webdriver.chrome.service import Service\n",
    "from webdriver_manager.chrome import ChromeDriverManager\n",
    "from selenium.webdriver.chrome.options import Options\n",
    "from selenium.webdriver.support.ui import Select\n",
    "from selenium.webdriver.support.ui import WebDriverWait\n",
    "from selenium.webdriver.support import expected_conditions as EC\n",
    "from selenium.common.exceptions import TimeoutException\n",
    "\n"
   ]
  },
  {
   "cell_type": "markdown",
   "metadata": {},
   "source": [
    "парсим ВСЕ c ОКПД2 = 62,63. Это не совсем конструктивно, дабы нудно избавиться от кучи чуши связаной с закупкой ПО и прочим нерелевантным бредом) лечить будем путем более тщательного выбора ОКПД2 и замены ссылки (либо подстановки в ссылку значений)"
   ]
  },
  {
   "cell_type": "code",
   "execution_count": 10,
   "metadata": {},
   "outputs": [],
   "source": [
    "publish_date = date.today() - timedelta(days=1)\n",
    "# подставляем дату вчерашнего дня (пока не уточним какую надо точно)\n",
    "formatted_date = publish_date.strftime(\"%d-%m-%Y\")\n",
    "option = Options()\n",
    "option.add_argument(\"--disable-infobars\")\n",
    "s=Service(ChromeDriverManager().install())\n",
    "browser = webdriver.Chrome(service=s, options=option)\n",
    "browser.get('https://zakupki.gov.ru/epz/order/extendedsearch/results.html?morphology=on \\\n",
    "&search-filter=%D0%94%D0%B0%D1%82%D0%B5+%D1%80%D0%B0%D0%B7%D0%BC%D0%B5%D1%89%D0%B5%D0%BD%D0%B8%D1%8F&pageNumber=1&sortDirection=false \\\n",
    "    &recordsPerPage=_50&showLotsInfoHidden=false&savedSearchSettingsIdHidden=++++++++setting_order_lrw8g1vl&sortBy=UPDATE_DATE \\\n",
    "        &fz44=on&fz223=on&af=on&ca=on&selectedLaws=FZ44%2CFZ223&currencyIdGeneral=-1&publishDateFrom='+str(formatted_date)+'&okpd2IdsWithNested=on&okpd2Ids=8873937%2C8873938 \\\n",
    "            &okpd2IdsCodes=62%2C63&gws=%D0%92%D1%8B%D0%B1%D0%B5%D1%80%D0%B8%D1%82%D0%B5+%D1%82%D0%B8%D0%BF+%D0%B7%D0%B0%D0%BA%D1%83%D0%BF%D0%BA%D0%B8 \\\n",
    "                &OrderPlacementSmallBusinessSubject=on&OrderPlacementRnpData=on&OrderPlacementExecutionRequirement=on&orderPlacement94_0=0&orderPlacement94_1=0&orderPlacement94_2=0')\n",
    "\n",
    "try:\n",
    "    # Ожидаем появления модального окна с проклятым регионом\n",
    "    WebDriverWait(browser, 15).until(EC.presence_of_element_located((By.ID, 'region-select')))\n",
    "\n",
    "    # Найдите кнопку закрытия и нажмите на нее\n",
    "    close_button = browser.find_element(By.CSS_SELECTOR, \".btn-close.closePopUp\")\n",
    "    close_button.click()\n",
    "\n",
    "except TimeoutException:\n",
    "    # Если модальное окно не появилось в течение 10 секунд, просто продолжаем\n",
    "    pass\n",
    "\n",
    "\n",
    "time.sleep(2)\n",
    "share =  browser.find_element(By.CLASS_NAME,  'downLoad-search' ) #тут мы ицщем кнопку \"выгрузить результаты поиска\"\n",
    "share.click() #жмякаем ее\n",
    "time.sleep(2)\n",
    "checkbox = browser.find_element(By.XPATH, '//span[@class=\"dynatree-title\" and text()=\"Все параметры\"]/preceding-sibling::span[@class=\"dynatree-checkbox\"]')\n",
    "checkbox.click() #ставим чекбокс \"выбрать все\" в окне параметров загрузки \n",
    "button =  browser.find_element(By.ID,  'btn-primary' ).click() #жмем далее\n",
    "time.sleep(2) \n",
    "\n",
    "#тут мы жмем на ссылочки для скачивания csv по 500 резултатов поиска. их не больше 10 - поэтому такой цикл\n",
    "for i in range(1, 11):\n",
    "    xpath = f'/html/body/div[3]/div/div/div[3]/div[4]/div[2]/div/div[1]/div[{i}]/div/div[2]'\n",
    "    elements = browser.find_elements(By.XPATH, xpath)\n",
    "    for element in elements:\n",
    "        element.click()\n",
    "        time.sleep(5) # Пауза\n",
    "\n",
    "\n",
    "\n",
    "browser.implicitly_wait(20)\n",
    "browser.quit()"
   ]
  }
 ],
 "metadata": {
  "kernelspec": {
   "display_name": "ENW3_10",
   "language": "python",
   "name": "python3"
  },
  "language_info": {
   "codemirror_mode": {
    "name": "ipython",
    "version": 3
   },
   "file_extension": ".py",
   "mimetype": "text/x-python",
   "name": "python",
   "nbconvert_exporter": "python",
   "pygments_lexer": "ipython3",
   "version": "3.11.5"
  }
 },
 "nbformat": 4,
 "nbformat_minor": 2
}
