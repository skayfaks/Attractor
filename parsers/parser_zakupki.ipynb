{
 "cells": [
  {
   "cell_type": "code",
   "execution_count": null,
   "metadata": {},
   "outputs": [],
   "source": [
    "import requests\n",
    "import pandas as pd\n",
    "from bs4 import BeautifulSoup\n",
    "import re\n",
    "\n"
   ]
  },
  {
   "cell_type": "code",
   "execution_count": null,
   "metadata": {},
   "outputs": [],
   "source": [
    "df = pd.DataFrame({\n",
    "   'id':[],\n",
    "   'name':[],\n",
    "   'url':[],\n",
    "})"
   ]
  },
  {
   "cell_type": "code",
   "execution_count": null,
   "metadata": {},
   "outputs": [],
   "source": [
    "headers = {\n",
    "        'User-Agent': 'Mozilla/5.0 (Windows NT 10.0; Win64; x64) AppleWebKit/537.36 (KHTML, like Gecko) Chrome/118.0.0.0 YaBrowser/23.11.0.0 Safari/537.36'\n",
    "      }"
   ]
  },
  {
   "cell_type": "code",
   "execution_count": null,
   "metadata": {},
   "outputs": [],
   "source": [
    "def zakup_df (soup, data = df): \n",
    "    list_ = soup.find_all('div', {'class': 'col-8 pr-0'})\n",
    "    for i in list_:\n",
    "        quote = {}     \n",
    "        temp = i.find('div', attrs = {'registry-entry__header-mid__number'}).find('a').text\n",
    "        quote['id'] = re.findall(\"\\d+\", temp)[0]\n",
    "        try:\n",
    "               quote['name'] = i.find('div', attrs = {'registry-entry__body-value'}).text \n",
    "        except Exception:\n",
    "            quote['name'] = 'Нет названия'\n",
    "        quote['url'] = 'https://zakupki.gov.ru/' + i.find('div', attrs = {'registry-entry__header-mid__number'}).find('a').get('href')\n",
    "        df.loc[len(df)] = quote"
   ]
  },
  {
   "cell_type": "code",
   "execution_count": null,
   "metadata": {},
   "outputs": [],
   "source": [
    "for i in range(1, 960): #На сайте 50 страниц (1000 книг по 20 на странице)\n",
    "    url = 'https://zakupki.gov.ru/epz/order/extendedsearch/results.html?morphology=on&search-filter=Дате+размещения&pageNumber=' + str(i) + '&sortDirection=false&recordsPerPage=_50&showLotsInfoHidden=false&sortBy=UPDATE_DATE&fz44=on&fz223=on&af=on&ca=on&pc=on&pa=on&currencyIdGeneral=-1&publishDateFrom=01.01.2023&publishDateTo=27.01.2024&okpd2IdsWithNested=on&okpd2Ids=8873937%2C8873938&okpd2IdsCodes=62%2C63'\n",
    "    r = requests.get(url, headers = headers, timeout = 10)\n",
    "    soup = BeautifulSoup(r.content, 'html.parser')    \n",
    "    zakup_df(soup, df)  \n",
    "    "
   ]
  },
  {
   "cell_type": "code",
   "execution_count": null,
   "metadata": {},
   "outputs": [],
   "source": [
    "df.to_csv('file3.csv')"
   ]
  },
  {
   "cell_type": "code",
   "execution_count": null,
   "metadata": {},
   "outputs": [],
   "source": []
  },
  {
   "cell_type": "markdown",
   "metadata": {},
   "source": []
  }
 ],
 "metadata": {
  "kernelspec": {
   "display_name": "Python 3",
   "language": "python",
   "name": "python3"
  },
  "language_info": {
   "codemirror_mode": {
    "name": "ipython",
    "version": 3
   },
   "file_extension": ".py",
   "mimetype": "text/x-python",
   "name": "python",
   "nbconvert_exporter": "python",
   "pygments_lexer": "ipython3",
   "version": "3.11.3"
  }
 },
 "nbformat": 4,
 "nbformat_minor": 2
}
