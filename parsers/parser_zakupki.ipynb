{
 "cells": [
  {
   "cell_type": "code",
   "execution_count": 1,
   "metadata": {},
   "outputs": [],
   "source": [
    "import requests\n",
    "import pandas as pd\n",
    "from bs4 import BeautifulSoup\n",
    "import re\n",
    "import datetime"
   ]
  },
  {
   "cell_type": "code",
   "execution_count": 2,
   "metadata": {},
   "outputs": [],
   "source": [
    "df = pd.DataFrame({\n",
    "   'id':[],\n",
    "   'name':[],\n",
    "   'url':[],\n",
    "})"
   ]
  },
  {
   "cell_type": "code",
   "execution_count": 3,
   "metadata": {},
   "outputs": [],
   "source": [
    "headers = {\n",
    "        'User-Agent': 'Mozilla/5.0 (Windows NT 10.0; Win64; x64) AppleWebKit/537.36 (KHTML, like Gecko) Chrome/118.0.0.0 YaBrowser/23.11.0.0 Safari/537.36'\n",
    "      }"
   ]
  },
  {
   "cell_type": "code",
   "execution_count": 4,
   "metadata": {},
   "outputs": [],
   "source": [
    "def zakup_df (soup, data = df): \n",
    "    list_ = soup.find_all('div', {'class': 'col-8 pr-0'})\n",
    "    for i in list_:\n",
    "        quote = {}     \n",
    "        temp = i.find('div', attrs = {'registry-entry__header-mid__number'}).find('a').text\n",
    "        quote['id'] = re.findall(\"\\d+\", temp)[0]\n",
    "        try:\n",
    "               quote['name'] = i.find('div', attrs = {'registry-entry__body-value'}).text \n",
    "        except Exception:\n",
    "            quote['name'] = 'Нет названия'\n",
    "        quote['url'] = 'https://zakupki.gov.ru/' + i.find('div', attrs = {'registry-entry__header-mid__number'}).find('a').get('href')\n",
    "        df.loc[len(df)] = quote"
   ]
  },
  {
   "cell_type": "code",
   "execution_count": 5,
   "metadata": {},
   "outputs": [],
   "source": [
    "for i in range(1, 960): #На сайте 50 страниц (1000 книг по 20 на странице)\n",
    "    url = 'https://zakupki.gov.ru/epz/order/extendedsearch/results.html?morphology=on&search-filter=Дате+размещения&pageNumber=' + str(i) + '&sortDirection=false&recordsPerPage=_50&showLotsInfoHidden=false&sortBy=UPDATE_DATE&fz44=on&fz223=on&af=on&ca=on&pc=on&pa=on&currencyIdGeneral=-1&publishDateFrom=01.01.2023&publishDateTo=27.01.2024&okpd2IdsWithNested=on&okpd2Ids=8873937%2C8873938&okpd2IdsCodes=62%2C63'\n",
    "    r = requests.get(url, headers = headers, timeout = 10)\n",
    "    soup = BeautifulSoup(r.content, 'html.parser')    \n",
    "    zakup_df(soup, df)  \n",
    "    "
   ]
  },
  {
   "cell_type": "markdown",
   "metadata": {},
   "source": [
    "18 минут 20 сек парсилось"
   ]
  },
  {
   "cell_type": "code",
   "execution_count": 7,
   "metadata": {},
   "outputs": [],
   "source": [
    "import datetime\n",
    "current_time = datetime.datetime.now().strftime(\"%Y-%m-%d_%H-%M-%S\")\n",
    "filename = f\"file_{current_time}.csv\"\n",
    "df.to_csv(filename)"
   ]
  },
  {
   "cell_type": "code",
   "execution_count": 10,
   "metadata": {},
   "outputs": [
    {
     "data": {
      "text/html": [
       "<div>\n",
       "<style scoped>\n",
       "    .dataframe tbody tr th:only-of-type {\n",
       "        vertical-align: middle;\n",
       "    }\n",
       "\n",
       "    .dataframe tbody tr th {\n",
       "        vertical-align: top;\n",
       "    }\n",
       "\n",
       "    .dataframe thead th {\n",
       "        text-align: right;\n",
       "    }\n",
       "</style>\n",
       "<table border=\"1\" class=\"dataframe\">\n",
       "  <thead>\n",
       "    <tr style=\"text-align: right;\">\n",
       "      <th></th>\n",
       "      <th>id</th>\n",
       "      <th>name</th>\n",
       "      <th>url</th>\n",
       "    </tr>\n",
       "  </thead>\n",
       "  <tbody>\n",
       "    <tr>\n",
       "      <th>0</th>\n",
       "      <td>122200001024000004</td>\n",
       "      <td>Оказание информационных услуг с использованием...</td>\n",
       "      <td>https://zakupki.gov.ru//epz/order/notice/zk20/...</td>\n",
       "    </tr>\n",
       "    <tr>\n",
       "      <th>1</th>\n",
       "      <td>822200000224000005</td>\n",
       "      <td>Поставка электронного периодического справочника</td>\n",
       "      <td>https://zakupki.gov.ru//epz/order/notice/zk20/...</td>\n",
       "    </tr>\n",
       "    <tr>\n",
       "      <th>2</th>\n",
       "      <td>32413220504</td>\n",
       "      <td>Оказание услуг по технической и контентной под...</td>\n",
       "      <td>https://zakupki.gov.ru//epz/order/notice/notic...</td>\n",
       "    </tr>\n",
       "  </tbody>\n",
       "</table>\n",
       "</div>"
      ],
      "text/plain": [
       "                   id                                               name  \\\n",
       "0  122200001024000004  Оказание информационных услуг с использованием...   \n",
       "1  822200000224000005   Поставка электронного периодического справочника   \n",
       "2         32413220504  Оказание услуг по технической и контентной под...   \n",
       "\n",
       "                                                 url  \n",
       "0  https://zakupki.gov.ru//epz/order/notice/zk20/...  \n",
       "1  https://zakupki.gov.ru//epz/order/notice/zk20/...  \n",
       "2  https://zakupki.gov.ru//epz/order/notice/notic...  "
      ]
     },
     "execution_count": 10,
     "metadata": {},
     "output_type": "execute_result"
    }
   ],
   "source": [
    "data = pd.read_csv('./file_2024-01-28_22-24-03.csv', encoding='utf-8')\n",
    "data.drop(['Unnamed: 0'], axis = 1, inplace = True)\n",
    "data.head(3)"
   ]
  },
  {
   "cell_type": "code",
   "execution_count": 11,
   "metadata": {},
   "outputs": [
    {
     "data": {
      "text/plain": [
       "(47950, 3)"
      ]
     },
     "execution_count": 11,
     "metadata": {},
     "output_type": "execute_result"
    }
   ],
   "source": [
    "data.shape"
   ]
  }
 ],
 "metadata": {
  "kernelspec": {
   "display_name": "Python 3",
   "language": "python",
   "name": "python3"
  },
  "language_info": {
   "codemirror_mode": {
    "name": "ipython",
    "version": 3
   },
   "file_extension": ".py",
   "mimetype": "text/x-python",
   "name": "python",
   "nbconvert_exporter": "python",
   "pygments_lexer": "ipython3",
   "version": "3.10.0"
  }
 },
 "nbformat": 4,
 "nbformat_minor": 2
}
